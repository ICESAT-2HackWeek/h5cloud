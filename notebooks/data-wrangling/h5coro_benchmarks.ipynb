{
 "cells": [
  {
   "cell_type": "markdown",
   "id": "9d31a8ce-361a-4a8a-bcfa-edc5ad506cac",
   "metadata": {
    "user_expressions": []
   },
   "source": [
    "**1. List the bucket contents**"
   ]
  },
  {
   "cell_type": "code",
   "execution_count": 1,
   "id": "1653c297-ec92-4b6b-8a27-f7fa35186dd3",
   "metadata": {
    "tags": []
   },
   "outputs": [
    {
     "name": "stderr",
     "output_type": "stream",
     "text": [
      "/tmp/ipykernel_1989/1899447109.py:7: UserWarning: Shapely 2.0 is installed, but because PyGEOS is also installed, GeoPandas will still use PyGEOS by default for now. To force to use and test Shapely 2.0, you have to set the environment variable USE_PYGEOS=0. You can do this before starting the Python process, or in your code before importing geopandas:\n",
      "\n",
      "import os\n",
      "os.environ['USE_PYGEOS'] = '0'\n",
      "import geopandas\n",
      "\n",
      "In a future release, GeoPandas will switch to using Shapely by default. If you are using PyGEOS directly (calling PyGEOS functions on geometries from GeoPandas), this will then stop working and you are encouraged to migrate from PyGEOS to Shapely 2.0 (https://shapely.readthedocs.io/en/latest/migration_pygeos.html).\n",
      "  import geopandas as gpd\n"
     ]
    }
   ],
   "source": [
    "import os\n",
    "import sys\n",
    "from typing import Union, Dict, List\n",
    "\n",
    "import boto3\n",
    "\n",
    "import geopandas as gpd\n",
    "import numpy as np\n",
    "\n",
    "current = os.path.abspath('..')\n",
    "sys.path.append(current)\n",
    "\n",
    "#from helpers.dataset_lists import BEAM_GROUP\n",
    "from helpers.links import S3Links, glob_s3bucket\n",
    "import helpers.dataset_lists as dsl"
   ]
  },
  {
   "cell_type": "code",
   "execution_count": 2,
   "id": "d4019d58-51ab-4665-9109-436809758a18",
   "metadata": {
    "tags": []
   },
   "outputs": [],
   "source": [
    "s3 = boto3.resource('s3')\n",
    "\n",
    "bucket_name = \"nasa-cryo-scratch\"\n",
    "bucket = s3.Bucket(dsl.S3BUCKET.split(\"/\")[2])"
   ]
  },
  {
   "cell_type": "code",
   "execution_count": 3,
   "id": "94d6526d-6025-482f-93f0-2d961638c656",
   "metadata": {
    "scrolled": true,
    "tags": []
   },
   "outputs": [
    {
     "name": "stdout",
     "output_type": "stream",
     "text": [
      "s3.ObjectSummary(bucket_name='nasa-cryo-scratch', key='dzdt/utiaqvik.parquet')\n",
      "s3.ObjectSummary(bucket_name='nasa-cryo-scratch', key='h5cloud/benchmark_results/2023-08-10-201833_H5pyArrLen_original_results.csv')\n",
      "s3.ObjectSummary(bucket_name='nasa-cryo-scratch', key='h5cloud/benchmark_results/2023-08-10-202230_H5pyArrLen_h5repack_results.csv')\n",
      "s3.ObjectSummary(bucket_name='nasa-cryo-scratch', key='h5cloud/benchmark_results/2023-08-10-202931_XarrayArrLen_original_results.csv')\n",
      "s3.ObjectSummary(bucket_name='nasa-cryo-scratch', key='h5cloud/benchmark_results/2023-08-10-204033_XarrayArrLen_h5repack_results.csv')\n",
      "s3.ObjectSummary(bucket_name='nasa-cryo-scratch', key='h5cloud/benchmark_results/2023-08-10-204827_H5CoroArrLen_original_results.csv')\n",
      "s3.ObjectSummary(bucket_name='nasa-cryo-scratch', key='h5cloud/benchmark_results/2023-08-10-205013_H5CoroArrLen_h5repack_results.csv')\n",
      "s3.ObjectSummary(bucket_name='nasa-cryo-scratch', key='h5cloud/benchmark_results/2023-08-10-212257_H5DataFrameArrLen_original_results.csv')\n",
      "s3.ObjectSummary(bucket_name='nasa-cryo-scratch', key='h5cloud/benchmark_results/2023-08-10-212641_H5DataFrameArrLen_h5repack_results.csv')\n",
      "s3.ObjectSummary(bucket_name='nasa-cryo-scratch', key='h5cloud/benchmark_results/2023-08-10-225029_H5pyArrLen_original_results.csv')\n",
      "s3.ObjectSummary(bucket_name='nasa-cryo-scratch', key='h5cloud/benchmark_results/2023-08-10-225355_H5pyArrLen_h5repack_results.csv')\n",
      "s3.ObjectSummary(bucket_name='nasa-cryo-scratch', key='h5cloud/benchmark_results/2023-08-10-225822_XarrayArrLen_original_results.csv')\n",
      "s3.ObjectSummary(bucket_name='nasa-cryo-scratch', key='h5cloud/benchmark_results/2023-08-10-230425_XarrayArrLen_h5repack_results.csv')\n",
      "s3.ObjectSummary(bucket_name='nasa-cryo-scratch', key='h5cloud/benchmark_results/2023-08-10-230602_H5CoroArrLen_original_results.csv')\n",
      "s3.ObjectSummary(bucket_name='nasa-cryo-scratch', key='h5cloud/benchmark_results/2023-08-10-230738_H5CoroArrLen_h5repack_results.csv')\n",
      "s3.ObjectSummary(bucket_name='nasa-cryo-scratch', key='h5cloud/benchmark_results/2023-08-10-230942_H5DataFrameArrLen_original_results.csv')\n",
      "s3.ObjectSummary(bucket_name='nasa-cryo-scratch', key='h5cloud/benchmark_results/2023-08-10-231314_H5DataFrameArrLen_h5repack_results.csv')\n",
      "s3.ObjectSummary(bucket_name='nasa-cryo-scratch', key='h5cloud/geoparquet/ATL03_20181120182818_08110112_006_02.h5.gpq')\n",
      "s3.ObjectSummary(bucket_name='nasa-cryo-scratch', key='h5cloud/geoparquet/ATL03_20190219140808_08110212_006_02.h5.gpq')\n",
      "s3.ObjectSummary(bucket_name='nasa-cryo-scratch', key='h5cloud/geoparquet/ATL03_20200217204710_08110612_006_01.h5.gpq')\n",
      "s3.ObjectSummary(bucket_name='nasa-cryo-scratch', key='h5cloud/geoparquet/ATL03_20211114142614_08111312_006_01.h5.gpq')\n",
      "s3.ObjectSummary(bucket_name='nasa-cryo-scratch', key='h5cloud/geoparquet/ATL03_20230211164520_08111812_006_01.h5.gpq')\n",
      "s3.ObjectSummary(bucket_name='nasa-cryo-scratch', key='h5cloud/h5repack/ATL03_20181120182818_08110112_006_02_repacked.h5')\n",
      "s3.ObjectSummary(bucket_name='nasa-cryo-scratch', key='h5cloud/h5repack/ATL03_20190219140808_08110212_006_02_repacked.h5')\n",
      "s3.ObjectSummary(bucket_name='nasa-cryo-scratch', key='h5cloud/h5repack/ATL03_20200217204710_08110612_006_01_repacked.h5')\n",
      "s3.ObjectSummary(bucket_name='nasa-cryo-scratch', key='h5cloud/h5repack/ATL03_20211114142614_08111312_006_01_repacked.h5')\n",
      "s3.ObjectSummary(bucket_name='nasa-cryo-scratch', key='h5cloud/h5repack/ATL03_20230211164520_08111812_006_01_repacked.h5')\n",
      "s3.ObjectSummary(bucket_name='nasa-cryo-scratch', key='h5cloud/kerchunk-original/original_ATL03_20181120182818_08110112_006_02.json')\n",
      "s3.ObjectSummary(bucket_name='nasa-cryo-scratch', key='h5cloud/kerchunk-original/original_ATL03_20190219140808_08110212_006_02.json')\n",
      "s3.ObjectSummary(bucket_name='nasa-cryo-scratch', key='h5cloud/kerchunk-original/original_ATL03_20200217204710_08110612_006_01.json')\n",
      "s3.ObjectSummary(bucket_name='nasa-cryo-scratch', key='h5cloud/kerchunk-original/original_ATL03_20211114142614_08111312_006_01.json')\n",
      "s3.ObjectSummary(bucket_name='nasa-cryo-scratch', key='h5cloud/kerchunk-original/original_ATL03_20230211164520_08111812_006_01.json')\n",
      "s3.ObjectSummary(bucket_name='nasa-cryo-scratch', key='h5cloud/kerchunk-repacked/h5repack_ATL03_20181120182818_08110112_006_02_repacked.json')\n",
      "s3.ObjectSummary(bucket_name='nasa-cryo-scratch', key='h5cloud/kerchunk-repacked/h5repack_ATL03_20190219140808_08110212_006_02_repacked.json')\n",
      "s3.ObjectSummary(bucket_name='nasa-cryo-scratch', key='h5cloud/kerchunk-repacked/h5repack_ATL03_20200217204710_08110612_006_01_repacked.json')\n",
      "s3.ObjectSummary(bucket_name='nasa-cryo-scratch', key='h5cloud/kerchunk-repacked/h5repack_ATL03_20211114142614_08111312_006_01_repacked.json')\n",
      "s3.ObjectSummary(bucket_name='nasa-cryo-scratch', key='h5cloud/kerchunk-repacked/h5repack_ATL03_20230211164520_08111812_006_01_repacked.json')\n",
      "s3.ObjectSummary(bucket_name='nasa-cryo-scratch', key='h5cloud/original/ATL03_20181120182818_08110112_006_02.h5')\n",
      "s3.ObjectSummary(bucket_name='nasa-cryo-scratch', key='h5cloud/original/ATL03_20190219140808_08110212_006_02.h5')\n",
      "s3.ObjectSummary(bucket_name='nasa-cryo-scratch', key='h5cloud/original/ATL03_20200217204710_08110612_006_01.h5')\n",
      "s3.ObjectSummary(bucket_name='nasa-cryo-scratch', key='h5cloud/original/ATL03_20211114142614_08111312_006_01.h5')\n",
      "s3.ObjectSummary(bucket_name='nasa-cryo-scratch', key='h5cloud/original/ATL03_20230211164520_08111812_006_01.h5')\n",
      "s3.ObjectSummary(bucket_name='nasa-cryo-scratch', key='sliderule-example/grandmesa.parquet')\n"
     ]
    }
   ],
   "source": [
    "for my_bucket_object in bucket.objects.all():\n",
    "    print(my_bucket_object)"
   ]
  },
  {
   "cell_type": "markdown",
   "id": "56774b56-5513-446b-8292-55b4f215ec27",
   "metadata": {
    "scrolled": true,
    "tags": [],
    "user_expressions": []
   },
   "source": [
    "**2. Create lists of default and repacked hdf5 keys**"
   ]
  },
  {
   "cell_type": "code",
   "execution_count": 4,
   "id": "bebea341-2e63-47d4-b170-df92c62a46ab",
   "metadata": {
    "tags": []
   },
   "outputs": [
    {
     "data": {
      "text/plain": [
       "['geoparquet',\n",
       " 'h5repack',\n",
       " 'kerchunk-original',\n",
       " 'kerchunk-repacked',\n",
       " 'original']"
      ]
     },
     "execution_count": 4,
     "metadata": {},
     "output_type": "execute_result"
    }
   ],
   "source": [
    "s3_link = S3Links()\n",
    "s3_link.formats"
   ]
  },
  {
   "cell_type": "code",
   "execution_count": 5,
   "id": "08915948-7a01-4a4c-8760-35dc34d60d91",
   "metadata": {
    "tags": []
   },
   "outputs": [
    {
     "data": {
      "text/plain": [
       "['nasa-cryo-scratch/h5cloud/original/ATL03_20181120182818_08110112_006_02.h5',\n",
       " 'nasa-cryo-scratch/h5cloud/original/ATL03_20190219140808_08110212_006_02.h5',\n",
       " 'nasa-cryo-scratch/h5cloud/original/ATL03_20200217204710_08110612_006_01.h5',\n",
       " 'nasa-cryo-scratch/h5cloud/original/ATL03_20211114142614_08111312_006_01.h5',\n",
       " 'nasa-cryo-scratch/h5cloud/original/ATL03_20230211164520_08111812_006_01.h5']"
      ]
     },
     "execution_count": 5,
     "metadata": {},
     "output_type": "execute_result"
    }
   ],
   "source": [
    "default_key = s3_link.get_links_by_format('original')\n",
    "default_key = [k.split('s3://')[1] for k in default_key]\n",
    "default_key"
   ]
  },
  {
   "cell_type": "code",
   "execution_count": 6,
   "id": "6eb0aa97-5162-474f-a61f-c527d128fbc8",
   "metadata": {
    "tags": []
   },
   "outputs": [
    {
     "data": {
      "text/plain": [
       "['nasa-cryo-scratch/h5cloud/h5repack/ATL03_20181120182818_08110112_006_02_repacked.h5',\n",
       " 'nasa-cryo-scratch/h5cloud/h5repack/ATL03_20190219140808_08110212_006_02_repacked.h5',\n",
       " 'nasa-cryo-scratch/h5cloud/h5repack/ATL03_20200217204710_08110612_006_01_repacked.h5',\n",
       " 'nasa-cryo-scratch/h5cloud/h5repack/ATL03_20211114142614_08111312_006_01_repacked.h5',\n",
       " 'nasa-cryo-scratch/h5cloud/h5repack/ATL03_20230211164520_08111812_006_01_repacked.h5']"
      ]
     },
     "execution_count": 6,
     "metadata": {},
     "output_type": "execute_result"
    }
   ],
   "source": [
    "repack_key = s3_link.get_links_by_format('h5repack')\n",
    "repack_key = [k.split('s3://')[1] for k in repack_key]\n",
    "repack_key"
   ]
  },
  {
   "cell_type": "markdown",
   "id": "cfe9c6d3-e8aa-44bc-99f1-0e7dc06d8c6f",
   "metadata": {
    "user_expressions": []
   },
   "source": [
    "**Access data with h5coro**\n",
    "\n",
    "Code taken from : [https://github.com/ICESat2-SlideRule/h5coro/](https://github.com/ICESat2-SlideRule/h5coro/)"
   ]
  },
  {
   "cell_type": "code",
   "execution_count": 7,
   "id": "40cfd938-be87-4fb7-8b5c-8dd937aa948a",
   "metadata": {
    "scrolled": true,
    "tags": []
   },
   "outputs": [],
   "source": [
    "try: \n",
    "    from h5coro import h5coro, s3driver, filedriver\n",
    "except:\n",
    "    !mamba install -c conda-forge h5coro --yes\n",
    "    from h5coro import h5coro, s3driver, filedriver"
   ]
  },
  {
   "cell_type": "code",
   "execution_count": 8,
   "id": "dce734f3-bf41-4dd1-9f4f-3db68f6aceb2",
   "metadata": {
    "tags": []
   },
   "outputs": [
    {
     "data": {
      "text/plain": [
       "['gt1l/heights/h_ph']"
      ]
     },
     "execution_count": 8,
     "metadata": {},
     "output_type": "execute_result"
    }
   ],
   "source": [
    "datasets = [dsl.ONE_BEAM_GROUP[3]]\n",
    "datasets"
   ]
  },
  {
   "cell_type": "code",
   "execution_count": 9,
   "id": "c2f36503-2a32-45e7-8a5d-5d2d890bdf26",
   "metadata": {
    "tags": []
   },
   "outputs": [],
   "source": [
    "def h5coro_load_subset_aoi(s3_uri: str, datasets: List[Union[str, Dict]], bounds: List=None):\n",
    "    \"\"\"\n",
    "    Parameters:\n",
    "      s3_uri: string path to hdf5 dataset in an S3 bucket\n",
    "      datasets: list of string dataset names or list of dataset Dicts\n",
    "      bounds: (Optional) list of bounding box coordinates [llx, lly, urx, ury]\n",
    "      \n",
    "    Returns: list of value array lengths for read datasets (not including lat/lon unless passed in)\n",
    "    \"\"\"\n",
    "    h5coro.config(errorChecking=True, verbose=False, enableAttributes=False)\n",
    "    \n",
    "    # find indices based on AOI bounds\n",
    "    if bounds:\n",
    "        h5obj = h5coro.H5Coro(s3_uri, s3driver.S3Driver)\n",
    "        h5obj.readDatasets(datasets=[dsl.ONE_BEAM_GROUP[4], dsl.ONE_BEAM_GROUP[5]], block=True)\n",
    "        lat = h5obj[dsl.ONE_BEAM_GROUP[4]].values\n",
    "        lon = h5obj[dsl.ONE_BEAM_GROUP[5]].values\n",
    "\n",
    "        ph_in_aoi = np.where((lat > bounds[1]) & (lat < bounds[3]) \\\n",
    "                             & (lon > bounds[0]) & (lon < bounds[2]))[0]\n",
    "\n",
    "        idx_start = ph_in_aoi[0]\n",
    "        idx_end = ph_in_aoi[-1]\n",
    "\n",
    "        # access datasets\n",
    "        datasets = [{\"dataset\": k, 'startrow': idx_start, 'numrows': idx_end} for k in datasets]\n",
    "        \n",
    "    h5obj = h5coro.H5Coro(s3_uri, s3driver.S3Driver)   \n",
    "    h5obj.readDatasets(datasets=datasets, block=True)\n",
    "    \n",
    "    # return list of value array lengths for each dataset\n",
    "    return [len(h5obj[ds].values) for ds in h5obj.keys()]"
   ]
  },
  {
   "cell_type": "code",
   "execution_count": 10,
   "id": "2d38f9d8-278a-4e02-a103-c462e3bd59f4",
   "metadata": {
    "tags": []
   },
   "outputs": [],
   "source": [
    "# read in the area of interest geojson\n",
    "aoi = gpd.read_file('/home/jovyan/h5cloud/notebooks/antarctic_aoi.geojson', crs='EPSG:4326')\n",
    "bounds = [v for v in aoi.bounds.values[0]] \n"
   ]
  },
  {
   "cell_type": "code",
   "execution_count": 11,
   "id": "16097ded-0147-4007-8fcc-bdb9db15c5a7",
   "metadata": {
    "tags": []
   },
   "outputs": [
    {
     "data": {
      "text/plain": [
       "[13227693]"
      ]
     },
     "execution_count": 11,
     "metadata": {},
     "output_type": "execute_result"
    }
   ],
   "source": [
    "subset_test = h5coro_load_subset_aoi(default_key[0], datasets, bounds)\n",
    "subset_test"
   ]
  },
  {
   "cell_type": "code",
   "execution_count": 12,
   "id": "1769d0b9-f5b0-499b-8dae-21cd3f8fbaf3",
   "metadata": {
    "tags": []
   },
   "outputs": [
    {
     "data": {
      "text/plain": [
       "[46484912]"
      ]
     },
     "execution_count": 12,
     "metadata": {},
     "output_type": "execute_result"
    }
   ],
   "source": [
    "no_subset_test = h5coro_load_subset_aoi(default_key[0], datasets)\n",
    "no_subset_test"
   ]
  },
  {
   "cell_type": "code",
   "execution_count": null,
   "id": "4c1a00d5-571c-42c7-89ea-6816453642f0",
   "metadata": {
    "tags": []
   },
   "outputs": [],
   "source": [
    "# default_benchmark = {}\n",
    "# for key in default_key:\n",
    "#     print(key)\n",
    "#     default_benchmark[key] = %timeit -n2 -r2 -o h5coro_load(key, datasets)"
   ]
  },
  {
   "cell_type": "code",
   "execution_count": null,
   "id": "9f293a7e-d824-43b5-b94d-13efce47ce2f",
   "metadata": {
    "tags": []
   },
   "outputs": [],
   "source": [
    "# default_benchmark"
   ]
  },
  {
   "cell_type": "code",
   "execution_count": null,
   "id": "aeb9f2e9-15a6-4df1-b69e-c9ce37748d1a",
   "metadata": {
    "tags": []
   },
   "outputs": [],
   "source": [
    "# repack_benchmark = {}\n",
    "# for key in repack_key:\n",
    "#     print(key)\n",
    "#     repack_benchmark[key] = %timeit -n2 -r2 -o h5coro_load(key, datasets)"
   ]
  }
 ],
 "metadata": {
  "kernelspec": {
   "display_name": "Python 3 (ipykernel)",
   "language": "python",
   "name": "python3"
  },
  "language_info": {
   "codemirror_mode": {
    "name": "ipython",
    "version": 3
   },
   "file_extension": ".py",
   "mimetype": "text/x-python",
   "name": "python",
   "nbconvert_exporter": "python",
   "pygments_lexer": "ipython3",
   "version": "3.10.12"
  }
 },
 "nbformat": 4,
 "nbformat_minor": 5
}
