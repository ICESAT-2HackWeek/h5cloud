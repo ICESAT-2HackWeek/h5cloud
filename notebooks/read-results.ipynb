{
 "cells": [
  {
   "cell_type": "code",
   "execution_count": 5,
   "id": "8398e388-92a9-4275-b6ce-c47e5171ed84",
   "metadata": {
    "tags": []
   },
   "outputs": [],
   "source": [
    "import seaborn as sns\n",
    "import sys\n",
    "import os\n",
    "current = os.path.abspath('..')\n",
    "sys.path.append(current)\n",
    "from helpers import read_results"
   ]
  },
  {
   "cell_type": "code",
   "execution_count": 22,
   "id": "216c07e0-cc5c-4e02-8a78-c172ba6d7d83",
   "metadata": {
    "tags": []
   },
   "outputs": [
    {
     "data": {
      "text/html": [
       "<div>\n",
       "<style scoped>\n",
       "    .dataframe tbody tr th:only-of-type {\n",
       "        vertical-align: middle;\n",
       "    }\n",
       "\n",
       "    .dataframe tbody tr th {\n",
       "        vertical-align: top;\n",
       "    }\n",
       "\n",
       "    .dataframe thead th {\n",
       "        text-align: right;\n",
       "    }\n",
       "</style>\n",
       "<table border=\"1\" class=\"dataframe\">\n",
       "  <thead>\n",
       "    <tr style=\"text-align: right;\">\n",
       "      <th></th>\n",
       "      <th>Name</th>\n",
       "      <th>Data Format</th>\n",
       "      <th>Run Time</th>\n",
       "      <th>Result</th>\n",
       "    </tr>\n",
       "  </thead>\n",
       "  <tbody>\n",
       "    <tr>\n",
       "      <th>0</th>\n",
       "      <td>H5pyArrMean</td>\n",
       "      <td>original</td>\n",
       "      <td>111.043289</td>\n",
       "      <td>1015.982032</td>\n",
       "    </tr>\n",
       "    <tr>\n",
       "      <th>1</th>\n",
       "      <td>H5pyArrMean</td>\n",
       "      <td>h5repack</td>\n",
       "      <td>196.246487</td>\n",
       "      <td>1015.982032</td>\n",
       "    </tr>\n",
       "    <tr>\n",
       "      <th>2</th>\n",
       "      <td>XarrayArrMean</td>\n",
       "      <td>original</td>\n",
       "      <td>372.126884</td>\n",
       "      <td>1015.982483</td>\n",
       "    </tr>\n",
       "    <tr>\n",
       "      <th>5</th>\n",
       "      <td>XarrayArrMean</td>\n",
       "      <td>h5repack</td>\n",
       "      <td>520.851295</td>\n",
       "      <td>1015.982483</td>\n",
       "    </tr>\n",
       "    <tr>\n",
       "      <th>6</th>\n",
       "      <td>H5CoroArrMean</td>\n",
       "      <td>original</td>\n",
       "      <td>72.435367</td>\n",
       "      <td>1015.982032</td>\n",
       "    </tr>\n",
       "    <tr>\n",
       "      <th>8</th>\n",
       "      <td>H5CoroArrMean</td>\n",
       "      <td>h5repack</td>\n",
       "      <td>50.173250</td>\n",
       "      <td>1015.982032</td>\n",
       "    </tr>\n",
       "    <tr>\n",
       "      <th>10</th>\n",
       "      <td>H5DataFrameArrMean</td>\n",
       "      <td>original</td>\n",
       "      <td>61.616208</td>\n",
       "      <td>1015.982900</td>\n",
       "    </tr>\n",
       "    <tr>\n",
       "      <th>12</th>\n",
       "      <td>H5DataFrameArrMean</td>\n",
       "      <td>h5repack</td>\n",
       "      <td>182.140856</td>\n",
       "      <td>1015.982900</td>\n",
       "    </tr>\n",
       "    <tr>\n",
       "      <th>13</th>\n",
       "      <td>XarrayArrMean</td>\n",
       "      <td>kerchunk-original</td>\n",
       "      <td>74.610242</td>\n",
       "      <td>1015.982032</td>\n",
       "    </tr>\n",
       "    <tr>\n",
       "      <th>14</th>\n",
       "      <td>XarrayArrMean</td>\n",
       "      <td>kerchunk-repacked</td>\n",
       "      <td>79.412478</td>\n",
       "      <td>1015.982032</td>\n",
       "    </tr>\n",
       "    <tr>\n",
       "      <th>15</th>\n",
       "      <td>H5pyArrMean</td>\n",
       "      <td>original</td>\n",
       "      <td>101.396715</td>\n",
       "      <td>1015.982032</td>\n",
       "    </tr>\n",
       "    <tr>\n",
       "      <th>16</th>\n",
       "      <td>H5pyArrMean</td>\n",
       "      <td>h5repack</td>\n",
       "      <td>195.845019</td>\n",
       "      <td>1015.982032</td>\n",
       "    </tr>\n",
       "    <tr>\n",
       "      <th>17</th>\n",
       "      <td>XarrayArrMean</td>\n",
       "      <td>original</td>\n",
       "      <td>378.960701</td>\n",
       "      <td>1015.982483</td>\n",
       "    </tr>\n",
       "    <tr>\n",
       "      <th>18</th>\n",
       "      <td>XarrayArrMean</td>\n",
       "      <td>h5repack</td>\n",
       "      <td>562.993566</td>\n",
       "      <td>1015.982483</td>\n",
       "    </tr>\n",
       "    <tr>\n",
       "      <th>19</th>\n",
       "      <td>H5CoroArrMean</td>\n",
       "      <td>original</td>\n",
       "      <td>92.391303</td>\n",
       "      <td>1015.982032</td>\n",
       "    </tr>\n",
       "    <tr>\n",
       "      <th>20</th>\n",
       "      <td>H5CoroArrMean</td>\n",
       "      <td>h5repack</td>\n",
       "      <td>58.024622</td>\n",
       "      <td>1015.982032</td>\n",
       "    </tr>\n",
       "    <tr>\n",
       "      <th>21</th>\n",
       "      <td>H5DataFrameArrMean</td>\n",
       "      <td>original</td>\n",
       "      <td>123.342232</td>\n",
       "      <td>1015.982900</td>\n",
       "    </tr>\n",
       "    <tr>\n",
       "      <th>22</th>\n",
       "      <td>H5DataFrameArrMean</td>\n",
       "      <td>h5repack</td>\n",
       "      <td>158.450693</td>\n",
       "      <td>1015.982900</td>\n",
       "    </tr>\n",
       "    <tr>\n",
       "      <th>23</th>\n",
       "      <td>XarrayArrMean</td>\n",
       "      <td>kerchunk-original</td>\n",
       "      <td>68.539239</td>\n",
       "      <td>1015.982032</td>\n",
       "    </tr>\n",
       "    <tr>\n",
       "      <th>24</th>\n",
       "      <td>XarrayArrMean</td>\n",
       "      <td>kerchunk-repacked</td>\n",
       "      <td>55.460595</td>\n",
       "      <td>1015.982032</td>\n",
       "    </tr>\n",
       "  </tbody>\n",
       "</table>\n",
       "</div>"
      ],
      "text/plain": [
       "                  Name        Data Format    Run Time       Result\n",
       "0          H5pyArrMean           original  111.043289  1015.982032\n",
       "1          H5pyArrMean           h5repack  196.246487  1015.982032\n",
       "2        XarrayArrMean           original  372.126884  1015.982483\n",
       "5        XarrayArrMean           h5repack  520.851295  1015.982483\n",
       "6        H5CoroArrMean           original   72.435367  1015.982032\n",
       "8        H5CoroArrMean           h5repack   50.173250  1015.982032\n",
       "10  H5DataFrameArrMean           original   61.616208  1015.982900\n",
       "12  H5DataFrameArrMean           h5repack  182.140856  1015.982900\n",
       "13       XarrayArrMean  kerchunk-original   74.610242  1015.982032\n",
       "14       XarrayArrMean  kerchunk-repacked   79.412478  1015.982032\n",
       "15         H5pyArrMean           original  101.396715  1015.982032\n",
       "16         H5pyArrMean           h5repack  195.845019  1015.982032\n",
       "17       XarrayArrMean           original  378.960701  1015.982483\n",
       "18       XarrayArrMean           h5repack  562.993566  1015.982483\n",
       "19       H5CoroArrMean           original   92.391303  1015.982032\n",
       "20       H5CoroArrMean           h5repack   58.024622  1015.982032\n",
       "21  H5DataFrameArrMean           original  123.342232  1015.982900\n",
       "22  H5DataFrameArrMean           h5repack  158.450693  1015.982900\n",
       "23       XarrayArrMean  kerchunk-original   68.539239  1015.982032\n",
       "24       XarrayArrMean  kerchunk-repacked   55.460595  1015.982032"
      ]
     },
     "execution_count": 22,
     "metadata": {},
     "output_type": "execute_result"
    }
   ],
   "source": [
    "# Usage:\n",
    "bucket = \"nasa-cryo-scratch\"\n",
    "results_directory = \"h5cloud/benchmark_results/2023-08-11-1\"\n",
    "df = read_results.concatenate_csv_from_s3(bucket, prefix=results_directory)\n",
    "filtered_df = df[df['Name'].str.contains('ArrMean')]\n",
    "filtered_df"
   ]
  },
  {
   "cell_type": "code",
   "execution_count": 23,
   "id": "68f79b39-1b96-4dc3-9abf-7f392f9e42bb",
   "metadata": {
    "tags": []
   },
   "outputs": [
    {
     "name": "stdout",
     "output_type": "stream",
     "text": [
      "                 Name        Data Format       Result    Run Time\n",
      "0       H5CoroArrMean           h5repack  1015.982032   54.098936\n",
      "1       H5CoroArrMean           original  1015.982032   82.413335\n",
      "2  H5DataFrameArrMean           h5repack  1015.982900  170.295775\n",
      "3  H5DataFrameArrMean           original  1015.982900   92.479220\n",
      "4         H5pyArrMean           h5repack  1015.982032  196.045753\n",
      "5         H5pyArrMean           original  1015.982032  106.220002\n",
      "6       XarrayArrMean           h5repack  1015.982483  541.922431\n",
      "7       XarrayArrMean  kerchunk-original  1015.982032   71.574740\n",
      "8       XarrayArrMean  kerchunk-repacked  1015.982032   67.436537\n",
      "9       XarrayArrMean           original  1015.982483  375.543792\n"
     ]
    }
   ],
   "source": [
    "# Step 3: Use the groupby method to group and compute the mean\n",
    "grouped = filtered_df.groupby(['Name', 'Data Format', 'Result'])['Run Time'].mean().reset_index()\n",
    "print(grouped)"
   ]
  },
  {
   "cell_type": "code",
   "execution_count": 24,
   "id": "b17dfb0c-201a-4376-8501-1709a6015363",
   "metadata": {
    "tags": []
   },
   "outputs": [
    {
     "data": {
      "text/plain": [
       "<AxesSubplot: xlabel='Name', ylabel='Run Time'>"
      ]
     },
     "execution_count": 24,
     "metadata": {},
     "output_type": "execute_result"
    },
    {
     "data": {
      "image/png": "[encoded data removed]",
      "text/plain": [
       "<Figure size 1300x800 with 1 Axes>"
      ]
     },
     "metadata": {},
     "output_type": "display_data"
    }
   ],
   "source": [
    "sns.set(rc={'figure.figsize':(13,8)})\n",
    "sns.barplot(data=grouped, x=\"Name\", y=\"Run Time\", hue=\"Data Format\")"
   ]
  },
  {
   "cell_type": "code",
   "execution_count": null,
   "id": "efa60d61-5605-4b0a-8e45-a74eed4ba515",
   "metadata": {},
   "outputs": [],
   "source": []
  }
 ],
 "metadata": {
  "kernelspec": {
   "display_name": "Python 3 (ipykernel)",
   "language": "python",
   "name": "python3"
  },
  "language_info": {
   "codemirror_mode": {
    "name": "ipython",
    "version": 3
   },
   "file_extension": ".py",
   "mimetype": "text/x-python",
   "name": "python",
   "nbconvert_exporter": "python",
   "pygments_lexer": "ipython3",
   "version": "3.10.12"
  }
 },
 "nbformat": 4,
 "nbformat_minor": 5
}
