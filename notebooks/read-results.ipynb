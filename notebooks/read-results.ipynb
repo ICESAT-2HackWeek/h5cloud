{
 "cells": [
  {
   "cell_type": "code",
   "execution_count": 9,
   "id": "8398e388-92a9-4275-b6ce-c47e5171ed84",
   "metadata": {
    "tags": []
   },
   "outputs": [],
   "source": [
    "import sys\n",
    "import os\n",
    "current = os.path.abspath('..')\n",
    "sys.path.append(current)\n",
    "from helpers import read_results"
   ]
  },
  {
   "cell_type": "code",
   "execution_count": 16,
   "id": "216c07e0-cc5c-4e02-8a78-c172ba6d7d83",
   "metadata": {
    "tags": []
   },
   "outputs": [
    {
     "name": "stdout",
     "output_type": "stream",
     "text": [
      "                 Name        Data Format    Run Time     Result\n",
      "0          H5pyArrLen           original  100.231541  338294671\n",
      "1          H5pyArrLen           h5repack  205.305416  338294671\n",
      "2        XarrayArrLen           original  280.749217  338294671\n",
      "3        XarrayArrLen           h5repack  365.842791  338294671\n",
      "4        H5CoroArrLen           original   81.847893  338294671\n",
      "5        H5CoroArrLen           h5repack   96.678821  338294671\n",
      "6   H5DataFrameArrLen           original  128.802480  338294671\n",
      "7   H5DataFrameArrLen           h5repack  223.652452  338294671\n",
      "8          H5pyArrLen           original  113.253822  338294671\n",
      "9          H5pyArrLen           h5repack  205.144924  338294671\n",
      "10       XarrayArrLen           original  267.638784  338294671\n",
      "11       XarrayArrLen           h5repack  362.815075  338294671\n",
      "12       H5CoroArrLen           original   96.815976  338294671\n",
      "13       H5CoroArrLen           h5repack   95.291875  338294671\n",
      "14  H5DataFrameArrLen           original  124.688644  338294671\n",
      "15  H5DataFrameArrLen           h5repack  211.367465  338294671\n",
      "16       XarrayArrLen  kerchunk-original   71.811118  338294671\n",
      "17       XarrayArrLen  kerchunk-repacked   67.226471  338294671\n"
     ]
    }
   ],
   "source": [
    "# Usage:\n",
    "bucket = \"nasa-cryo-scratch\"\n",
    "results_directory = \"h5cloud/benchmark_results\"\n",
    "df = read_results.concatenate_csv_from_s3(bucket, prefix=results_directory)\n",
    "print(df)"
   ]
  },
  {
   "cell_type": "code",
   "execution_count": null,
   "id": "8b794a93-d5d2-4e25-b60d-643b6ac73ed0",
   "metadata": {},
   "outputs": [],
   "source": []
  }
 ],
 "metadata": {
  "kernelspec": {
   "display_name": "Python 3 (ipykernel)",
   "language": "python",
   "name": "python3"
  },
  "language_info": {
   "codemirror_mode": {
    "name": "ipython",
    "version": 3
   },
   "file_extension": ".py",
   "mimetype": "text/x-python",
   "name": "python",
   "nbconvert_exporter": "python",
   "pygments_lexer": "ipython3",
   "version": "3.10.12"
  }
 },
 "nbformat": 4,
 "nbformat_minor": 5
}
