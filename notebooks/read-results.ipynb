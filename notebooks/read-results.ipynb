{
 "cells": [
  {
   "cell_type": "code",
   "execution_count": 9,
   "id": "8398e388-92a9-4275-b6ce-c47e5171ed84",
   "metadata": {
    "tags": []
   },
   "outputs": [],
   "source": [
    "import sys\n",
    "import os\n",
    "current = os.path.abspath('..')\n",
    "sys.path.append(current)\n",
    "from helpers import read_results"
   ]
  },
  {
   "cell_type": "code",
   "execution_count": 10,
   "id": "216c07e0-cc5c-4e02-8a78-c172ba6d7d83",
   "metadata": {
    "tags": []
   },
   "outputs": [
    {
     "name": "stdout",
     "output_type": "stream",
     "text": [
      "           Name Data Format    Run Time     Result\n",
      "0    H5pyArrLen    original  100.231541  338294671\n",
      "1    H5pyArrLen    h5repack  205.305416  338294671\n",
      "2  XarrayArrLen    original  280.749217  338294671\n"
     ]
    }
   ],
   "source": [
    "# Usage:\n",
    "bucket = \"nasa-cryo-scratch\"\n",
    "results_directory = \"h5cloud/benchmark_results\"\n",
    "df = read_results.concatenate_csv_from_s3(bucket, prefix=results_directory)\n",
    "print(df)"
   ]
  }
 ],
 "metadata": {
  "kernelspec": {
   "display_name": "Python 3 (ipykernel)",
   "language": "python",
   "name": "python3"
  },
  "language_info": {
   "codemirror_mode": {
    "name": "ipython",
    "version": 3
   },
   "file_extension": ".py",
   "mimetype": "text/x-python",
   "name": "python",
   "nbconvert_exporter": "python",
   "pygments_lexer": "ipython3",
   "version": "3.10.12"
  }
 },
 "nbformat": 4,
 "nbformat_minor": 5
}
