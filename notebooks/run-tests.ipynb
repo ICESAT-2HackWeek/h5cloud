{
 "cells": [
  {
   "cell_type": "code",
   "execution_count": 1,
   "id": "3c51900a-3942-4767-a558-86fd5a6f9d0e",
   "metadata": {
    "tags": []
   },
   "outputs": [],
   "source": [
    "%load_ext autoreload\n",
    "%autoreload \n",
    "\n",
    "import sys\n",
    "import os\n",
    "current = os.path.abspath('..')\n",
    "sys.path.append(current)\n",
    "from h5tests.h5py_arr_mean import H5pyArrMean\n",
    "from h5tests.xarray_arr_mean import XarrayArrMean\n",
    "from h5tests.h5coro_arr_mean import H5CoroArrMean\n",
    "from h5tests.h5_data_frame_arr_mean import H5DataFrameArrMean\n",
    "from helpers import read_results"
   ]
  },
  {
   "cell_type": "code",
   "execution_count": 2,
   "id": "2e86692a-674e-4567-8b6a-180ad20c8e4c",
   "metadata": {
    "tags": []
   },
   "outputs": [
    {
     "data": {
      "text/plain": [
       "(1015.9820315206697, 117.31651091575623)"
      ]
     },
     "execution_count": 2,
     "metadata": {},
     "output_type": "execute_result"
    }
   ],
   "source": [
    "test = H5pyArrMean('original')\n",
    "test.run()"
   ]
  },
  {
   "cell_type": "code",
   "execution_count": 3,
   "id": "f9b5f29c-c109-4d57-8d4a-b868d99b8a99",
   "metadata": {},
   "outputs": [
    {
     "data": {
      "text/plain": [
       "(1015.9820315206697, 196.40921473503113)"
      ]
     },
     "execution_count": 3,
     "metadata": {},
     "output_type": "execute_result"
    }
   ],
   "source": [
    "test = H5pyArrMean('h5repack')\n",
    "test.run()"
   ]
  },
  {
   "cell_type": "code",
   "execution_count": 4,
   "id": "319a1cf9-16b4-401d-8a28-b38353c4375d",
   "metadata": {
    "tags": []
   },
   "outputs": [
    {
     "data": {
      "text/plain": [
       "(1015.9824829101562, 380.6561679840088)"
      ]
     },
     "execution_count": 4,
     "metadata": {},
     "output_type": "execute_result"
    }
   ],
   "source": [
    "test = XarrayArrMean('original')\n",
    "test.run()"
   ]
  },
  {
   "cell_type": "code",
   "execution_count": 5,
   "id": "c934fb8a-76ba-4bc5-a22e-c7cdb0bcda22",
   "metadata": {},
   "outputs": [
    {
     "data": {
      "text/plain": [
       "(1015.9824829101562, 533.0770094394684)"
      ]
     },
     "execution_count": 5,
     "metadata": {},
     "output_type": "execute_result"
    }
   ],
   "source": [
    "test = XarrayArrMean('h5repack')\n",
    "test.run()"
   ]
  },
  {
   "cell_type": "code",
   "execution_count": 6,
   "id": "e31ad69f-a9b4-4327-bae7-e8fa3b423e6a",
   "metadata": {
    "tags": []
   },
   "outputs": [
    {
     "data": {
      "text/plain": [
       "(1015.9820315206697, 92.38616442680359)"
      ]
     },
     "execution_count": 6,
     "metadata": {},
     "output_type": "execute_result"
    }
   ],
   "source": [
    "test = H5CoroArrMean('original')\n",
    "test.run()"
   ]
  },
  {
   "cell_type": "code",
   "execution_count": 7,
   "id": "5ba2f62f-84ab-4649-a9c8-cc422f7a5254",
   "metadata": {
    "tags": []
   },
   "outputs": [
    {
     "data": {
      "text/plain": [
       "(1015.9820315206697, 53.025813817977905)"
      ]
     },
     "execution_count": 7,
     "metadata": {},
     "output_type": "execute_result"
    }
   ],
   "source": [
    "test = H5CoroArrMean('h5repack')\n",
    "test.run()"
   ]
  },
  {
   "cell_type": "code",
   "execution_count": 8,
   "id": "c2ee7cb3-6cf6-451b-bcb1-f882c10b0d83",
   "metadata": {
    "tags": []
   },
   "outputs": [
    {
     "data": {
      "text/plain": [
       "(1015.9829, 121.6713936328888)"
      ]
     },
     "execution_count": 8,
     "metadata": {},
     "output_type": "execute_result"
    }
   ],
   "source": [
    "test = H5DataFrameArrMean('original')\n",
    "test.run()"
   ]
  },
  {
   "cell_type": "code",
   "execution_count": 9,
   "id": "f813c851-11f8-4db0-aca5-5aaeab4b2d7e",
   "metadata": {
    "tags": []
   },
   "outputs": [
    {
     "data": {
      "text/plain": [
       "(1015.9829, 147.60259580612183)"
      ]
     },
     "execution_count": 9,
     "metadata": {},
     "output_type": "execute_result"
    }
   ],
   "source": [
    "test = H5DataFrameArrMean('h5repack')\n",
    "test.run()"
   ]
  },
  {
   "cell_type": "code",
   "execution_count": 10,
   "id": "0dc2b2f4-1c51-4ecf-a26d-73dc3dcfa260",
   "metadata": {
    "tags": []
   },
   "outputs": [
    {
     "data": {
      "text/plain": [
       "(1015.9820315206697, 68.17894506454468)"
      ]
     },
     "execution_count": 10,
     "metadata": {},
     "output_type": "execute_result"
    }
   ],
   "source": [
    "test = XarrayArrMean('kerchunk-original')\n",
    "test.run()"
   ]
  },
  {
   "cell_type": "code",
   "execution_count": 11,
   "id": "dd5b7298-a4d7-469b-928d-3cc6c20eaeb1",
   "metadata": {
    "tags": []
   },
   "outputs": [
    {
     "data": {
      "text/plain": [
       "(1015.9820315206697, 52.66066884994507)"
      ]
     },
     "execution_count": 11,
     "metadata": {},
     "output_type": "execute_result"
    }
   ],
   "source": [
    "test = XarrayArrMean('kerchunk-repacked')\n",
    "test.run()"
   ]
  }
 ],
 "metadata": {
  "kernelspec": {
   "display_name": "Python 3 (ipykernel)",
   "language": "python",
   "name": "python3"
  },
  "language_info": {
   "codemirror_mode": {
    "name": "ipython",
    "version": 3
   },
   "file_extension": ".py",
   "mimetype": "text/x-python",
   "name": "python",
   "nbconvert_exporter": "python",
   "pygments_lexer": "ipython3",
   "version": "3.10.12"
  }
 },
 "nbformat": 4,
 "nbformat_minor": 5
}
