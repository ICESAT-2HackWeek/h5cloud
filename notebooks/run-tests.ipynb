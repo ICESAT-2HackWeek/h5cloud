{
 "cells": [
  {
   "cell_type": "code",
   "execution_count": null,
   "id": "3c51900a-3942-4767-a558-86fd5a6f9d0e",
   "metadata": {
    "tags": []
   },
   "outputs": [],
   "source": [
    "%load_ext autoreload\n",
    "%autoreload \n",
    "\n",
    "import sys\n",
    "import os\n",
    "current = os.path.abspath('..')\n",
    "sys.path.append(current)\n",
    "from h5tests.h5py_arr_mean import H5pyArrMean\n",
    "from h5tests.xarray_arr_mean import XarrayArrMean\n",
    "from h5tests.h5coro_arr_mean import H5CoroArrMean\n",
    "from h5tests.h5_data_frame_arr_mean import H5DataFrameArrMean\n",
    "from h5tests.h5py_arr_subset import H5pyArrSubset\n",
    "from helpers import read_results"
   ]
  },
  {
   "cell_type": "code",
   "execution_count": null,
   "id": "2e86692a-674e-4567-8b6a-180ad20c8e4c",
   "metadata": {
    "tags": []
   },
   "outputs": [
    {
     "data": {
      "text/plain": [
       "(1015.9820315206697, 101.39671492576599)"
      ]
     },
     "execution_count": 2,
     "metadata": {},
     "output_type": "execute_result"
    }
   ],
   "source": [
    "test = H5pyArrMean('original')\n",
    "test.run()"
   ]
  },
  {
   "cell_type": "code",
   "execution_count": null,
   "id": "f9b5f29c-c109-4d57-8d4a-b868d99b8a99",
   "metadata": {},
   "outputs": [
    {
     "data": {
      "text/plain": [
       "(1015.9820315206697, 195.8450186252594)"
      ]
     },
     "execution_count": 3,
     "metadata": {},
     "output_type": "execute_result"
    }
   ],
   "source": [
    "test = H5pyArrMean('h5repack')\n",
    "test.run()"
   ]
  },
  {
   "cell_type": "code",
   "execution_count": null,
   "id": "319a1cf9-16b4-401d-8a28-b38353c4375d",
   "metadata": {
    "tags": []
   },
   "outputs": [
    {
     "data": {
      "text/plain": [
       "(1015.9824829101562, 378.96070075035095)"
      ]
     },
     "execution_count": 4,
     "metadata": {},
     "output_type": "execute_result"
    }
   ],
   "source": [
    "test = XarrayArrMean('original')\n",
    "test.run()"
   ]
  },
  {
   "cell_type": "code",
   "execution_count": 5,
   "id": "c934fb8a-76ba-4bc5-a22e-c7cdb0bcda22",
   "metadata": {},
   "outputs": [
    {
     "data": {
      "text/plain": [
       "(1015.9824829101562, 562.9935655593872)"
      ]
     },
     "execution_count": 5,
     "metadata": {},
     "output_type": "execute_result"
    }
   ],
   "source": [
    "test = XarrayArrMean('h5repack')\n",
    "test.run()"
   ]
  },
  {
   "cell_type": "code",
   "execution_count": 6,
   "id": "e31ad69f-a9b4-4327-bae7-e8fa3b423e6a",
   "metadata": {
    "tags": []
   },
   "outputs": [
    {
     "data": {
      "text/plain": [
       "(1015.9820315206697, 92.39130330085754)"
      ]
     },
     "execution_count": 6,
     "metadata": {},
     "output_type": "execute_result"
    }
   ],
   "source": [
    "test = H5CoroArrMean('original')\n",
    "test.run()"
   ]
  },
  {
   "cell_type": "code",
   "execution_count": 7,
   "id": "5ba2f62f-84ab-4649-a9c8-cc422f7a5254",
   "metadata": {
    "tags": []
   },
   "outputs": [
    {
     "data": {
      "text/plain": [
       "(1015.9820315206697, 58.024622201919556)"
      ]
     },
     "execution_count": 7,
     "metadata": {},
     "output_type": "execute_result"
    }
   ],
   "source": [
    "test = H5CoroArrMean('h5repack')\n",
    "test.run()"
   ]
  },
  {
   "cell_type": "code",
   "execution_count": 8,
   "id": "c2ee7cb3-6cf6-451b-bcb1-f882c10b0d83",
   "metadata": {
    "tags": []
   },
   "outputs": [
    {
     "data": {
      "text/plain": [
       "(1015.9829, 123.3422315120697)"
      ]
     },
     "execution_count": 8,
     "metadata": {},
     "output_type": "execute_result"
    }
   ],
   "source": [
    "test = H5DataFrameArrMean('original')\n",
    "test.run()"
   ]
  },
  {
   "cell_type": "code",
   "execution_count": 9,
   "id": "f813c851-11f8-4db0-aca5-5aaeab4b2d7e",
   "metadata": {
    "tags": []
   },
   "outputs": [
    {
     "data": {
      "text/plain": [
       "(1015.9829, 158.45069313049316)"
      ]
     },
     "execution_count": 9,
     "metadata": {},
     "output_type": "execute_result"
    }
   ],
   "source": [
    "test = H5DataFrameArrMean('h5repack')\n",
    "test.run()"
   ]
  },
  {
   "cell_type": "code",
   "execution_count": 10,
   "id": "0dc2b2f4-1c51-4ecf-a26d-73dc3dcfa260",
   "metadata": {
    "tags": []
   },
   "outputs": [
    {
     "data": {
      "text/plain": [
       "(1015.9820315206697, 68.53923892974854)"
      ]
     },
     "execution_count": 10,
     "metadata": {},
     "output_type": "execute_result"
    }
   ],
   "source": [
    "test = XarrayArrMean('kerchunk-original')\n",
    "test.run()"
   ]
  },
  {
   "cell_type": "code",
   "execution_count": 11,
   "id": "dd5b7298-a4d7-469b-928d-3cc6c20eaeb1",
   "metadata": {
    "tags": []
   },
   "outputs": [
    {
     "data": {
      "text/plain": [
       "(1015.9820315206697, 55.46059536933899)"
      ]
     },
     "execution_count": 11,
     "metadata": {},
     "output_type": "execute_result"
    }
   ],
   "source": [
    "test = XarrayArrMean('kerchunk-repacked')\n",
    "test.run()"
   ]
  },
  {
   "cell_type": "code",
   "execution_count": null,
   "id": "76015d4f-04ca-486f-bb78-b5d428deb793",
   "metadata": {
    "tags": []
   },
   "outputs": [],
   "source": [
    "test = H5pyArrSubset('original')\n",
    "test.run()"
   ]
  },
  {
   "cell_type": "code",
   "execution_count": null,
   "id": "7f0be79c-9ec9-4f9b-a714-b0c953220dbc",
   "metadata": {},
   "outputs": [],
   "source": []
  }
 ],
 "metadata": {
  "kernelspec": {
   "display_name": "Python 3 (ipykernel)",
   "language": "python",
   "name": "python3"
  },
  "language_info": {
   "codemirror_mode": {
    "name": "ipython",
    "version": 3
   },
   "file_extension": ".py",
   "mimetype": "text/x-python",
   "name": "python",
   "nbconvert_exporter": "python",
   "pygments_lexer": "ipython3",
   "version": "3.10.12"
  }
 },
 "nbformat": 4,
 "nbformat_minor": 5
}
