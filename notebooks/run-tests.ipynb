{
 "cells": [
  {
   "cell_type": "code",
   "execution_count": 12,
   "id": "3c51900a-3942-4767-a558-86fd5a6f9d0e",
   "metadata": {
    "tags": []
   },
   "outputs": [
    {
     "name": "stdout",
     "output_type": "stream",
     "text": [
      "The autoreload extension is already loaded. To reload it, use:\n",
      "  %reload_ext autoreload\n"
     ]
    }
   ],
   "source": [
    "%load_ext autoreload\n",
    "%autoreload \n",
    "\n",
    "import sys\n",
    "import os\n",
    "current = os.path.abspath('..')\n",
    "sys.path.append(current)\n",
    "from h5tests.h5py_arr_len import H5pyArrLen\n",
    "from h5tests.xarray_arr_len import XarrayArrLen\n",
    "from h5tests.h5coro_arr_len import H5CoroArrLen\n",
    "from helpers import read_results"
   ]
  },
  {
   "cell_type": "code",
   "execution_count": 2,
   "id": "2e86692a-674e-4567-8b6a-180ad20c8e4c",
   "metadata": {
    "tags": []
   },
   "outputs": [
    {
     "name": "stdout",
     "output_type": "stream",
     "text": [
      "s3://nasa-cryo-scratch/h5cloud/original/ATL03_20181120182818_08110112_006_02.h5\n",
      "s3://nasa-cryo-scratch/h5cloud/original/ATL03_20190219140808_08110212_006_02.h5\n",
      "s3://nasa-cryo-scratch/h5cloud/original/ATL03_20200217204710_08110612_006_01.h5\n",
      "s3://nasa-cryo-scratch/h5cloud/original/ATL03_20211114142614_08111312_006_01.h5\n",
      "s3://nasa-cryo-scratch/h5cloud/original/ATL03_20230211164520_08111812_006_01.h5\n"
     ]
    },
    {
     "data": {
      "text/plain": [
       "(338294671, 100.2315411567688)"
      ]
     },
     "execution_count": 2,
     "metadata": {},
     "output_type": "execute_result"
    }
   ],
   "source": [
    "test = H5pyArrLen('original')\n",
    "test.run()"
   ]
  },
  {
   "cell_type": "code",
   "execution_count": 5,
   "id": "f9b5f29c-c109-4d57-8d4a-b868d99b8a99",
   "metadata": {},
   "outputs": [
    {
     "name": "stdout",
     "output_type": "stream",
     "text": [
      "s3://nasa-cryo-scratch/h5cloud/h5repack/ATL03_20181120182818_08110112_006_02_repacked.h5\n",
      "s3://nasa-cryo-scratch/h5cloud/h5repack/ATL03_20190219140808_08110212_006_02_repacked.h5\n",
      "s3://nasa-cryo-scratch/h5cloud/h5repack/ATL03_20200217204710_08110612_006_01_repacked.h5\n",
      "s3://nasa-cryo-scratch/h5cloud/h5repack/ATL03_20211114142614_08111312_006_01_repacked.h5\n",
      "s3://nasa-cryo-scratch/h5cloud/h5repack/ATL03_20230211164520_08111812_006_01_repacked.h5\n"
     ]
    },
    {
     "data": {
      "text/plain": [
       "(338294671, 205.30541563034058)"
      ]
     },
     "execution_count": 5,
     "metadata": {},
     "output_type": "execute_result"
    }
   ],
   "source": [
    "test = H5pyArrLen('h5repack')\n",
    "test.run()"
   ]
  },
  {
   "cell_type": "code",
   "execution_count": 4,
   "id": "319a1cf9-16b4-401d-8a28-b38353c4375d",
   "metadata": {
    "tags": []
   },
   "outputs": [
    {
     "data": {
      "text/plain": [
       "(338294671, 280.74921679496765)"
      ]
     },
     "execution_count": 4,
     "metadata": {},
     "output_type": "execute_result"
    }
   ],
   "source": [
    "test = XarrayArrLen('original')\n",
    "test.run()"
   ]
  },
  {
   "cell_type": "code",
   "execution_count": 5,
   "id": "c934fb8a-76ba-4bc5-a22e-c7cdb0bcda22",
   "metadata": {},
   "outputs": [
    {
     "data": {
      "text/plain": [
       "(338294671, 365.8427908420563)"
      ]
     },
     "execution_count": 5,
     "metadata": {},
     "output_type": "execute_result"
    }
   ],
   "source": [
    "test = XarrayArrLen('h5repack')\n",
    "test.run()"
   ]
  },
  {
   "cell_type": "code",
   "execution_count": 13,
   "id": "e31ad69f-a9b4-4327-bae7-e8fa3b423e6a",
   "metadata": {
    "tags": []
   },
   "outputs": [
    {
     "data": {
      "text/plain": [
       "(338294671, 81.84789299964905)"
      ]
     },
     "execution_count": 13,
     "metadata": {},
     "output_type": "execute_result"
    }
   ],
   "source": [
    "test = H5CoroArrLen('original')\n",
    "test.run()"
   ]
  },
  {
   "cell_type": "code",
   "execution_count": 14,
   "id": "5ba2f62f-84ab-4649-a9c8-cc422f7a5254",
   "metadata": {
    "tags": []
   },
   "outputs": [
    {
     "data": {
      "text/plain": [
       "(338294671, 96.67882132530212)"
      ]
     },
     "execution_count": 14,
     "metadata": {},
     "output_type": "execute_result"
    }
   ],
   "source": [
    "test = H5CoroArrLen('h5repack')\n",
    "test.run()"
   ]
  }
 ],
 "metadata": {
  "kernelspec": {
   "display_name": "Python 3 (ipykernel)",
   "language": "python",
   "name": "python3"
  },
  "language_info": {
   "codemirror_mode": {
    "name": "ipython",
    "version": 3
   },
   "file_extension": ".py",
   "mimetype": "text/x-python",
   "name": "python",
   "nbconvert_exporter": "python",
   "pygments_lexer": "ipython3",
   "version": "3.10.12"
  }
 },
 "nbformat": 4,
 "nbformat_minor": 5
}
