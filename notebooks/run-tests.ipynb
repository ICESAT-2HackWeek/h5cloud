{
 "cells": [
  {
   "cell_type": "code",
   "execution_count": 11,
   "id": "3c51900a-3942-4767-a558-86fd5a6f9d0e",
   "metadata": {
    "tags": []
   },
   "outputs": [
    {
     "name": "stdout",
     "output_type": "stream",
     "text": [
      "The autoreload extension is already loaded. To reload it, use:\n",
      "  %reload_ext autoreload\n"
     ]
    }
   ],
   "source": [
    "%load_ext autoreload\n",
    "%autoreload \n",
    "\n",
    "import sys\n",
    "import os\n",
    "current = os.path.abspath('..')\n",
    "sys.path.append(current)\n",
    "from h5tests.h5py_arr_len import H5pyArrLen\n",
    "from h5tests.xarray_arr_len import XarrayArrLen\n",
    "from h5tests.h5coro_arr_len import H5CoroArrLen\n",
    "from h5tests.h5_data_frame_arr_len import H5DataFrameArrLen\n",
    "from helpers import read_results"
   ]
  },
  {
   "cell_type": "code",
   "execution_count": 2,
   "id": "2e86692a-674e-4567-8b6a-180ad20c8e4c",
   "metadata": {
    "tags": []
   },
   "outputs": [
    {
     "data": {
      "text/plain": [
       "(338294671, 113.253821849823)"
      ]
     },
     "execution_count": 2,
     "metadata": {},
     "output_type": "execute_result"
    }
   ],
   "source": [
    "test = H5pyArrLen('original')\n",
    "test.run()"
   ]
  },
  {
   "cell_type": "code",
   "execution_count": 3,
   "id": "f9b5f29c-c109-4d57-8d4a-b868d99b8a99",
   "metadata": {},
   "outputs": [
    {
     "data": {
      "text/plain": [
       "(338294671, 205.1449236869812)"
      ]
     },
     "execution_count": 3,
     "metadata": {},
     "output_type": "execute_result"
    }
   ],
   "source": [
    "test = H5pyArrLen('h5repack')\n",
    "test.run()"
   ]
  },
  {
   "cell_type": "code",
   "execution_count": 4,
   "id": "319a1cf9-16b4-401d-8a28-b38353c4375d",
   "metadata": {
    "tags": []
   },
   "outputs": [
    {
     "data": {
      "text/plain": [
       "(338294671, 267.63878440856934)"
      ]
     },
     "execution_count": 4,
     "metadata": {},
     "output_type": "execute_result"
    }
   ],
   "source": [
    "test = XarrayArrLen('original')\n",
    "test.run()"
   ]
  },
  {
   "cell_type": "code",
   "execution_count": 5,
   "id": "c934fb8a-76ba-4bc5-a22e-c7cdb0bcda22",
   "metadata": {},
   "outputs": [
    {
     "data": {
      "text/plain": [
       "(338294671, 362.8150746822357)"
      ]
     },
     "execution_count": 5,
     "metadata": {},
     "output_type": "execute_result"
    }
   ],
   "source": [
    "test = XarrayArrLen('h5repack')\n",
    "test.run()"
   ]
  },
  {
   "cell_type": "code",
   "execution_count": 6,
   "id": "e31ad69f-a9b4-4327-bae7-e8fa3b423e6a",
   "metadata": {
    "tags": []
   },
   "outputs": [
    {
     "data": {
      "text/plain": [
       "(338294671, 96.81597566604614)"
      ]
     },
     "execution_count": 6,
     "metadata": {},
     "output_type": "execute_result"
    }
   ],
   "source": [
    "test = H5CoroArrLen('original')\n",
    "test.run()"
   ]
  },
  {
   "cell_type": "code",
   "execution_count": 7,
   "id": "5ba2f62f-84ab-4649-a9c8-cc422f7a5254",
   "metadata": {
    "tags": []
   },
   "outputs": [
    {
     "data": {
      "text/plain": [
       "(338294671, 95.2918746471405)"
      ]
     },
     "execution_count": 7,
     "metadata": {},
     "output_type": "execute_result"
    }
   ],
   "source": [
    "test = H5CoroArrLen('h5repack')\n",
    "test.run()"
   ]
  },
  {
   "cell_type": "code",
   "execution_count": 8,
   "id": "c2ee7cb3-6cf6-451b-bcb1-f882c10b0d83",
   "metadata": {
    "tags": []
   },
   "outputs": [
    {
     "data": {
      "text/plain": [
       "(338294671, 124.68864417076111)"
      ]
     },
     "execution_count": 8,
     "metadata": {},
     "output_type": "execute_result"
    }
   ],
   "source": [
    "test = H5DataFrameArrLen('original')\n",
    "test.run()"
   ]
  },
  {
   "cell_type": "code",
   "execution_count": 9,
   "id": "f813c851-11f8-4db0-aca5-5aaeab4b2d7e",
   "metadata": {
    "tags": []
   },
   "outputs": [
    {
     "data": {
      "text/plain": [
       "(338294671, 211.36746525764465)"
      ]
     },
     "execution_count": 9,
     "metadata": {},
     "output_type": "execute_result"
    }
   ],
   "source": [
    "test = H5DataFrameArrLen('h5repack')\n",
    "test.run()"
   ]
  },
  {
   "cell_type": "code",
   "execution_count": 12,
   "id": "0dc2b2f4-1c51-4ecf-a26d-73dc3dcfa260",
   "metadata": {
    "tags": []
   },
   "outputs": [
    {
     "data": {
      "text/plain": [
       "(338294671, 71.81111788749695)"
      ]
     },
     "execution_count": 12,
     "metadata": {},
     "output_type": "execute_result"
    }
   ],
   "source": [
    "test = XarrayArrLen('kerchunk-original')\n",
    "test.run()"
   ]
  },
  {
   "cell_type": "code",
   "execution_count": 13,
   "id": "dd5b7298-a4d7-469b-928d-3cc6c20eaeb1",
   "metadata": {
    "tags": []
   },
   "outputs": [
    {
     "data": {
      "text/plain": [
       "(338294671, 67.2264711856842)"
      ]
     },
     "execution_count": 13,
     "metadata": {},
     "output_type": "execute_result"
    }
   ],
   "source": [
    "test = XarrayArrLen('kerchunk-repacked')\n",
    "test.run()"
   ]
  },
  {
   "cell_type": "code",
   "execution_count": null,
   "id": "7f0be79c-9ec9-4f9b-a714-b0c953220dbc",
   "metadata": {},
   "outputs": [],
   "source": []
  }
 ],
 "metadata": {
  "kernelspec": {
   "display_name": "Python 3 (ipykernel)",
   "language": "python",
   "name": "python3"
  },
  "language_info": {
   "codemirror_mode": {
    "name": "ipython",
    "version": 3
   },
   "file_extension": ".py",
   "mimetype": "text/x-python",
   "name": "python",
   "nbconvert_exporter": "python",
   "pygments_lexer": "ipython3",
   "version": "3.10.12"
  }
 },
 "nbformat": 4,
 "nbformat_minor": 5
}
