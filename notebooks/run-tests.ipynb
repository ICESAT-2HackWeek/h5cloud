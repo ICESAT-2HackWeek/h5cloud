{
 "cells": [
  {
   "cell_type": "code",
   "execution_count": null,
   "id": "3c51900a-3942-4767-a558-86fd5a6f9d0e",
   "metadata": {
    "tags": []
   },
   "outputs": [],
   "source": [
    "%load_ext autoreload\n",
    "%autoreload \n",
    "\n",
    "import sys\n",
    "import os\n",
    "current = os.path.abspath('..')\n",
    "sys.path.append(current)\n",
    "from h5tests.h5py_arr_len import H5pyArrLen\n",
    "from h5tests.xarray_arr_len import XarrayArrLen\n",
    "from h5tests.h5coro_arr_len import H5CoroArrLen\n",
    "from h5tests.h5_data_frame_arr_len import H5DataFrameArrLen\n",
    "from h5tests.h5py_arr_subset import H5pyArrSubset\n",
    "from helpers import read_results"
   ]
  },
  {
   "cell_type": "code",
   "execution_count": null,
   "id": "2e86692a-674e-4567-8b6a-180ad20c8e4c",
   "metadata": {
    "tags": []
   },
   "outputs": [],
   "source": [
    "test = H5pyArrLen('original')\n",
    "test.run()"
   ]
  },
  {
   "cell_type": "code",
   "execution_count": null,
   "id": "f9b5f29c-c109-4d57-8d4a-b868d99b8a99",
   "metadata": {},
   "outputs": [],
   "source": [
    "test = H5pyArrLen('h5repack')\n",
    "test.run()"
   ]
  },
  {
   "cell_type": "code",
   "execution_count": null,
   "id": "319a1cf9-16b4-401d-8a28-b38353c4375d",
   "metadata": {
    "tags": []
   },
   "outputs": [],
   "source": [
    "test = XarrayArrLen('original')\n",
    "test.run()"
   ]
  },
  {
   "cell_type": "code",
   "execution_count": null,
   "id": "c934fb8a-76ba-4bc5-a22e-c7cdb0bcda22",
   "metadata": {},
   "outputs": [],
   "source": [
    "test = XarrayArrLen('h5repack')\n",
    "test.run()"
   ]
  },
  {
   "cell_type": "code",
   "execution_count": null,
   "id": "e31ad69f-a9b4-4327-bae7-e8fa3b423e6a",
   "metadata": {
    "tags": []
   },
   "outputs": [],
   "source": [
    "test = H5CoroArrLen('original')\n",
    "test.run()"
   ]
  },
  {
   "cell_type": "code",
   "execution_count": null,
   "id": "5ba2f62f-84ab-4649-a9c8-cc422f7a5254",
   "metadata": {
    "tags": []
   },
   "outputs": [],
   "source": [
    "test = H5CoroArrLen('h5repack')\n",
    "test.run()"
   ]
  },
  {
   "cell_type": "code",
   "execution_count": null,
   "id": "c2ee7cb3-6cf6-451b-bcb1-f882c10b0d83",
   "metadata": {
    "tags": []
   },
   "outputs": [],
   "source": [
    "test = H5DataFrameArrLen('original')\n",
    "test.run()"
   ]
  },
  {
   "cell_type": "code",
   "execution_count": null,
   "id": "f813c851-11f8-4db0-aca5-5aaeab4b2d7e",
   "metadata": {
    "tags": []
   },
   "outputs": [],
   "source": [
    "test = H5DataFrameArrLen('h5repack')\n",
    "test.run()"
   ]
  },
  {
   "cell_type": "code",
   "execution_count": null,
   "id": "0dc2b2f4-1c51-4ecf-a26d-73dc3dcfa260",
   "metadata": {
    "tags": []
   },
   "outputs": [],
   "source": [
    "test = XarrayArrLen('kerchunk-original')\n",
    "test.run()"
   ]
  },
  {
   "cell_type": "code",
   "execution_count": null,
   "id": "dd5b7298-a4d7-469b-928d-3cc6c20eaeb1",
   "metadata": {
    "tags": []
   },
   "outputs": [],
   "source": [
    "test = XarrayArrLen('kerchunk-repacked')\n",
    "test.run()"
   ]
  },
  {
   "cell_type": "code",
   "execution_count": null,
   "id": "76015d4f-04ca-486f-bb78-b5d428deb793",
   "metadata": {
    "tags": []
   },
   "outputs": [],
   "source": [
    "test = H5pyArrSubset('original')\n",
    "test.run()"
   ]
  },
  {
   "cell_type": "code",
   "execution_count": null,
   "id": "7f0be79c-9ec9-4f9b-a714-b0c953220dbc",
   "metadata": {},
   "outputs": [],
   "source": []
  }
 ],
 "metadata": {
  "kernelspec": {
   "display_name": "Python 3 (ipykernel)",
   "language": "python",
   "name": "python3"
  },
  "language_info": {
   "codemirror_mode": {
    "name": "ipython",
    "version": 3
   },
   "file_extension": ".py",
   "mimetype": "text/x-python",
   "name": "python",
   "nbconvert_exporter": "python",
   "pygments_lexer": "ipython3",
   "version": "3.10.12"
  }
 },
 "nbformat": 4,
 "nbformat_minor": 5
}
