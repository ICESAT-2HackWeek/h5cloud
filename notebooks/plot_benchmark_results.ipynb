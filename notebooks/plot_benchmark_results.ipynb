{
 "cells": [
  {
   "cell_type": "markdown",
   "id": "e2d85d97-bd23-4af1-b302-1ab55921a30b",
   "metadata": {
    "user_expressions": []
   },
   "source": [
    "# Plot Benchmarking Results\n",
    "\n",
    "Plots the results in `benchmarks.csv`"
   ]
  },
  {
   "cell_type": "code",
   "execution_count": 9,
   "id": "a7c05ac8-7256-42f7-a351-4b498da62ffc",
   "metadata": {
    "tags": []
   },
   "outputs": [],
   "source": [
    "import re\n",
    "\n",
    "import pandas as pd\n",
    "import numpy as np\n",
    "\n",
    "import matplotlib.pyplot as plt\n",
    "import seaborn as sns"
   ]
  },
  {
   "cell_type": "markdown",
   "id": "7804d7bc-a01e-46bb-807b-fb5081616d8f",
   "metadata": {
    "user_expressions": []
   },
   "source": [
    "## Read `benchmarks.csv`\n",
    "\n",
    "This file is generated using [portable-full-comparison.ipynb](https://hub.cryointhecloud.com/hub/user-redirect/lab/tree/h5cloud/notebooks/portable-full-comparison.ipynb)"
   ]
  },
  {
   "cell_type": "code",
   "execution_count": 4,
   "id": "1fa7d33b-ef5f-419d-a0a6-8213e075ede5",
   "metadata": {
    "tags": []
   },
   "outputs": [
    {
     "data": {
      "text/html": [
       "<div>\n",
       "<style scoped>\n",
       "    .dataframe tbody tr th:only-of-type {\n",
       "        vertical-align: middle;\n",
       "    }\n",
       "\n",
       "    .dataframe tbody tr th {\n",
       "        vertical-align: top;\n",
       "    }\n",
       "\n",
       "    .dataframe thead th {\n",
       "        text-align: right;\n",
       "    }\n",
       "</style>\n",
       "<table border=\"1\" class=\"dataframe\">\n",
       "  <thead>\n",
       "    <tr style=\"text-align: right;\">\n",
       "      <th></th>\n",
       "      <th>tool</th>\n",
       "      <th>dataset</th>\n",
       "      <th>cloud-aware</th>\n",
       "      <th>format</th>\n",
       "      <th>file</th>\n",
       "      <th>time</th>\n",
       "      <th>mean</th>\n",
       "      <th>size</th>\n",
       "      <th>product</th>\n",
       "    </tr>\n",
       "  </thead>\n",
       "  <tbody>\n",
       "    <tr>\n",
       "      <th>0</th>\n",
       "      <td>h5py</td>\n",
       "      <td>ATL03-1GB</td>\n",
       "      <td>no</td>\n",
       "      <td>original</td>\n",
       "      <td>s3://nasa-cryo-persistent/h5cloud/atl03/averag...</td>\n",
       "      <td>2.843794</td>\n",
       "      <td>386.06738</td>\n",
       "      <td>1GB</td>\n",
       "      <td>ATL03</td>\n",
       "    </tr>\n",
       "    <tr>\n",
       "      <th>1</th>\n",
       "      <td>h5py</td>\n",
       "      <td>ATL03-1GB</td>\n",
       "      <td>no</td>\n",
       "      <td>optimized</td>\n",
       "      <td>s3://nasa-cryo-persistent/h5cloud/atl03/averag...</td>\n",
       "      <td>4.157145</td>\n",
       "      <td>386.06738</td>\n",
       "      <td>1GB</td>\n",
       "      <td>ATL03</td>\n",
       "    </tr>\n",
       "    <tr>\n",
       "      <th>2</th>\n",
       "      <td>h5py</td>\n",
       "      <td>ATL03-7GB</td>\n",
       "      <td>no</td>\n",
       "      <td>original</td>\n",
       "      <td>s3://nasa-cryo-persistent/h5cloud/atl03/big/or...</td>\n",
       "      <td>6.949410</td>\n",
       "      <td>1035.1631</td>\n",
       "      <td>7GB</td>\n",
       "      <td>ATL03</td>\n",
       "    </tr>\n",
       "    <tr>\n",
       "      <th>3</th>\n",
       "      <td>h5py</td>\n",
       "      <td>ATL03-7GB</td>\n",
       "      <td>no</td>\n",
       "      <td>optimized</td>\n",
       "      <td>s3://nasa-cryo-persistent/h5cloud/atl03/big/re...</td>\n",
       "      <td>13.658601</td>\n",
       "      <td>1035.1631</td>\n",
       "      <td>7GB</td>\n",
       "      <td>ATL03</td>\n",
       "    </tr>\n",
       "    <tr>\n",
       "      <th>4</th>\n",
       "      <td>h5py</td>\n",
       "      <td>ATL03-2GB</td>\n",
       "      <td>no</td>\n",
       "      <td>original</td>\n",
       "      <td>s3://nasa-cryo-persistent/h5cloud/atl03/big/or...</td>\n",
       "      <td>1.405302</td>\n",
       "      <td>2049.7554</td>\n",
       "      <td>2GB</td>\n",
       "      <td>ATL03</td>\n",
       "    </tr>\n",
       "  </tbody>\n",
       "</table>\n",
       "</div>"
      ],
      "text/plain": [
       "   tool    dataset cloud-aware     format  \\\n",
       "0  h5py  ATL03-1GB          no   original   \n",
       "1  h5py  ATL03-1GB          no  optimized   \n",
       "2  h5py  ATL03-7GB          no   original   \n",
       "3  h5py  ATL03-7GB          no  optimized   \n",
       "4  h5py  ATL03-2GB          no   original   \n",
       "\n",
       "                                                file       time       mean  \\\n",
       "0  s3://nasa-cryo-persistent/h5cloud/atl03/averag...   2.843794  386.06738   \n",
       "1  s3://nasa-cryo-persistent/h5cloud/atl03/averag...   4.157145  386.06738   \n",
       "2  s3://nasa-cryo-persistent/h5cloud/atl03/big/or...   6.949410  1035.1631   \n",
       "3  s3://nasa-cryo-persistent/h5cloud/atl03/big/re...  13.658601  1035.1631   \n",
       "4  s3://nasa-cryo-persistent/h5cloud/atl03/big/or...   1.405302  2049.7554   \n",
       "\n",
       "  size product  \n",
       "0  1GB   ATL03  \n",
       "1  1GB   ATL03  \n",
       "2  7GB   ATL03  \n",
       "3  7GB   ATL03  \n",
       "4  2GB   ATL03  "
      ]
     },
     "execution_count": 4,
     "metadata": {},
     "output_type": "execute_result"
    }
   ],
   "source": [
    "df = pd.read_csv(\"benchmarks.csv\", index_col=0)\n",
    "df.head()"
   ]
  },
  {
   "cell_type": "markdown",
   "id": "8e4e2660-437b-48f7-896f-795e93ae1644",
   "metadata": {
    "user_expressions": []
   },
   "source": [
    "## Reformat data for plotting"
   ]
  },
  {
   "cell_type": "code",
   "execution_count": 5,
   "id": "5c69cca4-430f-4552-b9e7-88bd07deea33",
   "metadata": {
    "tags": []
   },
   "outputs": [
    {
     "data": {
      "text/html": [
       "<div>\n",
       "<style scoped>\n",
       "    .dataframe tbody tr th:only-of-type {\n",
       "        vertical-align: middle;\n",
       "    }\n",
       "\n",
       "    .dataframe tbody tr th {\n",
       "        vertical-align: top;\n",
       "    }\n",
       "\n",
       "    .dataframe thead tr th {\n",
       "        text-align: left;\n",
       "    }\n",
       "\n",
       "    .dataframe thead tr:last-of-type th {\n",
       "        text-align: right;\n",
       "    }\n",
       "</style>\n",
       "<table border=\"1\" class=\"dataframe\">\n",
       "  <thead>\n",
       "    <tr>\n",
       "      <th></th>\n",
       "      <th>format</th>\n",
       "      <th colspan=\"2\" halign=\"left\">optimized</th>\n",
       "      <th colspan=\"2\" halign=\"left\">original</th>\n",
       "    </tr>\n",
       "    <tr>\n",
       "      <th></th>\n",
       "      <th>cloud-aware</th>\n",
       "      <th>no</th>\n",
       "      <th>yes</th>\n",
       "      <th>no</th>\n",
       "      <th>yes</th>\n",
       "    </tr>\n",
       "    <tr>\n",
       "      <th>tool</th>\n",
       "      <th>size</th>\n",
       "      <th></th>\n",
       "      <th></th>\n",
       "      <th></th>\n",
       "      <th></th>\n",
       "    </tr>\n",
       "  </thead>\n",
       "  <tbody>\n",
       "    <tr>\n",
       "      <th rowspan=\"3\" valign=\"top\">h5coro</th>\n",
       "      <th>1GB</th>\n",
       "      <td>4.286047</td>\n",
       "      <td>NaN</td>\n",
       "      <td>4.562052</td>\n",
       "      <td>NaN</td>\n",
       "    </tr>\n",
       "    <tr>\n",
       "      <th>2GB</th>\n",
       "      <td>1.812065</td>\n",
       "      <td>NaN</td>\n",
       "      <td>3.110127</td>\n",
       "      <td>NaN</td>\n",
       "    </tr>\n",
       "    <tr>\n",
       "      <th>7GB</th>\n",
       "      <td>11.794484</td>\n",
       "      <td>NaN</td>\n",
       "      <td>14.072926</td>\n",
       "      <td>NaN</td>\n",
       "    </tr>\n",
       "    <tr>\n",
       "      <th rowspan=\"3\" valign=\"top\">h5py</th>\n",
       "      <th>1GB</th>\n",
       "      <td>4.157145</td>\n",
       "      <td>1.930223</td>\n",
       "      <td>2.843794</td>\n",
       "      <td>1.861841</td>\n",
       "    </tr>\n",
       "    <tr>\n",
       "      <th>2GB</th>\n",
       "      <td>1.085173</td>\n",
       "      <td>0.863328</td>\n",
       "      <td>1.405302</td>\n",
       "      <td>1.260476</td>\n",
       "    </tr>\n",
       "    <tr>\n",
       "      <th>7GB</th>\n",
       "      <td>13.658601</td>\n",
       "      <td>5.758351</td>\n",
       "      <td>6.949410</td>\n",
       "      <td>6.602762</td>\n",
       "    </tr>\n",
       "    <tr>\n",
       "      <th>kerchunk</th>\n",
       "      <th>7GB</th>\n",
       "      <td>8.813402</td>\n",
       "      <td>NaN</td>\n",
       "      <td>10.746919</td>\n",
       "      <td>NaN</td>\n",
       "    </tr>\n",
       "    <tr>\n",
       "      <th rowspan=\"3\" valign=\"top\">xarray</th>\n",
       "      <th>1GB</th>\n",
       "      <td>10.258675</td>\n",
       "      <td>2.542990</td>\n",
       "      <td>46.503087</td>\n",
       "      <td>42.182489</td>\n",
       "    </tr>\n",
       "    <tr>\n",
       "      <th>2GB</th>\n",
       "      <td>18.109654</td>\n",
       "      <td>2.156572</td>\n",
       "      <td>47.506707</td>\n",
       "      <td>40.316141</td>\n",
       "    </tr>\n",
       "    <tr>\n",
       "      <th>7GB</th>\n",
       "      <td>81.675182</td>\n",
       "      <td>6.671923</td>\n",
       "      <td>62.896237</td>\n",
       "      <td>48.714591</td>\n",
       "    </tr>\n",
       "  </tbody>\n",
       "</table>\n",
       "</div>"
      ],
      "text/plain": [
       "format         optimized             original           \n",
       "cloud-aware           no       yes         no        yes\n",
       "tool     size                                           \n",
       "h5coro   1GB    4.286047       NaN   4.562052        NaN\n",
       "         2GB    1.812065       NaN   3.110127        NaN\n",
       "         7GB   11.794484       NaN  14.072926        NaN\n",
       "h5py     1GB    4.157145  1.930223   2.843794   1.861841\n",
       "         2GB    1.085173  0.863328   1.405302   1.260476\n",
       "         7GB   13.658601  5.758351   6.949410   6.602762\n",
       "kerchunk 7GB    8.813402       NaN  10.746919        NaN\n",
       "xarray   1GB   10.258675  2.542990  46.503087  42.182489\n",
       "         2GB   18.109654  2.156572  47.506707  40.316141\n",
       "         7GB   81.675182  6.671923  62.896237  48.714591"
      ]
     },
     "execution_count": 5,
     "metadata": {},
     "output_type": "execute_result"
    }
   ],
   "source": [
    "pivot_df = df.pivot_table(index=[\"tool\", \"size\"], columns=[\"format\", \"cloud-aware\"], values=\"time\", aggfunc=\"mean\")\n",
    "pivot_df"
   ]
  },
  {
   "cell_type": "markdown",
   "id": "97f6a3dc-e5eb-46e7-ac46-611a08143d07",
   "metadata": {
    "user_expressions": []
   },
   "source": [
    "## Plot results"
   ]
  },
  {
   "cell_type": "code",
   "execution_count": 14,
   "id": "33602bbd-41c0-4133-bab5-76f45e9fe1a5",
   "metadata": {
    "tags": []
   },
   "outputs": [
    {
     "data": {
      "image/png": "[encoded data removed]",
      "text/plain": [
       "<Figure size 1500x600 with 1 Axes>"
      ]
     },
     "metadata": {},
     "output_type": "display_data"
    }
   ],
   "source": [
    "# Set seaborn plot style\n",
    "sns.set_style(\"darkgrid\", rc={'axes.facecolor': '0.9'})\n",
    "\n",
    "tool_order = [\"h5py\", \"xarray\", \"h5coro\", \"kerchunk\"]\n",
    "# Create figure and axis to \"contain\" plot - allows customization via ax object\n",
    "fig, ax = plt.subplots(figsize=(15,6), layout=\"constrained\")\n",
    "\n",
    "# Plot results\n",
    "pivot_df.loc[tool_order,:].plot(kind=\"bar\", ax=ax, \n",
    "                                                              color=[\"tab:cyan\", \"tab:blue\", \"tab:pink\", \"tab:red\"],\n",
    "                                                              xlabel=\"\", fontsize=15);\n",
    "ax.legend(labels = [\"Optimized\", \"Optimized with informed io parameters\", \"Original\", \"Original with informed io parameters\"], fontsize=15)\n",
    "ax.set_ylabel(\"Time (s)\", fontsize=20)\n",
    "\n",
    "## Make two level axis\n",
    "\n",
    "# helper to create axis labels\n",
    "def parse_text(s):\n",
    "    return re.sub(r\"[()]\", \"\", s).split(\", \")\n",
    "\n",
    "# Retrieve and parse axis labels and position\n",
    "tool, size, x, y = map(np.array, zip(*[(*parse_text(l.get_text()), *l.get_position()) for l in ax.get_xticklabels()]))\n",
    "# Make labels and x-positions for seconary axis\n",
    "sec_x, sec_label = zip(*[(x[tool == tool_name].mean(), \"\\n\"+tool_name) for tool_name in np.unique(tool)])\n",
    "# Assign ticks and labels\n",
    "ax.set_xticks(x, size, rotation=0);\n",
    "sec = ax.secondary_xaxis(location=0);\n",
    "sec.set_xticks(sec_x, sec_label, fontsize=18);\n",
    "sec.tick_params(length=0)\n",
    "\n",
    "sepa_x = np.array([x[tool == tool_name].min()-0.5 for tool_name in np.unique(tool)] + [x.max()+0.5])\n",
    "[ax.axvline(xs, c='k', ymin=-.1, clip_on=False, zorder=3) for xs in sepa_x];\n",
    "\n",
    "# Uncomment to save figure\n",
    "# fig.savefig(\"access_time.summary.png\")"
   ]
  },
  {
   "cell_type": "code",
   "execution_count": null,
   "id": "815347b5-f23c-4d25-9104-42523e9de093",
   "metadata": {},
   "outputs": [],
   "source": []
  }
 ],
 "metadata": {
  "kernelspec": {
   "display_name": "Python 3 (ipykernel)",
   "language": "python",
   "name": "python3"
  },
  "language_info": {
   "codemirror_mode": {
    "name": "ipython",
    "version": 3
   },
   "file_extension": ".py",
   "mimetype": "text/x-python",
   "name": "python",
   "nbconvert_exporter": "python",
   "pygments_lexer": "ipython3",
   "version": "3.10.13"
  }
 },
 "nbformat": 4,
 "nbformat_minor": 5
}
