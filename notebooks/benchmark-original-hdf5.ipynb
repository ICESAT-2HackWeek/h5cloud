{
 "cells": [
  {
   "cell_type": "code",
   "execution_count": 1,
   "id": "8a7ac7b4-40fe-4396-8531-76ecd67a040b",
   "metadata": {},
   "outputs": [],
   "source": [
    "import cProfile\n",
    "import earthaccess\n",
    "import numpy as np\n",
    "import s3fs\n",
    "import xarray as xr\n",
    "import h5py\n",
    "\n",
    "try:\n",
    "    import h5coro\n",
    "except:\n",
    "    !mamba install -c conda-forge h5coro --yes\n",
    "    import h5coro\n",
    "\n",
    "try:\n",
    "    from gedi_subset.h5frame import H5DataFrame\n",
    "except ImportError:\n",
    "    !pip install git+https://github.com/MAAP-Project/gedi-subsetter.git@0.6.0\n",
    "    from gedi_subset.h5frame import H5DataFrame\n",
    "\n",
    "from h5coro import h5coro, s3driver, filedriver\n",
    "h5coro.config(errorChecking=True, verbose=False, enableAttributes=False)"
   ]
  },
  {
   "cell_type": "markdown",
   "id": "7c80e11a-761f-43f7-b138-a5a82f88199a",
   "metadata": {
    "user_expressions": []
   },
   "source": [
    "# Benchmark Original HDF5\n",
    "\n",
    "This is the original format available from NSIDC, downloaded to the `nasa-cryo-scratch` bucket.\n",
    "\n",
    "We will benchmark the following workflows\"\n",
    "\n",
    "1. Reading 1 full group (`h_ph`)\n",
    "2. Spatially subsetting that group (tbd)\n",
    "\n",
    "via the following libraries: h5py, h5coro and xarray\n",
    "\n",
    "## Workflow 1 - Read full group\n",
    "\n",
    "### Setup Steps"
   ]
  },
  {
   "cell_type": "code",
   "execution_count": 2,
   "id": "ef607f86-b21f-46fd-95a2-36203d82ccef",
   "metadata": {},
   "outputs": [
    {
     "name": "stdout",
     "output_type": "stream",
     "text": [
      "2023-08-08 23:45:34 7754735138 ATL03_20181120182818_08110112_006_02.h5\n",
      "2023-08-08 23:47:04 6997123664 ATL03_20190219140808_08110212_006_02.h5\n",
      "2023-08-08 23:47:04 6925710500 ATL03_20200217204710_08110612_006_01.h5\n",
      "2023-08-08 23:47:04 8392279594 ATL03_20211114142614_08111312_006_01.h5\n",
      "2023-08-08 23:47:04 7954039827 ATL03_20230211164520_08111812_006_01.h5\n"
     ]
    }
   ],
   "source": [
    "# Checkout the files\n",
    "# !mamba install -c conda-forge awscli -y\n",
    "!aws s3 ls s3://nasa-cryo-scratch/h5cloud/original/"
   ]
  },
  {
   "cell_type": "code",
   "execution_count": 3,
   "id": "36f2c445-b576-4d22-968c-66ae166a3dcb",
   "metadata": {
    "tags": []
   },
   "outputs": [],
   "source": [
    "# Set the variables\n",
    "bucket = 'nasa-cryo-scratch'\n",
    "directory = 'h5cloud/original/'\n",
    "group = '/gt2l/heights'\n",
    "variable = 'h_ph'"
   ]
  },
  {
   "cell_type": "code",
   "execution_count": 4,
   "id": "8e42a3b7-ed22-411c-9863-c93569c18f20",
   "metadata": {
    "tags": []
   },
   "outputs": [
    {
     "data": {
      "text/plain": [
       "(['s3://nasa-cryo-scratch/h5cloud/original/ATL03_20181120182818_08110112_006_02.h5',\n",
       "  's3://nasa-cryo-scratch/h5cloud/original/ATL03_20190219140808_08110212_006_02.h5',\n",
       "  's3://nasa-cryo-scratch/h5cloud/original/ATL03_20200217204710_08110612_006_01.h5',\n",
       "  's3://nasa-cryo-scratch/h5cloud/original/ATL03_20211114142614_08111312_006_01.h5',\n",
       "  's3://nasa-cryo-scratch/h5cloud/original/ATL03_20230211164520_08111812_006_01.h5'],\n",
       " ['nasa-cryo-scratch/h5cloud/original/ATL03_20181120182818_08110112_006_02.h5',\n",
       "  'nasa-cryo-scratch/h5cloud/original/ATL03_20190219140808_08110212_006_02.h5',\n",
       "  'nasa-cryo-scratch/h5cloud/original/ATL03_20200217204710_08110612_006_01.h5',\n",
       "  'nasa-cryo-scratch/h5cloud/original/ATL03_20211114142614_08111312_006_01.h5',\n",
       "  'nasa-cryo-scratch/h5cloud/original/ATL03_20230211164520_08111812_006_01.h5'])"
      ]
     },
     "execution_count": 4,
     "metadata": {},
     "output_type": "execute_result"
    }
   ],
   "source": [
    "# Create a list of s3 objects\n",
    "s3 = s3fs.S3FileSystem(anon=False)\n",
    "\n",
    "# This generates a list of strings with filenames\n",
    "s3path = f's3://{bucket}/{directory}*'\n",
    "remote_files_no_protocol = s3.glob(s3path)\n",
    "remote_files = [f's3://{path}' for path in remote_files_no_protocol]\n",
    "remote_files, remote_files_no_protocol"
   ]
  },
  {
   "cell_type": "markdown",
   "id": "67e20465-1250-456c-8c6b-2b76c9183e26",
   "metadata": {
    "tags": [],
    "user_expressions": []
   },
   "source": [
    "### Option 1a: Read the group with `h5py`"
   ]
  },
  {
   "cell_type": "code",
   "execution_count": 5,
   "id": "4c329e67-3553-434a-b8d0-acc29b7c58b9",
   "metadata": {
    "tags": []
   },
   "outputs": [
    {
     "name": "stdout",
     "output_type": "stream",
     "text": [
      "CPU times: user 14.6 s, sys: 3.59 s, total: 18.2 s\n",
      "Wall time: 1min 2s\n"
     ]
    }
   ],
   "source": [
    "%%time\n",
    "final_h5py_array = []\n",
    "for file in remote_files:\n",
    "    with h5py.File(s3.open(file, 'rb')) as f:\n",
    "        data = f[f'{group}/{variable}'][:]\n",
    "        # Need to test if using concatenate is faster\n",
    "        final_h5py_array = np.insert(final_h5py_array, len(final_h5py_array), data, axis=None)"
   ]
  },
  {
   "cell_type": "code",
   "execution_count": 6,
   "id": "d18ea0bd-bbf1-406e-a8fd-285733c89ce1",
   "metadata": {
    "tags": []
   },
   "outputs": [
    {
     "data": {
      "text/plain": [
       "298271231"
      ]
     },
     "execution_count": 6,
     "metadata": {},
     "output_type": "execute_result"
    }
   ],
   "source": [
    "len(final_h5py_array)"
   ]
  },
  {
   "cell_type": "markdown",
   "id": "d56a4ddc-186c-4ced-a893-cdb0ac327661",
   "metadata": {},
   "source": [
    "## Option 1b: Read the group with gedi subsetter"
   ]
  },
  {
   "cell_type": "markdown",
   "id": "6f74714b-5192-49c7-9a65-7f738de90c68",
   "metadata": {
    "tags": [],
    "user_expressions": []
   },
   "source": [
    "### Option 2: Read the group with `xarray`"
   ]
  },
  {
   "cell_type": "code",
   "execution_count": 7,
   "id": "ea37b50c-500c-40dd-a982-0e0a878ab7eb",
   "metadata": {
    "tags": []
   },
   "outputs": [
    {
     "name": "stdout",
     "output_type": "stream",
     "text": [
      "CPU times: user 2min, sys: 33.6 s, total: 2min 33s\n",
      "Wall time: 7min 9s\n"
     ]
    }
   ],
   "source": [
    "%%time\n",
    "s3_fileset = [s3.open(file) for file in remote_files]\n",
    "xrds = xr.open_mfdataset(s3_fileset, group=group, combine='by_coords', engine='h5netcdf')\n",
    "final_xr_array = xrds['h_ph']"
   ]
  },
  {
   "cell_type": "code",
   "execution_count": 8,
   "id": "5df0e6d2-e9bc-4381-a7a5-dfbecc956fd1",
   "metadata": {
    "tags": []
   },
   "outputs": [
    {
     "data": {
      "text/plain": [
       "298271231"
      ]
     },
     "execution_count": 8,
     "metadata": {},
     "output_type": "execute_result"
    }
   ],
   "source": [
    "len(final_xr_array)"
   ]
  },
  {
   "cell_type": "code",
   "execution_count": 1,
   "id": "cdbc456f-698c-4bc6-8ee2-bc772788941c",
   "metadata": {
    "tags": []
   },
   "outputs": [
    {
     "data": {
      "text/plain": [
       "datetime.datetime(2023, 8, 10, 20, 11, 58, 245306)"
      ]
     },
     "execution_count": 1,
     "metadata": {},
     "output_type": "execute_result"
    }
   ],
   "source": [
    "from datetime import datetime\n",
    "datetime.now()"
   ]
  },
  {
   "cell_type": "markdown",
   "id": "2e05d15a-1e58-4c13-baea-27702074ddce",
   "metadata": {
    "tags": [],
    "user_expressions": []
   },
   "source": [
    "## h5coro"
   ]
  },
  {
   "cell_type": "code",
   "execution_count": 9,
   "id": "edf1f280-2809-4359-80d5-a6f7e1d43db4",
   "metadata": {
    "tags": []
   },
   "outputs": [],
   "source": [
    "%load_ext autoreload\n",
    "%autoreload \n",
    "from h5coro import h5coro, s3driver, filedriver"
   ]
  },
  {
   "cell_type": "code",
   "execution_count": 10,
   "id": "0610f3db-1203-4339-b0a7-530e1bde0756",
   "metadata": {
    "tags": []
   },
   "outputs": [
    {
     "name": "stdout",
     "output_type": "stream",
     "text": [
      "CPU times: user 12 s, sys: 3.68 s, total: 15.7 s\n",
      "Wall time: 1min 21s\n"
     ]
    }
   ],
   "source": [
    "%%time\n",
    "final_h5coro_array = []\n",
    "for file in remote_files_no_protocol:\n",
    "    h5obj = h5coro.H5Coro(file, s3driver.S3Driver)\n",
    "    output = h5obj.readDatasets(datasets=[f'{group}/{variable}'], block=True)\n",
    "    data = h5obj[f'{group}/{variable}'].values\n",
    "    final_h5coro_array = np.insert(final_h5coro_array, len(final_h5coro_array), data, axis=None)    "
   ]
  },
  {
   "cell_type": "code",
   "execution_count": 11,
   "id": "c2ade475-fca2-4a33-85b2-51c91c16d6c2",
   "metadata": {
    "tags": []
   },
   "outputs": [
    {
     "data": {
      "text/plain": [
       "298271231"
      ]
     },
     "execution_count": 11,
     "metadata": {},
     "output_type": "execute_result"
    }
   ],
   "source": [
    "len(final_h5coro_array)"
   ]
  },
  {
   "cell_type": "markdown",
   "id": "930132f8-0d64-47d6-b54b-797a7f0928ae",
   "metadata": {
    "tags": [],
    "user_expressions": []
   },
   "source": [
    "# IGNORE - Code for looping through all fields we may want"
   ]
  },
  {
   "cell_type": "code",
   "execution_count": 13,
   "id": "5d350c6b-b3b0-4b54-ac09-091f714f05ad",
   "metadata": {
    "tags": []
   },
   "outputs": [
    {
     "ename": "KeyError",
     "evalue": "'gt2l/heights/h_ph'",
     "output_type": "error",
     "traceback": [
      "\u001b[0;31m---------------------------------------------------------------------------\u001b[0m",
      "\u001b[0;31mKeyError\u001b[0m                                  Traceback (most recent call last)",
      "Cell \u001b[0;32mIn [13], line 3\u001b[0m\n\u001b[1;32m      1\u001b[0m beams \u001b[38;5;241m=\u001b[39m [\u001b[38;5;124mf\u001b[39m\u001b[38;5;124m\"\u001b[39m\u001b[38;5;124mgt\u001b[39m\u001b[38;5;132;01m{\u001b[39;00mbeam\u001b[38;5;132;01m}\u001b[39;00m\u001b[38;5;124m\"\u001b[39m \u001b[38;5;28;01mfor\u001b[39;00m beam \u001b[38;5;129;01min\u001b[39;00m [\u001b[38;5;124m'\u001b[39m\u001b[38;5;124m1l\u001b[39m\u001b[38;5;124m'\u001b[39m, \u001b[38;5;124m'\u001b[39m\u001b[38;5;124m1r\u001b[39m\u001b[38;5;124m'\u001b[39m, \u001b[38;5;124m'\u001b[39m\u001b[38;5;124m2l\u001b[39m\u001b[38;5;124m'\u001b[39m, \u001b[38;5;124m'\u001b[39m\u001b[38;5;124m2r\u001b[39m\u001b[38;5;124m'\u001b[39m, \u001b[38;5;124m'\u001b[39m\u001b[38;5;124m3l\u001b[39m\u001b[38;5;124m'\u001b[39m, \u001b[38;5;124m'\u001b[39m\u001b[38;5;124m3r\u001b[39m\u001b[38;5;124m'\u001b[39m]]\n\u001b[1;32m      2\u001b[0m fields \u001b[38;5;241m=\u001b[39m [\u001b[38;5;124m'\u001b[39m\u001b[38;5;124mh_ph\u001b[39m\u001b[38;5;124m'\u001b[39m, \u001b[38;5;124m'\u001b[39m\u001b[38;5;124mlat_ph\u001b[39m\u001b[38;5;124m'\u001b[39m, \u001b[38;5;124m'\u001b[39m\u001b[38;5;124mlon_ph\u001b[39m\u001b[38;5;124m'\u001b[39m, \u001b[38;5;124m'\u001b[39m\u001b[38;5;124mdelta_time\u001b[39m\u001b[38;5;124m'\u001b[39m]\n\u001b[0;32m----> 3\u001b[0m h_ph, lat_ph, lon_ph, delta_time \u001b[38;5;241m=\u001b[39m [h5obj[\u001b[38;5;124mf\u001b[39m\u001b[38;5;124m'\u001b[39m\u001b[38;5;124mgt2l/heights/\u001b[39m\u001b[38;5;132;01m{\u001b[39;00mfield\u001b[38;5;132;01m}\u001b[39;00m\u001b[38;5;124m'\u001b[39m]\u001b[38;5;241m.\u001b[39mvalues \u001b[38;5;28;01mfor\u001b[39;00m field \u001b[38;5;129;01min\u001b[39;00m fields]\n\u001b[1;32m      4\u001b[0m \u001b[38;5;66;03m# data_xr = xr.DataArray(h_ph, \u001b[39;00m\n\u001b[1;32m      5\u001b[0m \u001b[38;5;66;03m#                        coords={\u001b[39;00m\n\u001b[1;32m      6\u001b[0m \u001b[38;5;66;03m#                            'lat': lat_ph,\u001b[39;00m\n\u001b[0;32m   (...)\u001b[0m\n\u001b[1;32m      9\u001b[0m \u001b[38;5;66;03m#                        }, \u001b[39;00m\n\u001b[1;32m     10\u001b[0m \u001b[38;5;66;03m#                        dims=[\"lat_ph\", \"lon_ph\", \"delta_time\"])\u001b[39;00m\n",
      "Cell \u001b[0;32mIn [13], line 3\u001b[0m, in \u001b[0;36m<listcomp>\u001b[0;34m(.0)\u001b[0m\n\u001b[1;32m      1\u001b[0m beams \u001b[38;5;241m=\u001b[39m [\u001b[38;5;124mf\u001b[39m\u001b[38;5;124m\"\u001b[39m\u001b[38;5;124mgt\u001b[39m\u001b[38;5;132;01m{\u001b[39;00mbeam\u001b[38;5;132;01m}\u001b[39;00m\u001b[38;5;124m\"\u001b[39m \u001b[38;5;28;01mfor\u001b[39;00m beam \u001b[38;5;129;01min\u001b[39;00m [\u001b[38;5;124m'\u001b[39m\u001b[38;5;124m1l\u001b[39m\u001b[38;5;124m'\u001b[39m, \u001b[38;5;124m'\u001b[39m\u001b[38;5;124m1r\u001b[39m\u001b[38;5;124m'\u001b[39m, \u001b[38;5;124m'\u001b[39m\u001b[38;5;124m2l\u001b[39m\u001b[38;5;124m'\u001b[39m, \u001b[38;5;124m'\u001b[39m\u001b[38;5;124m2r\u001b[39m\u001b[38;5;124m'\u001b[39m, \u001b[38;5;124m'\u001b[39m\u001b[38;5;124m3l\u001b[39m\u001b[38;5;124m'\u001b[39m, \u001b[38;5;124m'\u001b[39m\u001b[38;5;124m3r\u001b[39m\u001b[38;5;124m'\u001b[39m]]\n\u001b[1;32m      2\u001b[0m fields \u001b[38;5;241m=\u001b[39m [\u001b[38;5;124m'\u001b[39m\u001b[38;5;124mh_ph\u001b[39m\u001b[38;5;124m'\u001b[39m, \u001b[38;5;124m'\u001b[39m\u001b[38;5;124mlat_ph\u001b[39m\u001b[38;5;124m'\u001b[39m, \u001b[38;5;124m'\u001b[39m\u001b[38;5;124mlon_ph\u001b[39m\u001b[38;5;124m'\u001b[39m, \u001b[38;5;124m'\u001b[39m\u001b[38;5;124mdelta_time\u001b[39m\u001b[38;5;124m'\u001b[39m]\n\u001b[0;32m----> 3\u001b[0m h_ph, lat_ph, lon_ph, delta_time \u001b[38;5;241m=\u001b[39m [\u001b[43mh5obj\u001b[49m\u001b[43m[\u001b[49m\u001b[38;5;124;43mf\u001b[39;49m\u001b[38;5;124;43m'\u001b[39;49m\u001b[38;5;124;43mgt2l/heights/\u001b[39;49m\u001b[38;5;132;43;01m{\u001b[39;49;00m\u001b[43mfield\u001b[49m\u001b[38;5;132;43;01m}\u001b[39;49;00m\u001b[38;5;124;43m'\u001b[39;49m\u001b[43m]\u001b[49m\u001b[38;5;241m.\u001b[39mvalues \u001b[38;5;28;01mfor\u001b[39;00m field \u001b[38;5;129;01min\u001b[39;00m fields]\n\u001b[1;32m      4\u001b[0m \u001b[38;5;66;03m# data_xr = xr.DataArray(h_ph, \u001b[39;00m\n\u001b[1;32m      5\u001b[0m \u001b[38;5;66;03m#                        coords={\u001b[39;00m\n\u001b[1;32m      6\u001b[0m \u001b[38;5;66;03m#                            'lat': lat_ph,\u001b[39;00m\n\u001b[0;32m   (...)\u001b[0m\n\u001b[1;32m      9\u001b[0m \u001b[38;5;66;03m#                        }, \u001b[39;00m\n\u001b[1;32m     10\u001b[0m \u001b[38;5;66;03m#                        dims=[\"lat_ph\", \"lon_ph\", \"delta_time\"])\u001b[39;00m\n",
      "File \u001b[0;32m/srv/conda/envs/notebook/lib/python3.10/site-packages/h5coro/h5coro.py:2102\u001b[0m, in \u001b[0;36mH5Coro.__getitem__\u001b[0;34m(self, key)\u001b[0m\n\u001b[1;32m   2100\u001b[0m \u001b[38;5;28;01mdef\u001b[39;00m \u001b[38;5;21m__getitem__\u001b[39m(\u001b[38;5;28mself\u001b[39m, key):\n\u001b[1;32m   2101\u001b[0m     \u001b[38;5;28mself\u001b[39m\u001b[38;5;241m.\u001b[39mwaitOnResult(key)\n\u001b[0;32m-> 2102\u001b[0m     \u001b[38;5;28;01mreturn\u001b[39;00m \u001b[38;5;28;43mself\u001b[39;49m\u001b[38;5;241;43m.\u001b[39;49m\u001b[43mresults\u001b[49m\u001b[43m[\u001b[49m\u001b[43mkey\u001b[49m\u001b[43m]\u001b[49m\n",
      "\u001b[0;31mKeyError\u001b[0m: 'gt2l/heights/h_ph'"
     ]
    }
   ],
   "source": [
    "# beams = [f\"gt{beam}\" for beam in ['1l', '1r', '2l', '2r', '3l', '3r']]\n",
    "# fields = ['h_ph', 'lat_ph', 'lon_ph', 'delta_time']\n",
    "# h_ph, lat_ph, lon_ph, delta_time = [h5obj[f'gt2l/heights/{field}'].values for field in fields]\n",
    "# data_xr = xr.DataArray(h_ph, \n",
    "#                        coords={\n",
    "#                            'lat': lat_ph,\n",
    "#                            'lon': lon_ph,\n",
    "#                            'delta_time': delta_time\n",
    "#                        }, \n",
    "#                        dims=[\"lat_ph\", \"lon_ph\", \"delta_time\"])"
   ]
  }
 ],
 "metadata": {
  "kernelspec": {
   "display_name": "Python 3 (ipykernel)",
   "language": "python",
   "name": "python3"
  },
  "language_info": {
   "codemirror_mode": {
    "name": "ipython",
    "version": 3
   },
   "file_extension": ".py",
   "mimetype": "text/x-python",
   "name": "python",
   "nbconvert_exporter": "python",
   "pygments_lexer": "ipython3",
   "version": "3.10.12"
  }
 },
 "nbformat": 4,
 "nbformat_minor": 5
}
