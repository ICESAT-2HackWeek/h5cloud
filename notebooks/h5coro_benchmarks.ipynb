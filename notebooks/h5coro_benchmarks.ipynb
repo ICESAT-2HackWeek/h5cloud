{
 "cells": [
  {
   "cell_type": "markdown",
   "id": "9d31a8ce-361a-4a8a-bcfa-edc5ad506cac",
   "metadata": {
    "user_expressions": []
   },
   "source": [
    "**1. List the bucket contents**"
   ]
  },
  {
   "cell_type": "code",
   "execution_count": 1,
   "id": "1653c297-ec92-4b6b-8a27-f7fa35186dd3",
   "metadata": {
    "tags": []
   },
   "outputs": [],
   "source": [
    "import boto3\n",
    "import links\n",
    "from pprint import pprint\n",
    "\n",
    "import dataset_lists as dsl"
   ]
  },
  {
   "cell_type": "code",
   "execution_count": 2,
   "id": "d4019d58-51ab-4665-9109-436809758a18",
   "metadata": {
    "tags": []
   },
   "outputs": [],
   "source": [
    "s3 = boto3.resource('s3')\n",
    "\n",
    "bucket_name = \"nasa-cryo-scratch\"\n",
    "bucket = s3.Bucket(dsl.S3BUCKET.split(\"/\")[2])"
   ]
  },
  {
   "cell_type": "code",
   "execution_count": 3,
   "id": "94d6526d-6025-482f-93f0-2d961638c656",
   "metadata": {
    "tags": []
   },
   "outputs": [
    {
     "name": "stdout",
     "output_type": "stream",
     "text": [
      "s3.ObjectSummary(bucket_name='nasa-cryo-scratch', key='dzdt/utiaqvik.parquet')\n",
      "s3.ObjectSummary(bucket_name='nasa-cryo-scratch', key='h5cloud/geoparquet/ATL03_20181120182818_08110112_006_02.h5.gpq')\n",
      "s3.ObjectSummary(bucket_name='nasa-cryo-scratch', key='h5cloud/geoparquet/ATL03_20190219140808_08110212_006_02.h5.gpq')\n",
      "s3.ObjectSummary(bucket_name='nasa-cryo-scratch', key='h5cloud/geoparquet/ATL03_20200217204710_08110612_006_01.h5.gpq')\n",
      "s3.ObjectSummary(bucket_name='nasa-cryo-scratch', key='h5cloud/geoparquet/ATL03_20211114142614_08111312_006_01.h5.gpq')\n",
      "s3.ObjectSummary(bucket_name='nasa-cryo-scratch', key='h5cloud/geoparquet/ATL03_20230211164520_08111812_006_01.h5.gpq')\n",
      "s3.ObjectSummary(bucket_name='nasa-cryo-scratch', key='h5cloud/h5repack/ATL03_20181120182818_08110112_006_02_repacked.h5')\n",
      "s3.ObjectSummary(bucket_name='nasa-cryo-scratch', key='h5cloud/h5repack/ATL03_20190219140808_08110212_006_02_repacked.h5')\n",
      "s3.ObjectSummary(bucket_name='nasa-cryo-scratch', key='h5cloud/h5repack/ATL03_20200217204710_08110612_006_01_repacked.h5')\n",
      "s3.ObjectSummary(bucket_name='nasa-cryo-scratch', key='h5cloud/h5repack/ATL03_20211114142614_08111312_006_01_repacked.h5')\n",
      "s3.ObjectSummary(bucket_name='nasa-cryo-scratch', key='h5cloud/h5repack/ATL03_20230211164520_08111812_006_01_repacked.h5')\n",
      "s3.ObjectSummary(bucket_name='nasa-cryo-scratch', key='h5cloud/kerchunk/h5repack/h5repack_ATL03_20181120182818_08110112_006_02_repacked.json')\n",
      "s3.ObjectSummary(bucket_name='nasa-cryo-scratch', key='h5cloud/kerchunk/h5repack/h5repack_ATL03_20190219140808_08110212_006_02_repacked.json')\n",
      "s3.ObjectSummary(bucket_name='nasa-cryo-scratch', key='h5cloud/kerchunk/h5repack/h5repack_ATL03_20200217204710_08110612_006_01_repacked.json')\n",
      "s3.ObjectSummary(bucket_name='nasa-cryo-scratch', key='h5cloud/kerchunk/h5repack/h5repack_ATL03_20211114142614_08111312_006_01_repacked.json')\n",
      "s3.ObjectSummary(bucket_name='nasa-cryo-scratch', key='h5cloud/kerchunk/h5repack/h5repack_ATL03_20230211164520_08111812_006_01_repacked.json')\n",
      "s3.ObjectSummary(bucket_name='nasa-cryo-scratch', key='h5cloud/kerchunk/original/original_ATL03_20181120182818_08110112_006_02.json')\n",
      "s3.ObjectSummary(bucket_name='nasa-cryo-scratch', key='h5cloud/kerchunk/original/original_ATL03_20190219140808_08110212_006_02.json')\n",
      "s3.ObjectSummary(bucket_name='nasa-cryo-scratch', key='h5cloud/kerchunk/original/original_ATL03_20200217204710_08110612_006_01.json')\n",
      "s3.ObjectSummary(bucket_name='nasa-cryo-scratch', key='h5cloud/kerchunk/original/original_ATL03_20211114142614_08111312_006_01.json')\n",
      "s3.ObjectSummary(bucket_name='nasa-cryo-scratch', key='h5cloud/kerchunk/original/original_ATL03_20230211164520_08111812_006_01.json')\n",
      "s3.ObjectSummary(bucket_name='nasa-cryo-scratch', key='h5cloud/original/ATL03_20181120182818_08110112_006_02.h5')\n",
      "s3.ObjectSummary(bucket_name='nasa-cryo-scratch', key='h5cloud/original/ATL03_20190219140808_08110212_006_02.h5')\n",
      "s3.ObjectSummary(bucket_name='nasa-cryo-scratch', key='h5cloud/original/ATL03_20200217204710_08110612_006_01.h5')\n",
      "s3.ObjectSummary(bucket_name='nasa-cryo-scratch', key='h5cloud/original/ATL03_20211114142614_08111312_006_01.h5')\n",
      "s3.ObjectSummary(bucket_name='nasa-cryo-scratch', key='h5cloud/original/ATL03_20230211164520_08111812_006_01.h5')\n",
      "s3.ObjectSummary(bucket_name='nasa-cryo-scratch', key='sliderule-example/grandmesa.parquet')\n"
     ]
    }
   ],
   "source": [
    "for my_bucket_object in bucket.objects.all():\n",
    "    print(my_bucket_object)"
   ]
  },
  {
   "cell_type": "markdown",
   "id": "56774b56-5513-446b-8292-55b4f215ec27",
   "metadata": {
    "user_expressions": []
   },
   "source": [
    "**2. Create lists of default and repacked hdf5 keys**"
   ]
  },
  {
   "cell_type": "code",
   "execution_count": 4,
   "id": "bebea341-2e63-47d4-b170-df92c62a46ab",
   "metadata": {
    "tags": []
   },
   "outputs": [
    {
     "data": {
      "text/plain": [
       "['h5repack', 'original']"
      ]
     },
     "execution_count": 4,
     "metadata": {},
     "output_type": "execute_result"
    }
   ],
   "source": [
    "repack_links = links.S3Links()\n",
    "repack_links.formats"
   ]
  },
  {
   "cell_type": "code",
   "execution_count": 5,
   "id": "08915948-7a01-4a4c-8760-35dc34d60d91",
   "metadata": {
    "tags": []
   },
   "outputs": [
    {
     "data": {
      "text/plain": [
       "['h5cloud/original/ATL03_20181120182818_08110112_006_02.h5',\n",
       " 'h5cloud/original/ATL03_20190219140808_08110212_006_02.h5',\n",
       " 'h5cloud/original/ATL03_20200217204710_08110612_006_01.h5',\n",
       " 'h5cloud/original/ATL03_20211114142614_08111312_006_01.h5',\n",
       " 'h5cloud/original/ATL03_20230211164520_08111812_006_01.h5']"
      ]
     },
     "execution_count": 5,
     "metadata": {},
     "output_type": "execute_result"
    }
   ],
   "source": [
    "default_key = repack_links.get_links_by_format('original')\n",
    "default_key"
   ]
  },
  {
   "cell_type": "code",
   "execution_count": 6,
   "id": "6eb0aa97-5162-474f-a61f-c527d128fbc8",
   "metadata": {
    "tags": []
   },
   "outputs": [
    {
     "data": {
      "text/plain": [
       "['h5cloud/h5repack/ATL03_20181120182818_08110112_006_02_repacked.h5',\n",
       " 'h5cloud/h5repack/ATL03_20190219140808_08110212_006_02_repacked.h5',\n",
       " 'h5cloud/h5repack/ATL03_20200217204710_08110612_006_01_repacked.h5',\n",
       " 'h5cloud/h5repack/ATL03_20211114142614_08111312_006_01_repacked.h5',\n",
       " 'h5cloud/h5repack/ATL03_20230211164520_08111812_006_01_repacked.h5']"
      ]
     },
     "execution_count": 6,
     "metadata": {},
     "output_type": "execute_result"
    }
   ],
   "source": [
    "repack_key = repack_links.get_links_by_format('h5repack')\n",
    "repack_key"
   ]
  },
  {
   "cell_type": "markdown",
   "id": "cfe9c6d3-e8aa-44bc-99f1-0e7dc06d8c6f",
   "metadata": {
    "user_expressions": []
   },
   "source": [
    "**Access data with h5coro**\n",
    "\n",
    "Code taken from : [https://github.com/ICESat2-SlideRule/h5coro/](https://github.com/ICESat2-SlideRule/h5coro/)"
   ]
  },
  {
   "cell_type": "code",
   "execution_count": 7,
   "id": "40cfd938-be87-4fb7-8b5c-8dd937aa948a",
   "metadata": {
    "scrolled": true,
    "tags": []
   },
   "outputs": [],
   "source": [
    "# (1) import\n",
    "try: \n",
    "    from h5coro import h5coro, s3driver, filedriver\n",
    "except:\n",
    "    !mamba install -c conda-forge h5coro --yes\n",
    "    from h5coro import h5coro, s3driver, filedriver\n",
    "\n",
    "# (2) configure\n",
    "h5coro.config(errorChecking=True, verbose=False, enableAttributes=False)"
   ]
  },
  {
   "cell_type": "code",
   "execution_count": 8,
   "id": "dce734f3-bf41-4dd1-9f4f-3db68f6aceb2",
   "metadata": {
    "tags": []
   },
   "outputs": [
    {
     "data": {
      "text/plain": [
       "'gt1l/heights/h_ph'"
      ]
     },
     "execution_count": 8,
     "metadata": {},
     "output_type": "execute_result"
    }
   ],
   "source": [
    "dsl.ONE_BEAM_GROUP[3]"
   ]
  },
  {
   "cell_type": "code",
   "execution_count": 9,
   "id": "c87f7e66-299b-4dd1-b022-e53ba94b154c",
   "metadata": {
    "tags": []
   },
   "outputs": [
    {
     "name": "stdout",
     "output_type": "stream",
     "text": [
      "h5cloud/original/ATL03_20181120182818_08110112_006_02.h5\n",
      "The slowest run took 6.14 times longer than the fastest. This could mean that an intermediate result is being cached.\n",
      "4.44 s ± 3.2 s per loop (mean ± std. dev. of 2 runs, 2 loops each)\n",
      "h5cloud/original/ATL03_20190219140808_08110212_006_02.h5\n",
      "The slowest run took 5.63 times longer than the fastest. This could mean that an intermediate result is being cached.\n",
      "6.61 s ± 4.62 s per loop (mean ± std. dev. of 2 runs, 2 loops each)\n",
      "h5cloud/original/ATL03_20200217204710_08110612_006_01.h5\n",
      "The slowest run took 4.97 times longer than the fastest. This could mean that an intermediate result is being cached.\n",
      "3.58 s ± 2.38 s per loop (mean ± std. dev. of 2 runs, 2 loops each)\n",
      "h5cloud/original/ATL03_20211114142614_08111312_006_01.h5\n",
      "The slowest run took 6.16 times longer than the fastest. This could mean that an intermediate result is being cached.\n",
      "8.28 s ± 5.96 s per loop (mean ± std. dev. of 2 runs, 2 loops each)\n",
      "h5cloud/original/ATL03_20230211164520_08111812_006_01.h5\n",
      "The slowest run took 6.33 times longer than the fastest. This could mean that an intermediate result is being cached.\n",
      "8.11 s ± 5.89 s per loop (mean ± std. dev. of 2 runs, 2 loops each)\n"
     ]
    }
   ],
   "source": [
    "# determine appropriate `n` and `r` for timeit\n",
    "\n",
    "default_benchmarks = {}\n",
    "for key in default_key:\n",
    "    print(key)\n",
    "    default_h5obj = h5coro.H5Coro(f'{dsl.S3BUCKET.split(\"/\")[2]}/{key}', s3driver.S3Driver)\n",
    "    default_benchmarks[key] = %timeit -n2 -r2 -o default_h5obj.readDatasets(datasets=[dsl.ONE_BEAM_GROUP[3]], block=True)"
   ]
  },
  {
   "cell_type": "code",
   "execution_count": 10,
   "id": "9f293a7e-d824-43b5-b94d-13efce47ce2f",
   "metadata": {
    "tags": []
   },
   "outputs": [
    {
     "data": {
      "text/plain": [
       "{'h5cloud/original/ATL03_20181120182818_08110112_006_02.h5': <TimeitResult : 4.44 s ± 3.2 s per loop (mean ± std. dev. of 2 runs, 2 loops each)>,\n",
       " 'h5cloud/original/ATL03_20190219140808_08110212_006_02.h5': <TimeitResult : 6.61 s ± 4.62 s per loop (mean ± std. dev. of 2 runs, 2 loops each)>,\n",
       " 'h5cloud/original/ATL03_20200217204710_08110612_006_01.h5': <TimeitResult : 3.58 s ± 2.38 s per loop (mean ± std. dev. of 2 runs, 2 loops each)>,\n",
       " 'h5cloud/original/ATL03_20211114142614_08111312_006_01.h5': <TimeitResult : 8.28 s ± 5.96 s per loop (mean ± std. dev. of 2 runs, 2 loops each)>,\n",
       " 'h5cloud/original/ATL03_20230211164520_08111812_006_01.h5': <TimeitResult : 8.11 s ± 5.89 s per loop (mean ± std. dev. of 2 runs, 2 loops each)>}"
      ]
     },
     "execution_count": 10,
     "metadata": {},
     "output_type": "execute_result"
    }
   ],
   "source": [
    "default_benchmarks"
   ]
  },
  {
   "cell_type": "code",
   "execution_count": 11,
   "id": "584bd7f1-b56a-4418-94b4-e2078cebffcf",
   "metadata": {
    "tags": []
   },
   "outputs": [
    {
     "name": "stdout",
     "output_type": "stream",
     "text": [
      "The slowest run took 5.98 times longer than the fastest. This could mean that an intermediate result is being cached.\n",
      "4.33 s ± 3.09 s per loop (mean ± std. dev. of 2 runs, 2 loops each)\n",
      "The slowest run took 6.03 times longer than the fastest. This could mean that an intermediate result is being cached.\n",
      "6.97 s ± 4.99 s per loop (mean ± std. dev. of 2 runs, 2 loops each)\n",
      "The slowest run took 6.33 times longer than the fastest. This could mean that an intermediate result is being cached.\n",
      "4.62 s ± 3.36 s per loop (mean ± std. dev. of 2 runs, 2 loops each)\n",
      "The slowest run took 5.96 times longer than the fastest. This could mean that an intermediate result is being cached.\n",
      "8.06 s ± 5.74 s per loop (mean ± std. dev. of 2 runs, 2 loops each)\n",
      "The slowest run took 6.53 times longer than the fastest. This could mean that an intermediate result is being cached.\n",
      "8.59 s ± 6.31 s per loop (mean ± std. dev. of 2 runs, 2 loops each)\n"
     ]
    }
   ],
   "source": [
    "# determine appropriate `n` and `r` for timeit\n",
    "\n",
    "repack_benchmarks = {}\n",
    "for key in repack_key:\n",
    "    repack_h5obj = h5coro.H5Coro(f'{dsl.S3BUCKET.split(\"/\")[2]}/{key}', s3driver.S3Driver)\n",
    "    repack_benchmarks[key] = %timeit -n2 -r2 -o repack_h5obj.readDatasets(datasets=[dsl.ONE_BEAM_GROUP[3]], block=True)"
   ]
  },
  {
   "cell_type": "code",
   "execution_count": 12,
   "id": "3fc8b04c-c35c-425b-9d2c-4c4a76cc30fb",
   "metadata": {},
   "outputs": [
    {
     "data": {
      "text/plain": [
       "{'h5cloud/h5repack/ATL03_20181120182818_08110112_006_02_repacked.h5': <TimeitResult : 4.33 s ± 3.09 s per loop (mean ± std. dev. of 2 runs, 2 loops each)>,\n",
       " 'h5cloud/h5repack/ATL03_20190219140808_08110212_006_02_repacked.h5': <TimeitResult : 6.97 s ± 4.99 s per loop (mean ± std. dev. of 2 runs, 2 loops each)>,\n",
       " 'h5cloud/h5repack/ATL03_20200217204710_08110612_006_01_repacked.h5': <TimeitResult : 4.62 s ± 3.36 s per loop (mean ± std. dev. of 2 runs, 2 loops each)>,\n",
       " 'h5cloud/h5repack/ATL03_20211114142614_08111312_006_01_repacked.h5': <TimeitResult : 8.06 s ± 5.74 s per loop (mean ± std. dev. of 2 runs, 2 loops each)>,\n",
       " 'h5cloud/h5repack/ATL03_20230211164520_08111812_006_01_repacked.h5': <TimeitResult : 8.59 s ± 6.31 s per loop (mean ± std. dev. of 2 runs, 2 loops each)>}"
      ]
     },
     "execution_count": 12,
     "metadata": {},
     "output_type": "execute_result"
    }
   ],
   "source": [
    "repack_benchmarks"
   ]
  },
  {
   "cell_type": "code",
   "execution_count": null,
   "id": "71036340-01b8-4192-9fa6-536f6be8a38f",
   "metadata": {},
   "outputs": [],
   "source": []
  }
 ],
 "metadata": {
  "kernelspec": {
   "display_name": "Python 3 (ipykernel)",
   "language": "python",
   "name": "python3"
  },
  "language_info": {
   "codemirror_mode": {
    "name": "ipython",
    "version": 3
   },
   "file_extension": ".py",
   "mimetype": "text/x-python",
   "name": "python",
   "nbconvert_exporter": "python",
   "pygments_lexer": "ipython3",
   "version": "3.10.12"
  }
 },
 "nbformat": 4,
 "nbformat_minor": 5
}
