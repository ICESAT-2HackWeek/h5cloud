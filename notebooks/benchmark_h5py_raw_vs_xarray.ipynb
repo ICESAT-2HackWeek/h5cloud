{
 "cells": [
  {
   "cell_type": "markdown",
   "id": "6c2bd4a5-464a-48fb-a72b-600602d5fdb2",
   "metadata": {
    "user_expressions": []
   },
   "source": [
    "# Compare `h5py` read with `xarray`\n",
    "\n",
    "`xarray` does quite a lot under the hood.  When it reads a HDF5 dataset, it also reads dimension and coordinate variables, and attributes.  `h5py` can do this but each step needs to be coded.  Currently, `h5coro` reads just the data.  None of the attributes or metadata associated with a dataset is read.\n",
    "\n",
    "In this notebook, I benchmark an xarray-type read using `h5py` against `xarray.open_dataset`.  \n",
    "\n",
    "I should probably need to add an `h5coro` example."
   ]
  },
  {
   "cell_type": "code",
   "execution_count": 21,
   "id": "a1c42585-068d-4a12-8613-e8f4bf8d5405",
   "metadata": {
    "tags": []
   },
   "outputs": [],
   "source": [
    "import earthaccess\n",
    "\n",
    "import h5py\n",
    "import xarray as xr\n",
    "\n",
    "from dataset_lists import BEAM_GROUP, XARRAY_LIKE_ONE_DATASET\n",
    "\n",
    "from pprint import pprint"
   ]
  },
  {
   "cell_type": "code",
   "execution_count": null,
   "id": "de6d31a5-bb6e-46cc-8313-b3115c1a37d7",
   "metadata": {
    "tags": []
   },
   "outputs": [],
   "source": [
    "auth = earthaccess.login()"
   ]
  },
  {
   "cell_type": "code",
   "execution_count": 3,
   "id": "233dab0e-022f-4f09-becb-b53444b0f327",
   "metadata": {
    "tags": []
   },
   "outputs": [
    {
     "data": {
      "text/plain": [
       "2023-08-09 05:30:04 7760000000 h5cloud/h5repack/ATL03_20181120182818_08110112_006_02_repacked.h5\n",
       "2023-08-09 05:30:04 7008000000 h5cloud/h5repack/ATL03_20190219140808_08110212_006_02_repacked.h5\n",
       "2023-08-09 05:30:04 6936000000 h5cloud/h5repack/ATL03_20200217204710_08110612_006_01_repacked.h5\n",
       "2023-08-09 05:30:04 8400000000 h5cloud/h5repack/ATL03_20211114142614_08111312_006_01_repacked.h5\n",
       "2023-08-09 05:30:04 7960000000 h5cloud/h5repack/ATL03_20230211164520_08111812_006_01_repacked.h5\n",
       "2023-08-08 23:45:34 7754735138 h5cloud/original/ATL03_20181120182818_08110112_006_02.h5\n",
       "2023-08-08 23:47:04 6997123664 h5cloud/original/ATL03_20190219140808_08110212_006_02.h5\n",
       "2023-08-08 23:47:04 6925710500 h5cloud/original/ATL03_20200217204710_08110612_006_01.h5\n",
       "2023-08-08 23:47:04 8392279594 h5cloud/original/ATL03_20211114142614_08111312_006_01.h5\n",
       "2023-08-08 23:47:04 7954039827 h5cloud/original/ATL03_20230211164520_08111812_006_01.h5\n"
      ]
     },
     "metadata": {},
     "output_type": "display_data"
    }
   ],
   "source": [
    "more s3files.txt"
   ]
  },
  {
   "cell_type": "code",
   "execution_count": 106,
   "id": "36a62210-ea3f-451a-b222-feff06e0f571",
   "metadata": {
    "tags": []
   },
   "outputs": [],
   "source": [
    "import json\n",
    "from pathlib import Path\n",
    "\n",
    "S3FILELINKS = Path(\"../s3filelinks.json\")\n",
    "\n",
    "class S3Links:\n",
    "    \n",
    "    def __init__(self):\n",
    "        self.json_file = S3FILELINKS\n",
    "        self.table = load_s3testfile(S3FILELINKS)\n",
    "        self.formats = list(self.table.keys())\n",
    "        \n",
    "    \n",
    "    def get_links_by_format(self, file_format):\n",
    "        try:\n",
    "            return list(self.table[file_format].values())\n",
    "        except KeyError:\n",
    "            print(f\"Unknown file_format.  Expects one of {self.formats}\")\n",
    "            return None\n",
    "        \n",
    "    def get_link_by_name(self, name):\n",
    "        try:\n",
    "            return self.dict_by_name()[name]\n",
    "        except:\n",
    "            print(f\"{name} not found in self.table\")\n",
    "            return None\n",
    "        \n",
    "    def get_link_by_fileid(self, file_format, fileid):\n",
    "        return self.get_links_by_format(file_format)[fileid]\n",
    "      \n",
    "    def dict_by_name(self):\n",
    "        return dict([make_entry(link) for fmt in self.table.values() for link in fmt.values()])\n",
    "    \n",
    "    \n",
    "def load_s3testfile(file_format, filename=None, fileid=None):\n",
    "    with open(S3FILELINKS, 'r') as f:\n",
    "        json_obj = json.load(f)\n",
    "    return json_obj\n",
    "\n",
    "def make_entry(path):\n",
    "    name = path.split('/')[-1]\n",
    "    return name, path"
   ]
  },
  {
   "cell_type": "code",
   "execution_count": 107,
   "id": "33dab034-fd99-4c68-ae88-0eb4dea65c9a",
   "metadata": {
    "tags": []
   },
   "outputs": [],
   "source": [
    "s3links = S3Links()"
   ]
  },
  {
   "cell_type": "code",
   "execution_count": 111,
   "id": "cd86995e-db4b-4a70-85b1-4f3186366fe4",
   "metadata": {
    "tags": []
   },
   "outputs": [
    {
     "data": {
      "text/plain": [
       "['h5repack', 'original']"
      ]
     },
     "execution_count": 111,
     "metadata": {},
     "output_type": "execute_result"
    }
   ],
   "source": [
    "s3links.formats"
   ]
  },
  {
   "cell_type": "code",
   "execution_count": 108,
   "id": "5aec5cba-723a-46bd-be1a-38c81c380296",
   "metadata": {
    "tags": []
   },
   "outputs": [
    {
     "data": {
      "text/plain": [
       "['h5cloud/h5repack/ATL03_20181120182818_08110112_006_02_repacked.h5',\n",
       " 'h5cloud/h5repack/ATL03_20190219140808_08110212_006_02_repacked.h5',\n",
       " 'h5cloud/h5repack/ATL03_20200217204710_08110612_006_01_repacked.h5',\n",
       " 'h5cloud/h5repack/ATL03_20211114142614_08111312_006_01_repacked.h5',\n",
       " 'h5cloud/h5repack/ATL03_20230211164520_08111812_006_01_repacked.h5']"
      ]
     },
     "execution_count": 108,
     "metadata": {},
     "output_type": "execute_result"
    }
   ],
   "source": [
    "s3links.get_links_by_format('h5repack')"
   ]
  },
  {
   "cell_type": "code",
   "execution_count": 110,
   "id": "5a8541dc-00e7-47de-bdf0-a73c3e1db4c4",
   "metadata": {
    "tags": []
   },
   "outputs": [
    {
     "data": {
      "text/plain": [
       "'h5cloud/h5repack/ATL03_20181120182818_08110112_006_02_repacked.h5'"
      ]
     },
     "execution_count": 110,
     "metadata": {},
     "output_type": "execute_result"
    }
   ],
   "source": [
    "s3links.get_link_by_name('ATL03_20181120182818_08110112_006_02_repacked.h5')"
   ]
  },
  {
   "cell_type": "code",
   "execution_count": 112,
   "id": "fd622ec6-c33f-4e64-8d6e-46504e565336",
   "metadata": {
    "tags": []
   },
   "outputs": [
    {
     "data": {
      "text/plain": [
       "'h5cloud/original/ATL03_20181120182818_08110112_006_02.h5'"
      ]
     },
     "execution_count": 112,
     "metadata": {},
     "output_type": "execute_result"
    }
   ],
   "source": [
    "s3links.get_link_by_fileid('original', 0)"
   ]
  },
  {
   "cell_type": "code",
   "execution_count": null,
   "id": "f4daf48b-20c0-41f7-aac6-a2752ce7ee95",
   "metadata": {},
   "outputs": [],
   "source": []
  }
 ],
 "metadata": {
  "kernelspec": {
   "display_name": "Python 3 (ipykernel)",
   "language": "python",
   "name": "python3"
  },
  "language_info": {
   "codemirror_mode": {
    "name": "ipython",
    "version": 3
   },
   "file_extension": ".py",
   "mimetype": "text/x-python",
   "name": "python",
   "nbconvert_exporter": "python",
   "pygments_lexer": "ipython3",
   "version": "3.10.12"
  }
 },
 "nbformat": 4,
 "nbformat_minor": 5
}
