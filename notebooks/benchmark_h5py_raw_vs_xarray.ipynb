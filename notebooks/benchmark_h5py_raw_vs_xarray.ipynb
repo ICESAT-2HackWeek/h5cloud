{
 "cells": [
  {
   "cell_type": "markdown",
   "id": "6c2bd4a5-464a-48fb-a72b-600602d5fdb2",
   "metadata": {
    "user_expressions": []
   },
   "source": [
    "# Compare `h5py` read with `xarray`\n",
    "\n",
    "`xarray` does quite a lot under the hood.  When it reads a HDF5 dataset, it also reads dimension and coordinate variables, and attributes.  `h5py` can do this but each step needs to be coded.  Currently, `h5coro` reads just the data.  None of the attributes or metadata associated with a dataset is read.\n",
    "\n",
    "In this notebook, I benchmark an xarray-type read using `h5py` against `xarray.open_dataset`.  \n",
    "\n",
    "I should probably need to add an `h5coro` example."
   ]
  },
  {
   "cell_type": "code",
   "execution_count": 1,
   "id": "a1c42585-068d-4a12-8613-e8f4bf8d5405",
   "metadata": {
    "tags": []
   },
   "outputs": [],
   "source": [
    "import earthaccess\n",
    "\n",
    "import h5py\n",
    "import xarray as xr"
   ]
  },
  {
   "cell_type": "code",
   "execution_count": null,
   "id": "de6d31a5-bb6e-46cc-8313-b3115c1a37d7",
   "metadata": {},
   "outputs": [],
   "source": []
  }
 ],
 "metadata": {
  "kernelspec": {
   "display_name": "Python 3 (ipykernel)",
   "language": "python",
   "name": "python3"
  },
  "language_info": {
   "codemirror_mode": {
    "name": "ipython",
    "version": 3
   },
   "file_extension": ".py",
   "mimetype": "text/x-python",
   "name": "python",
   "nbconvert_exporter": "python",
   "pygments_lexer": "ipython3",
   "version": "3.10.12"
  }
 },
 "nbformat": 4,
 "nbformat_minor": 5
}
