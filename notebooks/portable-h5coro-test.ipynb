{
 "cells": [
  {
   "cell_type": "code",
   "execution_count": 1,
   "id": "48daa283-8e1e-46e3-b4ce-1a0271b86d37",
   "metadata": {
    "tags": []
   },
   "outputs": [],
   "source": [
    "%load_ext autoreload\n",
    "%autoreload \n",
    "\n",
    "import sys\n",
    "import os\n",
    "classes_path = os.path.abspath('../h5tests/')\n",
    "sys.path.append(classes_path)\n",
    "from h5coro_arr_mean import H5CoroArrMean\n",
    "import pandas as pd\n",
    "\n",
    "benchmarks = []"
   ]
  },
  {
   "cell_type": "code",
   "execution_count": 2,
   "id": "d6ce77fd-f9cd-48b1-94cd-1fe57f52e11f",
   "metadata": {
    "tags": []
   },
   "outputs": [],
   "source": [
    "original_granules = [\n",
    "    \"s3://its-live-data/cloud-experiments/h5cloud/atl03/big/original/ATL03_20181120182818_08110112_006_02.h5\",\n",
    "    \"s3://its-live-data/cloud-experiments/h5cloud/atl03/big/original/ATL03_20190219140808_08110212_006_02.h5\",\n",
    "]\n",
    "h5coro_original = H5CoroArrMean('atl03-bigsize-original', files=original_granules, store_results=True)"
   ]
  },
  {
   "cell_type": "code",
   "execution_count": 3,
   "id": "60eeeb1b-9531-4fec-a847-3ca5304c4685",
   "metadata": {
    "tags": []
   },
   "outputs": [
    {
     "ename": "FatalError",
     "evalue": "invalid credential keys provided, looking for: aws_access_key_id, aws_secret_access_key, and aws_session_token",
     "output_type": "error",
     "traceback": [
      "\u001b[0;31m---------------------------------------------------------------------------\u001b[0m",
      "\u001b[0;31mFatalError\u001b[0m                                Traceback (most recent call last)",
      "Cell \u001b[0;32mIn[3], line 2\u001b[0m\n\u001b[1;32m      1\u001b[0m \u001b[38;5;66;03m# takes about ~30 seconds per granule out of region (6+ GB granules)\u001b[39;00m\n\u001b[0;32m----> 2\u001b[0m results \u001b[38;5;241m=\u001b[39m \u001b[43mh5coro_original\u001b[49m\u001b[38;5;241;43m.\u001b[39;49m\u001b[43mrun\u001b[49m\u001b[43m(\u001b[49m\u001b[43m)\u001b[49m\n\u001b[1;32m      3\u001b[0m benchmarks\u001b[38;5;241m.\u001b[39mappend({\u001b[38;5;124m\"\u001b[39m\u001b[38;5;124mlibrary\u001b[39m\u001b[38;5;124m\"\u001b[39m: \u001b[38;5;124m\"\u001b[39m\u001b[38;5;124mh5coro\u001b[39m\u001b[38;5;124m\"\u001b[39m,\n\u001b[1;32m      4\u001b[0m                    \u001b[38;5;124m\"\u001b[39m\u001b[38;5;124mformat\u001b[39m\u001b[38;5;124m\"\u001b[39m: \u001b[38;5;124m\"\u001b[39m\u001b[38;5;124moriginal\u001b[39m\u001b[38;5;124m\"\u001b[39m,\n\u001b[1;32m      5\u001b[0m                    \u001b[38;5;124m\"\u001b[39m\u001b[38;5;124mmean\u001b[39m\u001b[38;5;124m\"\u001b[39m: results[\u001b[38;5;241m0\u001b[39m],\n\u001b[0;32m   (...)\u001b[0m\n\u001b[1;32m      8\u001b[0m                    \u001b[38;5;124m\"\u001b[39m\u001b[38;5;124mtotal_requests\u001b[39m\u001b[38;5;124m\"\u001b[39m: results[\u001b[38;5;241m3\u001b[39m][\u001b[38;5;124m\"\u001b[39m\u001b[38;5;124mtotal_reqs\u001b[39m\u001b[38;5;124m\"\u001b[39m],\n\u001b[1;32m      9\u001b[0m                    \u001b[38;5;124m\"\u001b[39m\u001b[38;5;124mavg_req_size\u001b[39m\u001b[38;5;124m\"\u001b[39m: results[\u001b[38;5;241m3\u001b[39m][\u001b[38;5;124m\"\u001b[39m\u001b[38;5;124mavg_req_size\u001b[39m\u001b[38;5;124m\"\u001b[39m]})\n\u001b[1;32m     10\u001b[0m benchmarks\n",
      "File \u001b[0;32m~/work/openscapes/h5cloud/h5tests/h5test.py:95\u001b[0m, in \u001b[0;36mtimer_decorator.<locals>.wrapper\u001b[0;34m(self, *args, **kwargs)\u001b[0m\n\u001b[1;32m     93\u001b[0m     __setup_logging(\u001b[38;5;28mself\u001b[39m, tstamp)\n\u001b[1;32m     94\u001b[0m start_time \u001b[38;5;241m=\u001b[39m time\u001b[38;5;241m.\u001b[39mtime()\n\u001b[0;32m---> 95\u001b[0m result \u001b[38;5;241m=\u001b[39m \u001b[43mfunc\u001b[49m\u001b[43m(\u001b[49m\u001b[38;5;28;43mself\u001b[39;49m\u001b[43m,\u001b[49m\u001b[43m \u001b[49m\u001b[38;5;241;43m*\u001b[39;49m\u001b[43margs\u001b[49m\u001b[43m,\u001b[49m\u001b[43m \u001b[49m\u001b[38;5;241;43m*\u001b[39;49m\u001b[38;5;241;43m*\u001b[39;49m\u001b[43mkwargs\u001b[49m\u001b[43m)\u001b[49m\n\u001b[1;32m     96\u001b[0m end_time \u001b[38;5;241m=\u001b[39m time\u001b[38;5;241m.\u001b[39mtime()\n\u001b[1;32m     97\u001b[0m \u001b[38;5;28;01mif\u001b[39;00m \u001b[38;5;28mself\u001b[39m\u001b[38;5;241m.\u001b[39mlogs_regex:\n",
      "File \u001b[0;32m~/work/openscapes/h5cloud/h5tests/h5coro_arr_mean.py:30\u001b[0m, in \u001b[0;36mH5CoroArrMean.run\u001b[0;34m(self, dataset, variable)\u001b[0m\n\u001b[1;32m     27\u001b[0m     credentials \u001b[38;5;241m=\u001b[39m {\u001b[38;5;124m\"\u001b[39m\u001b[38;5;124mregion_name\u001b[39m\u001b[38;5;124m\"\u001b[39m: \u001b[38;5;124m\"\u001b[39m\u001b[38;5;124mus-west-2\u001b[39m\u001b[38;5;124m\"\u001b[39m,\n\u001b[1;32m     28\u001b[0m                    \u001b[38;5;124m\"\u001b[39m\u001b[38;5;124manon\u001b[39m\u001b[38;5;124m\"\u001b[39m: \u001b[38;5;28;01mTrue\u001b[39;00m}\n\u001b[1;32m     29\u001b[0m \u001b[38;5;28;01mfor\u001b[39;00m file \u001b[38;5;129;01min\u001b[39;00m \u001b[38;5;28mself\u001b[39m\u001b[38;5;241m.\u001b[39mfiles:\n\u001b[0;32m---> 30\u001b[0m     h5obj \u001b[38;5;241m=\u001b[39m \u001b[43mh5coro\u001b[49m\u001b[38;5;241;43m.\u001b[39;49m\u001b[43mH5Coro\u001b[49m\u001b[43m(\u001b[49m\u001b[43mfile\u001b[49m\u001b[38;5;241;43m.\u001b[39;49m\u001b[43mreplace\u001b[49m\u001b[43m(\u001b[49m\u001b[38;5;124;43m\"\u001b[39;49m\u001b[38;5;124;43ms3://\u001b[39;49m\u001b[38;5;124;43m\"\u001b[39;49m\u001b[43m,\u001b[49m\u001b[43m \u001b[49m\u001b[38;5;124;43m\"\u001b[39;49m\u001b[38;5;124;43m\"\u001b[39;49m\u001b[43m)\u001b[49m\u001b[43m,\u001b[49m\u001b[43m \u001b[49m\u001b[43ms3driver\u001b[49m\u001b[38;5;241;43m.\u001b[39;49m\u001b[43mS3Driver\u001b[49m\u001b[43m,\u001b[49m\u001b[43m \u001b[49m\u001b[43mcredentials\u001b[49m\u001b[38;5;241;43m=\u001b[39;49m\u001b[43mcredentials\u001b[49m\u001b[43m)\u001b[49m\n\u001b[1;32m     31\u001b[0m     output \u001b[38;5;241m=\u001b[39m h5obj\u001b[38;5;241m.\u001b[39mreadDatasets(datasets\u001b[38;5;241m=\u001b[39m[\u001b[38;5;124mf\u001b[39m\u001b[38;5;124m'\u001b[39m\u001b[38;5;132;01m{\u001b[39;00mgroup\u001b[38;5;132;01m}\u001b[39;00m\u001b[38;5;124m/\u001b[39m\u001b[38;5;132;01m{\u001b[39;00mvariable\u001b[38;5;132;01m}\u001b[39;00m\u001b[38;5;124m'\u001b[39m], block\u001b[38;5;241m=\u001b[39m\u001b[38;5;28;01mTrue\u001b[39;00m)\n\u001b[1;32m     32\u001b[0m     data \u001b[38;5;241m=\u001b[39m h5obj[\u001b[38;5;124mf\u001b[39m\u001b[38;5;124m'\u001b[39m\u001b[38;5;132;01m{\u001b[39;00mgroup\u001b[38;5;132;01m}\u001b[39;00m\u001b[38;5;124m/\u001b[39m\u001b[38;5;132;01m{\u001b[39;00mvariable\u001b[38;5;132;01m}\u001b[39;00m\u001b[38;5;124m'\u001b[39m]\u001b[38;5;241m.\u001b[39mvalues\n",
      "File \u001b[0;32m~/.pyenv/versions/mambaforge/envs/h5cloud/lib/python3.12/site-packages/h5coro/h5coro.py:2020\u001b[0m, in \u001b[0;36mH5Coro.__init__\u001b[0;34m(self, resource, driver_class, credentials, datasets, block)\u001b[0m\n\u001b[1;32m   2018\u001b[0m \u001b[38;5;28;01mdef\u001b[39;00m \u001b[38;5;21m__init__\u001b[39m(\u001b[38;5;28mself\u001b[39m, resource, driver_class, credentials\u001b[38;5;241m=\u001b[39m{}, datasets\u001b[38;5;241m=\u001b[39m[], block\u001b[38;5;241m=\u001b[39m\u001b[38;5;28;01mTrue\u001b[39;00m):\n\u001b[1;32m   2019\u001b[0m     \u001b[38;5;28mself\u001b[39m\u001b[38;5;241m.\u001b[39mresource \u001b[38;5;241m=\u001b[39m resource\n\u001b[0;32m-> 2020\u001b[0m     \u001b[38;5;28mself\u001b[39m\u001b[38;5;241m.\u001b[39mdriver \u001b[38;5;241m=\u001b[39m \u001b[43mdriver_class\u001b[49m\u001b[43m(\u001b[49m\u001b[43mresource\u001b[49m\u001b[43m,\u001b[49m\u001b[43m \u001b[49m\u001b[43mcredentials\u001b[49m\u001b[43m)\u001b[49m\n\u001b[1;32m   2022\u001b[0m     \u001b[38;5;28mself\u001b[39m\u001b[38;5;241m.\u001b[39mcache \u001b[38;5;241m=\u001b[39m {}\n\u001b[1;32m   2023\u001b[0m     \u001b[38;5;28mself\u001b[39m\u001b[38;5;241m.\u001b[39mmetaDataTable \u001b[38;5;241m=\u001b[39m {}\n",
      "File \u001b[0;32m~/.pyenv/versions/mambaforge/envs/h5cloud/lib/python3.12/site-packages/h5coro/s3driver.py:43\u001b[0m, in \u001b[0;36mS3Driver.__init__\u001b[0;34m(self, resource, credentials)\u001b[0m\n\u001b[1;32m     41\u001b[0m     \u001b[38;5;28mself\u001b[39m\u001b[38;5;241m.\u001b[39msession \u001b[38;5;241m=\u001b[39m boto3\u001b[38;5;241m.\u001b[39mSession()\n\u001b[1;32m     42\u001b[0m \u001b[38;5;28;01melse\u001b[39;00m:\n\u001b[0;32m---> 43\u001b[0m     \u001b[38;5;28;01mraise\u001b[39;00m FatalError(\u001b[38;5;124m'\u001b[39m\u001b[38;5;124minvalid credential keys provided, looking for: aws_access_key_id, aws_secret_access_key, and aws_session_token\u001b[39m\u001b[38;5;124m'\u001b[39m)\n\u001b[1;32m     45\u001b[0m \u001b[38;5;66;03m# open resource\u001b[39;00m\n\u001b[1;32m     46\u001b[0m \u001b[38;5;28mself\u001b[39m\u001b[38;5;241m.\u001b[39mobj \u001b[38;5;241m=\u001b[39m \u001b[38;5;28mself\u001b[39m\u001b[38;5;241m.\u001b[39msession\u001b[38;5;241m.\u001b[39mresource(\u001b[38;5;124m'\u001b[39m\u001b[38;5;124ms3\u001b[39m\u001b[38;5;124m'\u001b[39m)\u001b[38;5;241m.\u001b[39mObject(\u001b[38;5;28mself\u001b[39m\u001b[38;5;241m.\u001b[39mresourcePath[\u001b[38;5;241m0\u001b[39m], \u001b[38;5;124m'\u001b[39m\u001b[38;5;124m/\u001b[39m\u001b[38;5;124m'\u001b[39m\u001b[38;5;241m.\u001b[39mjoin(\u001b[38;5;28mself\u001b[39m\u001b[38;5;241m.\u001b[39mresourcePath[\u001b[38;5;241m1\u001b[39m:]))\n",
      "\u001b[0;31mFatalError\u001b[0m: invalid credential keys provided, looking for: aws_access_key_id, aws_secret_access_key, and aws_session_token"
     ]
    }
   ],
   "source": [
    "# takes about ~30 seconds per granule out of region (6+ GB granules)\n",
    "results = h5coro_original.run()\n",
    "benchmarks.append({\"library\": \"h5coro\",\n",
    "                   \"format\": \"original\",\n",
    "                   \"mean\": results[0],\n",
    "                   \"time\": results[1],\n",
    "                   \"total_requested_bytes\": results[3][\"total_reqs_bytes\"],\n",
    "                   \"total_requests\": results[3][\"total_reqs\"],\n",
    "                   \"avg_req_size\": results[3][\"avg_req_size\"]})\n",
    "benchmarks"
   ]
  },
  {
   "cell_type": "code",
   "execution_count": null,
   "id": "64c4584f-c527-44bb-8c05-68a96820d1ff",
   "metadata": {},
   "outputs": [],
   "source": [
    "cloud_optimized_granules = [\n",
    "    \"s3://its-live-data/cloud-experiments/h5cloud/atl03/big/repacked/ATL03_20181120182818_08110112_006_02_repacked.h5\",\n",
    "    \"s3://its-live-data/cloud-experiments/h5cloud/atl03/big/repacked/ATL03_20190219140808_08110212_006_02_repacked.h5\",\n",
    "]\n",
    "h5py_cloud = H5pyArrMean('atl03-bigsize-repacked', files=cloud_optimized_granules, store_results=True)"
   ]
  },
  {
   "cell_type": "code",
   "execution_count": null,
   "id": "9d30d92b-4192-4da1-8b60-41cc94ca2db1",
   "metadata": {},
   "outputs": [],
   "source": [
    "df = pd.DataFrame.from_dict(benchmarks)\n",
    "df"
   ]
  },
  {
   "cell_type": "code",
   "execution_count": null,
   "id": "3ff4c22f-7f77-4c69-a84c-f13b0fbba1f2",
   "metadata": {},
   "outputs": [],
   "source": [
    "import matplotlib.pyplot as plt\n",
    "\n",
    "fig, ax = plt.subplots(figsize=(10, 6))\n",
    "\n",
    "for name, group in df.groupby(['library', 'format']):\n",
    "    library, format = name\n",
    "    x = f'{library}, {format}'\n",
    "    y = group['time'].mean()\n",
    "    ax.bar(f'{library}, {format}', group['time'].mean(), label=f'{library}, {format}', align='center')\n",
    "    ax.text(x, y + 0.05, f'{group[\"time\"].mean():.2f}', ha='center', va='bottom', color='black', fontsize=12)\n",
    "    ax.text(x, y - (y/2) - 10, f'Total Requests: {group[\"total_requests\"].mean()}', ha='center', va='bottom', color='black', fontsize=8)\n",
    "    ax.text(x, y - (y/2.5), f'Total Req Bytes (MB): {round(group[\"total_requested_bytes\"].mean() / (1024*1024) , 2)}', ha='center', va='bottom', color='black', fontsize=8)\n",
    "\n",
    "# Set labels and title\n",
    "ax.set_xlabel('Access Pattern')\n",
    "ax.set_ylabel('Time in Seconds')\n",
    "ax.set_title(f'mean() on photon data for runs on ATL03, less is better ')\n",
    "\n",
    "# Rotate x-axis labels for better readability\n",
    "plt.xticks(rotation=45, ha='right')\n",
    "\n",
    "# # Show legend\n",
    "# ax.legend()\n",
    "\n",
    "# Show the plot\n",
    "with plt.xkcd():\n",
    "    # This figure will be in XKCD-style\n",
    "    fig1 = plt.figure()"
   ]
  }
 ],
 "metadata": {
  "kernelspec": {
   "display_name": "Python 3 (ipykernel)",
   "language": "python",
   "name": "python3"
  },
  "language_info": {
   "codemirror_mode": {
    "name": "ipython",
    "version": 3
   },
   "file_extension": ".py",
   "mimetype": "text/x-python",
   "name": "python",
   "nbconvert_exporter": "python",
   "pygments_lexer": "ipython3",
   "version": "3.12.1"
  }
 },
 "nbformat": 4,
 "nbformat_minor": 5
}
