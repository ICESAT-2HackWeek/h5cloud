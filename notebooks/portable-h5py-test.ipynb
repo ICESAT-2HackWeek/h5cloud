{
 "cells": [
  {
   "cell_type": "code",
   "execution_count": 1,
   "id": "48daa283-8e1e-46e3-b4ce-1a0271b86d37",
   "metadata": {
    "tags": []
   },
   "outputs": [],
   "source": [
    "%load_ext autoreload\n",
    "%autoreload \n",
    "\n",
    "import sys\n",
    "import os\n",
    "classes_path = os.path.abspath('../h5tests/')\n",
    "sys.path.append(classes_path)\n",
    "from h5py_arr_mean import H5pyArrMean\n",
    "import pandas as pd\n",
    "\n",
    "benchmarks = []"
   ]
  },
  {
   "cell_type": "code",
   "execution_count": 2,
   "id": "d6ce77fd-f9cd-48b1-94cd-1fe57f52e11f",
   "metadata": {
    "tags": []
   },
   "outputs": [],
   "source": [
    "original_granules = [\n",
    "    \"s3://its-live-data/cloud-experiments/h5cloud/atl03/big/original/ATL03_20181120182818_08110112_006_02.h5\",\n",
    "    \"s3://its-live-data/cloud-experiments/h5cloud/atl03/big/original/ATL03_20190219140808_08110212_006_02.h5\",\n",
    "]\n",
    "h5py_original = H5pyArrMean('atl03-bigsize-original', files=original_granules, store_results=True)"
   ]
  },
  {
   "cell_type": "code",
   "execution_count": 3,
   "id": "60eeeb1b-9531-4fec-a847-3ca5304c4685",
   "metadata": {
    "tags": []
   },
   "outputs": [
    {
     "name": "stdout",
     "output_type": "stream",
     "text": [
      "h5py params:  {}\n",
      "h5py params:  {}\n"
     ]
    },
    {
     "data": {
      "text/plain": [
       "[{'library': 'h5py',\n",
       "  'format': 'original',\n",
       "  'mean': 1032.9840463639412,\n",
       "  'time': 51.46329092979431,\n",
       "  'total_requested_bytes': 414028873,\n",
       "  'total_requests': 12295,\n",
       "  'avg_req_size': 33674}]"
      ]
     },
     "execution_count": 3,
     "metadata": {},
     "output_type": "execute_result"
    }
   ],
   "source": [
    "# takes about ~30 seconds per granule out of region (6+ GB granules)\n",
    "io_params ={\n",
    "    \"fsspec_params\": {},\n",
    "    \"h5py_params\" : {}\n",
    "}\n",
    "results = h5py_original.run(io_params)\n",
    "benchmarks.append({\"library\": \"h5py\",\n",
    "                   \"format\": \"original\",\n",
    "                   \"mean\": results[0],\n",
    "                   \"time\": results[1],\n",
    "                   \"total_requested_bytes\": results[3][\"total_reqs_bytes\"],\n",
    "                   \"total_requests\": results[3][\"total_reqs\"],\n",
    "                   \"avg_req_size\": results[3][\"avg_req_size\"]})\n",
    "benchmarks"
   ]
  },
  {
   "cell_type": "code",
   "execution_count": 4,
   "id": "64c4584f-c527-44bb-8c05-68a96820d1ff",
   "metadata": {},
   "outputs": [],
   "source": [
    "cloud_optimized_granules = [\n",
    "    \"s3://its-live-data/cloud-experiments/h5cloud/atl03/big/repacked/ATL03_20181120182818_08110112_006_02_repacked.h5\",\n",
    "    \"s3://its-live-data/cloud-experiments/h5cloud/atl03/big/repacked/ATL03_20190219140808_08110212_006_02_repacked.h5\",\n",
    "]\n",
    "h5py_cloud = H5pyArrMean('atl03-bigsize-repacked', files=cloud_optimized_granules, store_results=True)"
   ]
  },
  {
   "cell_type": "code",
   "execution_count": 5,
   "id": "dfd4e404-0412-4d2f-8eba-ca39a670e369",
   "metadata": {},
   "outputs": [
    {
     "name": "stdout",
     "output_type": "stream",
     "text": [
      "h5py params:  {'page_buf_size': 33554432, 'rdcc_nbytes': 1048576}\n",
      "h5py params:  {'page_buf_size': 33554432, 'rdcc_nbytes': 1048576}\n"
     ]
    },
    {
     "data": {
      "text/plain": [
       "[{'library': 'h5py',\n",
       "  'format': 'original',\n",
       "  'mean': 1032.9840463639412,\n",
       "  'time': 51.46329092979431,\n",
       "  'total_requested_bytes': 414028873,\n",
       "  'total_requests': 12295,\n",
       "  'avg_req_size': 33674},\n",
       " {'library': 'h5py',\n",
       "  'format': 'cloud',\n",
       "  'mean': 1032.9840463639412,\n",
       "  'time': 42.97014808654785,\n",
       "  'total_requested_bytes': 560001136,\n",
       "  'total_requests': 78,\n",
       "  'avg_req_size': 7179501}]"
      ]
     },
     "execution_count": 5,
     "metadata": {},
     "output_type": "execute_result"
    }
   ],
   "source": [
    "# takes about ~30 seconds per granule out of region\n",
    "io_params ={\n",
    "    \"fsspec_params\": {\n",
    "        # \"skip_instance_cache\": True\n",
    "        \"cache_type\": \"first\",\n",
    "        \"block_size\": 16*1024*1024\n",
    "    },\n",
    "    \"h5py_params\" : {\n",
    "        \"page_buf_size\": 32*1024*1024,\n",
    "        \"rdcc_nbytes\": 1024*1024\n",
    "    }\n",
    "}\n",
    "\n",
    "results = h5py_cloud.run(io_params)\n",
    "\n",
    "benchmarks.append({\"library\": \"h5py\",\n",
    "                   \"format\": \"cloud\",\n",
    "                   \"mean\": results[0],\n",
    "                   \"time\": results[1],\n",
    "                   \"total_requested_bytes\": results[3][\"total_reqs_bytes\"],\n",
    "                   \"total_requests\": results[3][\"total_reqs\"],\n",
    "                   \"avg_req_size\": results[3][\"avg_req_size\"]})\n",
    "benchmarks"
   ]
  },
  {
   "cell_type": "code",
   "execution_count": 6,
   "id": "9d30d92b-4192-4da1-8b60-41cc94ca2db1",
   "metadata": {},
   "outputs": [
    {
     "data": {
      "text/html": [
       "<div>\n",
       "<style scoped>\n",
       "    .dataframe tbody tr th:only-of-type {\n",
       "        vertical-align: middle;\n",
       "    }\n",
       "\n",
       "    .dataframe tbody tr th {\n",
       "        vertical-align: top;\n",
       "    }\n",
       "\n",
       "    .dataframe thead th {\n",
       "        text-align: right;\n",
       "    }\n",
       "</style>\n",
       "<table border=\"1\" class=\"dataframe\">\n",
       "  <thead>\n",
       "    <tr style=\"text-align: right;\">\n",
       "      <th></th>\n",
       "      <th>library</th>\n",
       "      <th>format</th>\n",
       "      <th>mean</th>\n",
       "      <th>time</th>\n",
       "      <th>total_requested_bytes</th>\n",
       "      <th>total_requests</th>\n",
       "      <th>avg_req_size</th>\n",
       "    </tr>\n",
       "  </thead>\n",
       "  <tbody>\n",
       "    <tr>\n",
       "      <th>0</th>\n",
       "      <td>h5py</td>\n",
       "      <td>original</td>\n",
       "      <td>1032.984046</td>\n",
       "      <td>51.463291</td>\n",
       "      <td>414028873</td>\n",
       "      <td>12295</td>\n",
       "      <td>33674</td>\n",
       "    </tr>\n",
       "    <tr>\n",
       "      <th>1</th>\n",
       "      <td>h5py</td>\n",
       "      <td>cloud</td>\n",
       "      <td>1032.984046</td>\n",
       "      <td>42.970148</td>\n",
       "      <td>560001136</td>\n",
       "      <td>78</td>\n",
       "      <td>7179501</td>\n",
       "    </tr>\n",
       "  </tbody>\n",
       "</table>\n",
       "</div>"
      ],
      "text/plain": [
       "  library    format         mean       time  total_requested_bytes  \\\n",
       "0    h5py  original  1032.984046  51.463291              414028873   \n",
       "1    h5py     cloud  1032.984046  42.970148              560001136   \n",
       "\n",
       "   total_requests  avg_req_size  \n",
       "0           12295         33674  \n",
       "1              78       7179501  "
      ]
     },
     "execution_count": 6,
     "metadata": {},
     "output_type": "execute_result"
    }
   ],
   "source": [
    "df = pd.DataFrame.from_dict(benchmarks)\n",
    "df"
   ]
  },
  {
   "cell_type": "code",
   "execution_count": 7,
   "id": "3ff4c22f-7f77-4c69-a84c-f13b0fbba1f2",
   "metadata": {},
   "outputs": [
    {
     "data": {
      "image/png": "[encoded data removed]",
      "text/plain": [
       "<Figure size 1000x600 with 1 Axes>"
      ]
     },
     "metadata": {},
     "output_type": "display_data"
    },
    {
     "data": {
      "text/plain": [
       "<Figure size 640x480 with 0 Axes>"
      ]
     },
     "metadata": {},
     "output_type": "display_data"
    }
   ],
   "source": [
    "import matplotlib.pyplot as plt\n",
    "\n",
    "fig, ax = plt.subplots(figsize=(10, 6))\n",
    "\n",
    "for name, group in df.groupby(['library', 'format']):\n",
    "    library, format = name\n",
    "    x = f'{library}, {format}'\n",
    "    y = group['time'].mean()\n",
    "    ax.bar(f'{library}, {format}', group['time'].mean(), label=f'{library}, {format}', align='center')\n",
    "    ax.text(x, y + 0.05, f'{group[\"time\"].mean():.2f}', ha='center', va='bottom', color='black', fontsize=12)\n",
    "    ax.text(x, y - (y/2) - 10, f'Total Requests: {group[\"total_requests\"].mean()}', ha='center', va='bottom', color='black', fontsize=8)\n",
    "    ax.text(x, y - (y/2.5), f'Total Req Bytes (MB): {round(group[\"total_requested_bytes\"].mean() / (1024*1024) , 2)}', ha='center', va='bottom', color='black', fontsize=8)\n",
    "\n",
    "# Set labels and title\n",
    "ax.set_xlabel('Access Pattern')\n",
    "ax.set_ylabel('Time in Seconds')\n",
    "ax.set_title(f'mean() on photon data for runs on ATL03, less is better ')\n",
    "\n",
    "# Rotate x-axis labels for better readability\n",
    "plt.xticks(rotation=45, ha='right')\n",
    "\n",
    "# # Show legend\n",
    "# ax.legend()\n",
    "\n",
    "# Show the plot\n",
    "with plt.xkcd():\n",
    "    # This figure will be in XKCD-style\n",
    "    fig1 = plt.figure()"
   ]
  }
 ],
 "metadata": {
  "kernelspec": {
   "display_name": "Python 3 (ipykernel)",
   "language": "python",
   "name": "python3"
  },
  "language_info": {
   "codemirror_mode": {
    "name": "ipython",
    "version": 3
   },
   "file_extension": ".py",
   "mimetype": "text/x-python",
   "name": "python",
   "nbconvert_exporter": "python",
   "pygments_lexer": "ipython3",
   "version": "3.12.1"
  }
 },
 "nbformat": 4,
 "nbformat_minor": 5
}
