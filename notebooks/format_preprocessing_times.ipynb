{
 "cells": [
  {
   "cell_type": "markdown",
   "id": "8c0bc123-e6c3-4c07-8e67-2c8928c43ac7",
   "metadata": {
    "user_expressions": []
   },
   "source": [
    "# Preprocessing Time Analysis for Different File Formats\n",
    "\n",
    "Introduction:\n",
    "\n",
    "ICESat-2's rich hierarchical photon data, primarily stored in HDF5 formats, presents both advantages and challenges. While HDF5 files excel in supporting diverse scientific workflows due to their self-describing nature and ability to house heterogeneous data, their serialization structure requires users to load an entire ATL03 HDF5 file even when only a subset is desired. This contrasts with raster data formats like cloud-optimized GeoTIFFs, which allow efficient partial data access.\n",
    "\n",
    "In our quest to optimize data access, we explore various file formats and preprocessing techniques. This includes traditional methods and cutting-edge approaches such as using kerchunk, a library designed to enhance chunked data access in cloud environments.\n",
    "\n",
    "Objective:\n",
    "\n",
    "In this section, we will analyze the preprocessing time taken for different file formats, including 'kerchunked', 'original h5', 'repacked', 'kerchunked of repacked', and 'geoparquet'. By benchmarking these times, we aim to identify the most efficient file structure for ICESat-2 data retrieval, both in terms of speed and computational resources.\n",
    "\n"
   ]
  },
  {
   "cell_type": "markdown",
   "id": "04f2d598-62e8-4065-99ad-9bb6633e60dc",
   "metadata": {
    "user_expressions": []
   },
   "source": [
    "## Generating Kerchunk sidecar for ATL03 files\n",
    "You're creating an accompanying metadata file (much like sidecar in motorbike which ride along with the primary file) using the Kerchunk library for the ATL03 data files. In the context of Kerchunk, the sidecar would contain metadata, byte range locations, compression information, and other essential details that allow for efficient, chunked access to the main data file without needing to read the whole file."
   ]
  },
  {
   "cell_type": "markdown",
   "id": "97ced3d6-cd8f-4a65-87bf-b645f4ac3864",
   "metadata": {
    "tags": [],
    "user_expressions": []
   },
   "source": [
    "Setting Up the Environment for Kerchunk Processing with ATL03 Files"
   ]
  },
  {
   "cell_type": "code",
   "execution_count": null,
   "id": "e251ba02-2877-4c25-b413-487364cf570e",
   "metadata": {
    "tags": []
   },
   "outputs": [],
   "source": [
    "%%capture\n",
    "%pip install git+https://github.com/fsspec/kerchunk\n",
    "\n",
    "# restart the kernel after this"
   ]
  },
  {
   "cell_type": "code",
   "execution_count": null,
   "id": "c45309c4-5be9-48d6-a82c-d4a283293825",
   "metadata": {
    "tags": []
   },
   "outputs": [],
   "source": [
    "from kerchunk.hdf import SingleHdf5ToZarr\n",
    "import fsspec\n",
    "from pathlib import Path\n",
    "\n",
    "import os\n",
    "import ujson\n",
    "import dask"
   ]
  },
  {
   "cell_type": "code",
   "execution_count": null,
   "id": "c7392771-1742-478a-beb5-5d0aae628d66",
   "metadata": {
    "tags": []
   },
   "outputs": [],
   "source": [
    "# Initialize connection to the AWS S3 filesystem for reading files.\n",
    "fs_read_files = fsspec.filesystem('s3')\n",
    "\n",
    "# Create a list of all files present in the specified S3 directory. Here I am using one of the files.\n",
    "flist = fs_read_files.glob('s3://nasa-cryo-scratch/h5cloud/original/ATL03_20200217204710_08110612_006_01.h5')\n",
    "\n",
    "def gen_json(file_url):\n",
    "    \"\"\"\n",
    "    Generate a JSON representation of the chunked structure of an HDF5 file.\n",
    "\n",
    "    Args:\n",
    "    - file_url (str): URL to the HDF5 file hosted on S3 bucket.\n",
    "    \"\"\"\n",
    "    \n",
    "    # Configuration for opening the file: Avoid caching to reduce memory usage.\n",
    "    so = dict(mode='rb', default_fill_cache=False, default_cache_type='first')\n",
    "    \n",
    "    # Initialize connection to the S3 filesystem.\n",
    "    fs = fsspec.filesystem('s3')\n",
    "    \n",
    "    # Initialize connection to the local filesystem for saving JSON outputs.\n",
    "    fs_local = fsspec.filesystem('')  \n",
    "    \n",
    "    # Open and process the HDF5 file from S3.\n",
    "    with fs.open(file_url, **so) as infile:\n",
    "        print(f\"Processing: {file_url}\")\n",
    "        \n",
    "        # Convert the HDF5 data structure for optimized cloud access.\n",
    "        h5chunks = SingleHdf5ToZarr(infile, file_url, inline_threshold=300)\n",
    "        \n",
    "        # Determine the name of the output JSON file based on the input file's name and directory.\n",
    "        variable = file_url.split('/')[-1].split('.')[0]\n",
    "        month = file_url.split('/')[2]\n",
    "        outf = f'{month}_{variable}.json'\n",
    "        \n",
    "        # Save the processed data as a JSON file locally.\n",
    "        with fs_local.open(f\"./{outf}\", 'wb') as f:\n",
    "            f.write(ujson.dumps(h5chunks.translate()).encode())\n",
    "\n",
    "# Display the list of files to be processed.\n",
    "flist\n"
   ]
  },
  {
   "cell_type": "markdown",
   "id": "d56d395a-b50f-457d-885c-5f59890ba7d5",
   "metadata": {
    "user_expressions": []
   },
   "source": [
    "### Function Internals:\n",
    "\n",
    "- The function sets up the S3 filesystem and a local filesystem.\n",
    "- It opens the provided HDF5 file from S3 and processes it with `SingleHdf5ToZarr`, which is designed to create an indexed file optimized for cloud access (Zarr).\n",
    "- The resulting representation is then saved as a JSON file locally in the `./kerchunked/` directory.\n"
   ]
  },
  {
   "cell_type": "markdown",
   "id": "41c40c5e-594a-4a31-a86f-db5682b997de",
   "metadata": {
    "user_expressions": []
   },
   "source": [
    "### Preprocessing Time calculation"
   ]
  },
  {
   "cell_type": "code",
   "execution_count": null,
   "id": "13e6e170-63c4-42cc-a160-7b4f9f875a84",
   "metadata": {
    "tags": []
   },
   "outputs": [],
   "source": [
    "import time\n",
    "\n",
    "original_data = 's3://nasa-cryo-scratch/h5cloud/original/ATL03_20200217204710_08110612_006_01.h5'\n",
    "\n",
    "# file formats or files to process\n",
    "file_url = original_data\n",
    "\n",
    "\n",
    "# Start the timer\n",
    "start_time = time.time()\n",
    "\n",
    "# Call the preprocessing function\n",
    "kerchunked_json = gen_json(file_url)\n",
    "\n",
    "# End the timer and store the result\n",
    "end_time = time.time()\n",
    "preprocess_time_kerchunk = end_time - start_time\n",
    "\n",
    "print(f\"Time taken for preprocessing using Kerchunk: {preprocess_time_kerchunk:.2f} seconds\")\n",
    "\n",
    "\n"
   ]
  },
  {
   "cell_type": "markdown",
   "id": "dd2b6a33-50fb-48a3-878a-6096be958ffc",
   "metadata": {},
   "source": [
    "## Generating Geoparquet Data Samples from ATL03 Samples"
   ]
  },
  {
   "cell_type": "markdown",
   "id": "e909721d-117a-4763-8553-e29277fa4eee",
   "metadata": {},
   "source": [
    "This process focuses on converting ICESat-2's ATL03 data samples, into the geoparquet format. Geoparquet is a columnar storage file format optimized for big data processing. By converting ATL03 samples to geoparquet, we can achieve more efficient data access and processing, especially in cloud-based environments."
   ]
  },
  {
   "cell_type": "markdown",
   "id": "b3e7475c-4e0a-4ff6-b81b-0abd0d616139",
   "metadata": {
    "user_expressions": []
   },
   "source": [
    "Detailed Steps:\n",
    "1. Convert ATL03 Samples to Geoparquet:\n",
    "\n",
    "Begin by taking the ATL03 data samples, which represent whole granules, and initiate the process to convert them into the geoparquet format. This step ensures that our data is in a format suitable for fast querying and analysis.\n",
    " \n",
    "2. Use SlideRule with Geoparquet Export Option:\n",
    "\n",
    "SlideRule is a processing engine designed to work with ICESat-2 data. In this step, utilize SlideRule's capability to handle geoparquet by choosing the geoparquet export option. This will allow you to download the desired ATL03 data granules by specifying their IDs.\n",
    "\n",
    "3. Save Data to a Common Bucket:\n",
    "\n",
    "After downloading the converted data granules, save them to a common data bucket. This central storage ensures easy accessibility for further analysis and sharing.\n",
    "Reference Guide:\n",
    "\n",
    "For a detailed walkthrough of the process, especially the steps involving SlideRule, refer to the tutorial available at ICESat-2 Hackweek SlideRule Tutorial. This guide provides comprehensive instructions, tips, and best practices for working with ICESat-2 data and the geoparquet format."
   ]
  },
  {
   "cell_type": "code",
   "execution_count": null,
   "id": "878fe700-9058-4427-8d01-cd27e9234a33",
   "metadata": {
    "tags": []
   },
   "outputs": [],
   "source": [
    "\n",
    "os.environ['USE_PYGEOS'] = '0'\n",
    "from sliderule import icesat2, earthdata, io\n",
    "import boto3"
   ]
  },
  {
   "cell_type": "code",
   "execution_count": null,
   "id": "41be580c-49ca-43fc-bdcd-81e39ee7555a",
   "metadata": {
    "tags": []
   },
   "outputs": [],
   "source": [
    "# Initialize the connection to SlideRule service\n",
    "icesat2.init(\"slideruleearth.io\")"
   ]
  },
  {
   "cell_type": "code",
   "execution_count": null,
   "id": "a2f59106-578f-4a36-a6fa-c2930c25f2d4",
   "metadata": {
    "tags": []
   },
   "outputs": [],
   "source": [
    "# List of granules to process, we are using one granule to test but it can be more\n",
    "granule = 'ATL03_20200217204710_08110612_006_01.h5'"
   ]
  },
  {
   "cell_type": "code",
   "execution_count": null,
   "id": "bea7ab01-5be0-479a-8419-004b29e91643",
   "metadata": {
    "tags": []
   },
   "outputs": [],
   "source": [
    "# Fetch AWS credentials for accessing S3 resources and these credentials are needed for sliderule\n",
    "client = boto3.client('sts')\n",
    "with open(os.environ['AWS_WEB_IDENTITY_TOKEN_FILE']) as f:\n",
    "    TOKEN = f.read()\n",
    "\n",
    "response = client.assume_role_with_web_identity(\n",
    "    RoleArn=os.environ['AWS_ROLE_ARN'],\n",
    "    RoleSessionName=os.environ['JUPYTERHUB_CLIENT_ID'],\n",
    "    WebIdentityToken=TOKEN,\n",
    "    DurationSeconds=3600\n",
    ")\n",
    "\n",
    "ACCESS_KEY_ID = response['Credentials']['AccessKeyId']\n",
    "SECRET_ACCESS_KEY_ID = response['Credentials']['SecretAccessKey']\n",
    "SESSION_TOKEN = response['Credentials']['SessionToken']\n"
   ]
  },
  {
   "cell_type": "code",
   "execution_count": null,
   "id": "460f76e3-a443-443f-90e1-7e60f93c616c",
   "metadata": {
    "tags": []
   },
   "outputs": [],
   "source": [
    "# Function to convert a given ATL03 granule to geoparquet format and save to S3\n",
    "def get_gpq(granule):\n",
    "    asset = \"icesat2\"\n",
    "    # Define the S3 path for the output geoparquet file\n",
    "    output = f\"s3://nasa-cryo-scratch/h5cloud/geoparquet/{granule}.gpq\"\n",
    "    \n",
    "    # Configuration parameters for the conversion process\n",
    "    params = {\n",
    "        \"output\": {\n",
    "            \"path\": output,\n",
    "            \"format\": \"parquet\",\n",
    "            \"open_on_complete\": False,\n",
    "            \"region\": \"us-west-2\",\n",
    "            \"credentials\": {\n",
    "                 \"aws_access_key_id\": ACCESS_KEY_ID,\n",
    "                 \"aws_secret_access_key\": SECRET_ACCESS_KEY_ID,\n",
    "                 \"aws_session_token\": SESSION_TOKEN\n",
    "             }\n",
    "        }\n",
    "    }\n",
    "    \n",
    "    # Convert ATL03 granule to geoparquet using the SlideRule service\n",
    "    status = icesat2.atl03s(parm=params, resource=granule, asset=asset)\n",
    "    \n",
    "    return status"
   ]
  },
  {
   "cell_type": "code",
   "execution_count": null,
   "id": "683de35c-9d83-4a46-86b6-5a227a6808bd",
   "metadata": {
    "tags": []
   },
   "outputs": [],
   "source": [
    "\n",
    "%%time\n",
    "# Convert all granules in the list to geoparquet format\n",
    "result = get_gpq(granule)\n",
    "print(result)"
   ]
  },
  {
   "cell_type": "code",
   "execution_count": null,
   "id": "480d90af-93a6-423e-8fa2-9b95daeadfb5",
   "metadata": {},
   "outputs": [],
   "source": []
  },
  {
   "cell_type": "markdown",
   "id": "d934acb1-1c2c-4d30-bb3d-9448fac9894a",
   "metadata": {},
   "source": [
    "## Repacking h5 dataset"
   ]
  },
  {
   "cell_type": "code",
   "execution_count": null,
   "id": "f8661cf6-9a92-435b-b262-12c5162665ef",
   "metadata": {
    "tags": []
   },
   "outputs": [],
   "source": [
    "import subprocess\n",
    "\n",
    "def repack_hdf5(input_file, options=[]):\n",
    "    cmd = [\"h5repack\"] + options + [input_file, output_file]\n",
    "    subprocess.run(cmd)\n",
    "    \n",
    "# Start the timer\n",
    "start_time = time.time()\n",
    "\n",
    "# Usage\n",
    "input_file = \"s3://nasa-cryo-scratch/h5cloud/original/ATL03_20200217204710_08110612_006_01.h5\"\n",
    "output_file = \"h5repacked.h5\"\n",
    "repack_hdf5(input_file, options=[\"-S\", \"PAGE\", \"-G\", \"8000000\"])\n",
    "\n",
    "# End the timer and store the result\n",
    "end_time = time.time()\n",
    "preprocess_time = end_time - start_time\n",
    "\n"
   ]
  },
  {
   "cell_type": "markdown",
   "id": "f5ffb903-5d00-4ac0-81db-a74c82e4716b",
   "metadata": {
    "user_expressions": []
   },
   "source": [
    "## Generating Kerchunk sidecar h5repacked data\n",
    "\n",
    "When we talk about \"Generating Kerchunk sidecar for h5repacked data,\" we are referring to the process of creating a Kerchunk sidecar metadata file specifically for an HDF5 file that has undergone the repacking process. This combination allows for the benefits of both techniques:\n",
    "\n",
    "Efficient Data Structure: Thanks to h5repacking, the HDF5 file itself is optimized for faster read operations.\n",
    "Optimized Access: The Kerchunk sidecar allows for chunked, efficient access, especially beneficial in cloud-based workflows. It means applications can pull specific chunks of data without downloading or reading the entire file."
   ]
  },
  {
   "cell_type": "code",
   "execution_count": null,
   "id": "216b7b5e-c2ea-48a3-ae5b-75c492d12b41",
   "metadata": {
    "tags": []
   },
   "outputs": [],
   "source": [
    "# Initialize connection to the AWS S3 filesystem for reading files.\n",
    "fs_read_files = fsspec.filesystem('s3')"
   ]
  },
  {
   "cell_type": "code",
   "execution_count": null,
   "id": "22d56eca-6aa8-42e7-a2e8-67a6231196dc",
   "metadata": {
    "tags": []
   },
   "outputs": [],
   "source": [
    "\n",
    "\n",
    "h5repack_data = 's3://nasa-cryo-scratch/h5cloud/h5repack/ATL03_20200217204710_08110612_006_01_repacked.h5'\n",
    "\n",
    "# file formats or files to process\n",
    "file_url = h5repack_data\n",
    "\n",
    "\n",
    "# Start the timer\n",
    "start_time = time.time()\n",
    "\n",
    "# Call the preprocessing function\n",
    "kerchunked_json = gen_json(file_url)\n",
    "\n",
    "# End the timer and store the result\n",
    "end_time = time.time()\n",
    "preprocess_time = end_time - start_time\n",
    "\n",
    "print(f\"Time taken for preprocessing using Kerchunk: {preprocess_time:.2f} seconds\")\n"
   ]
  },
  {
   "attachments": {
    "493efd36-ee7c-4599-bb8e-961e670f289b.png": {
     "image/png": "[encoded data removed]"
    }
   },
   "cell_type": "markdown",
   "id": "91b6ad7b-437f-4bf9-a21d-40befcc19ad2",
   "metadata": {
    "user_expressions": []
   },
   "source": [
    "![Screenshot 2023-08-11 at 2.19.24 PM.png](attachment:493efd36-ee7c-4599-bb8e-961e670f289b.png)"
   ]
  },
  {
   "cell_type": "code",
   "execution_count": null,
   "id": "5ccb9d6c-d92e-43ac-a6ea-d631a2dbb45a",
   "metadata": {},
   "outputs": [],
   "source": []
  }
 ],
 "metadata": {
  "kernelspec": {
   "display_name": "Python 3 (ipykernel)",
   "language": "python",
   "name": "python3"
  },
  "language_info": {
   "codemirror_mode": {
    "name": "ipython",
    "version": 3
   },
   "file_extension": ".py",
   "mimetype": "text/x-python",
   "name": "python",
   "nbconvert_exporter": "python",
   "pygments_lexer": "ipython3",
   "version": "3.10.12"
  }
 },
 "nbformat": 4,
 "nbformat_minor": 5
}
