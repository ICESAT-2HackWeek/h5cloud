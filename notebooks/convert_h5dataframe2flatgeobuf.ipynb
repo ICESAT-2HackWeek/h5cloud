{
 "cells": [
  {
   "cell_type": "markdown",
   "id": "ada5ec98-fb08-4457-86be-307bfcfe551e",
   "metadata": {
    "tags": [],
    "user_expressions": []
   },
   "source": [
    "# Convert HDF5 to FlatGeobuf using H5DataFrame\n",
    "\n",
    "Loading data from a nested ICESat-2 ATL03 HDF5 file,\n",
    "and converting it to a [FlatGeobuf](https://flatgeobuf.org) format.\n",
    "\n",
    "References:\n",
    "- https://github.com/MAAP-Project/gedi-subsetter/blob/0.6.0/src/gedi_subset/gedi_utils.py#L139-L381"
   ]
  },
  {
   "cell_type": "code",
   "execution_count": 1,
   "id": "6e91818f-17fa-4ecf-be62-a3b1c7e4fae2",
   "metadata": {
    "tags": []
   },
   "outputs": [],
   "source": [
    "import os\n",
    "os.environ['USE_PYGEOS'] = '0'\n",
    "import geopandas as gpd\n",
    "import h5py\n",
    "import s3fs\n",
    "\n",
    "try:\n",
    "    from gedi_subset.h5frame import H5DataFrame\n",
    "except ImportError:\n",
    "    !pip install git+https://github.com/MAAP-Project/gedi-subsetter.git@0.6.0\n",
    "    from gedi_subset.h5frame import H5DataFrame"
   ]
  },
  {
   "cell_type": "code",
   "execution_count": 2,
   "id": "3958f3b8-eaee-4bd4-b354-6d67e2e09dc4",
   "metadata": {
    "tags": []
   },
   "outputs": [
    {
     "name": "stdout",
     "output_type": "stream",
     "text": [
      "\n",
      "SYSTEM INFO\n",
      "-----------\n",
      "python     : 3.10.12 | packaged by conda-forge | (main, Jun 23 2023, 22:40:32) [GCC 12.3.0]\n",
      "executable : /srv/conda/envs/notebook/bin/python\n",
      "machine    : Linux-5.10.167-147.601.amzn2.x86_64-x86_64-with-glibc2.27\n",
      "\n",
      "GEOS, GDAL, PROJ INFO\n",
      "---------------------\n",
      "GEOS       : 3.11.2\n",
      "GEOS lib   : None\n",
      "GDAL       : 3.7.0\n",
      "GDAL data dir: /srv/conda/envs/notebook/share/gdal\n",
      "PROJ       : 9.2.1\n",
      "PROJ data dir: /srv/conda/envs/notebook/share/proj\n",
      "\n",
      "PYTHON DEPENDENCIES\n",
      "-------------------\n",
      "geopandas  : 0.12.1\n",
      "numpy      : 1.23.5\n",
      "pandas     : 1.5.1\n",
      "pyproj     : 3.6.0\n",
      "shapely    : 2.0.1\n",
      "fiona      : 1.9.4\n",
      "geoalchemy2: None\n",
      "geopy      : None\n",
      "matplotlib : 3.6.2\n",
      "mapclassify: 2.5.0\n",
      "pygeos     : 0.14\n",
      "pyogrio    : None\n",
      "psycopg2   : 2.9.6 (dt dec pq3 ext lo64)\n",
      "pyarrow    : 12.0.1\n",
      "rtree      : 1.0.1\n"
     ]
    }
   ],
   "source": [
    "gpd.show_versions()"
   ]
  },
  {
   "cell_type": "markdown",
   "id": "6ce9fd40-a352-479c-8a7d-607b86b34ab9",
   "metadata": {
    "tags": [],
    "user_expressions": []
   },
   "source": [
    "## List files to convert"
   ]
  },
  {
   "cell_type": "code",
   "execution_count": 3,
   "id": "15dde64d-6586-47b0-b51c-a0372116453e",
   "metadata": {
    "tags": []
   },
   "outputs": [
    {
     "name": "stdout",
     "output_type": "stream",
     "text": [
      "2023-08-08 23:45:34 7754735138 ATL03_20181120182818_08110112_006_02.h5\n",
      "2023-08-08 23:47:04 6997123664 ATL03_20190219140808_08110212_006_02.h5\n",
      "2023-08-08 23:47:04 6925710500 ATL03_20200217204710_08110612_006_01.h5\n",
      "2023-08-08 23:47:04 8392279594 ATL03_20211114142614_08111312_006_01.h5\n",
      "2023-08-08 23:47:04 7954039827 ATL03_20230211164520_08111812_006_01.h5\n"
     ]
    }
   ],
   "source": [
    "!aws s3 ls s3://nasa-cryo-scratch/h5cloud/original/"
   ]
  },
  {
   "cell_type": "code",
   "execution_count": 4,
   "id": "30f0b71e-c877-4d71-8f1b-56ca3047f7e7",
   "metadata": {
    "tags": []
   },
   "outputs": [],
   "source": [
    "s3 = s3fs.S3FileSystem(anon=False)"
   ]
  },
  {
   "cell_type": "markdown",
   "id": "c9db7d56-f03a-4342-99ea-c886a7cc14ff",
   "metadata": {
    "tags": [],
    "user_expressions": []
   },
   "source": [
    "## Read HDF5 variables into H5DataFrame"
   ]
  },
  {
   "cell_type": "code",
   "execution_count": 5,
   "id": "e78ad96f-d462-4032-89d6-8c1984b69644",
   "metadata": {},
   "outputs": [],
   "source": [
    "s3url = \"s3://nasa-cryo-scratch/h5cloud/original/ATL03_20230211164520_08111812_006_01.h5\"\n",
    "h5 = h5py.File(name=s3.open(path=s3url, mode=\"rb\"))"
   ]
  },
  {
   "cell_type": "code",
   "execution_count": 6,
   "id": "b6f42494-d847-4b56-a197-ec24132885ee",
   "metadata": {
    "tags": []
   },
   "outputs": [
    {
     "name": "stdout",
     "output_type": "stream",
     "text": [
      "<KeysViewHDF5 ['METADATA', 'ancillary_data', 'atlas_impulse_response', 'ds_surf_type', 'ds_xyz', 'gt1l', 'gt1r', 'gt2l', 'gt2r', 'gt3l', 'gt3r', 'orbit_info', 'quality_assessment']>\n",
      "delta_time\n",
      "dist_ph_across\n",
      "dist_ph_along\n",
      "h_ph\n",
      "lat_ph\n",
      "lon_ph\n",
      "pce_mframe_cnt\n",
      "ph_id_channel\n",
      "ph_id_count\n",
      "ph_id_pulse\n",
      "quality_ph\n",
      "signal_conf_ph\n",
      "weight_ph\n"
     ]
    }
   ],
   "source": [
    "# Print top-level groups\n",
    "print(h5.keys())\n",
    "\n",
    "# Print all nested groups (very slow)\n",
    "# h5.visit(func=lambda name: print(name))\n",
    "\n",
    "# Print specific groups (slow)\n",
    "h5[\"gt2l/heights\"].visit(func=lambda name: print(name))"
   ]
  },
  {
   "cell_type": "markdown",
   "id": "74520fcb-90f8-47d5-8e0e-4304767074a6",
   "metadata": {
    "tags": [],
    "user_expressions": []
   },
   "source": [
    "### Read in just the `gt2l/heights` group"
   ]
  },
  {
   "cell_type": "code",
   "execution_count": 7,
   "id": "8b42bc87-14d9-427a-8bbe-b0c5b36a0235",
   "metadata": {},
   "outputs": [
    {
     "data": {
      "text/html": [
       "<div>\n",
       "<style scoped>\n",
       "    .dataframe tbody tr th:only-of-type {\n",
       "        vertical-align: middle;\n",
       "    }\n",
       "\n",
       "    .dataframe tbody tr th {\n",
       "        vertical-align: top;\n",
       "    }\n",
       "\n",
       "    .dataframe thead th {\n",
       "        text-align: right;\n",
       "    }\n",
       "</style>\n",
       "<table border=\"1\" class=\"dataframe\">\n",
       "  <thead>\n",
       "    <tr style=\"text-align: right;\">\n",
       "      <th></th>\n",
       "    </tr>\n",
       "  </thead>\n",
       "  <tbody>\n",
       "  </tbody>\n",
       "</table>\n",
       "</div>"
      ],
      "text/plain": [
       "Empty H5DataFrame\n",
       "Columns: []\n",
       "Index: []"
      ]
     },
     "execution_count": 7,
     "metadata": {},
     "output_type": "execute_result"
    }
   ],
   "source": [
    "df = H5DataFrame(group=h5[\"gt2l/heights\"])\n",
    "df"
   ]
  },
  {
   "cell_type": "markdown",
   "id": "7c17069c-ab93-445c-9237-8d1752ab0606",
   "metadata": {
    "tags": [],
    "user_expressions": []
   },
   "source": [
    "It looks like there are no columns, because H5DataFrame is lazy,\n",
    "and you need to access the variable (e.g. `h_ph`) explicitly."
   ]
  },
  {
   "cell_type": "code",
   "execution_count": 8,
   "id": "c098a56f-80ff-403c-95f5-72428f04be1a",
   "metadata": {},
   "outputs": [
    {
     "data": {
      "text/plain": [
       "0           331.053101\n",
       "1           262.945648\n",
       "2           271.216248\n",
       "3           252.607193\n",
       "4           322.731079\n",
       "               ...    \n",
       "68550685    371.084259\n",
       "68550686    332.404785\n",
       "68550687    451.218292\n",
       "68550688    466.256348\n",
       "68550689    347.798798\n",
       "Name: h_ph, Length: 68550690, dtype: float32"
      ]
     },
     "execution_count": 8,
     "metadata": {},
     "output_type": "execute_result"
    }
   ],
   "source": [
    "df[\"h_ph\"]"
   ]
  },
  {
   "cell_type": "markdown",
   "id": "875cbb65-0e30-4fa3-9d0d-7e3014873935",
   "metadata": {
    "tags": [],
    "user_expressions": []
   },
   "source": [
    "### Create geometry column"
   ]
  },
  {
   "cell_type": "code",
   "execution_count": 9,
   "id": "b1b0e1c8-bcdc-4bda-ac16-5965024a6751",
   "metadata": {
    "tags": []
   },
   "outputs": [
    {
     "name": "stdout",
     "output_type": "stream",
     "text": [
      "CPU times: user 36.8 s, sys: 6.36 s, total: 43.2 s\n",
      "Wall time: 1min 16s\n"
     ]
    }
   ],
   "source": [
    "%%time\n",
    "geometry = gpd.points_from_xy(x=df[\"lon_ph\"], y=df[\"lat_ph\"])"
   ]
  },
  {
   "cell_type": "code",
   "execution_count": 10,
   "id": "1e535997-6c6b-4b27-9ea6-77f9ee8ea36b",
   "metadata": {},
   "outputs": [
    {
     "data": {
      "text/plain": [
       "<GeometryArray>\n",
       "[    <POINT (-59.903 -79)>,     <POINT (-59.903 -79)>,\n",
       "     <POINT (-59.903 -79)>,     <POINT (-59.903 -79)>,\n",
       "     <POINT (-59.903 -79)>,     <POINT (-59.903 -79)>,\n",
       "     <POINT (-59.903 -79)>,     <POINT (-59.903 -79)>,\n",
       "     <POINT (-59.903 -79)>,     <POINT (-59.903 -79)>,\n",
       " ...\n",
       " <POINT (-69.879 -50.008)>, <POINT (-69.879 -50.008)>,\n",
       " <POINT (-69.879 -50.008)>, <POINT (-69.879 -50.008)>,\n",
       " <POINT (-69.879 -50.008)>, <POINT (-69.879 -50.008)>,\n",
       " <POINT (-69.879 -50.008)>, <POINT (-69.879 -50.008)>,\n",
       " <POINT (-69.879 -50.008)>, <POINT (-69.879 -50.008)>]\n",
       "Length: 68550690, dtype: geometry"
      ]
     },
     "execution_count": 10,
     "metadata": {},
     "output_type": "execute_result"
    }
   ],
   "source": [
    "geometry"
   ]
  },
  {
   "cell_type": "markdown",
   "id": "3d2e215d-0783-448e-be56-784567bc2eb1",
   "metadata": {
    "user_expressions": []
   },
   "source": [
    "### Create `geopandas.GeoDataFrame`"
   ]
  },
  {
   "cell_type": "code",
   "execution_count": 11,
   "id": "04a6040c-aea1-4425-84b1-2b4fc59f7afc",
   "metadata": {
    "tags": []
   },
   "outputs": [],
   "source": [
    "gdf = gpd.GeoDataFrame(data=df[[\"h_ph\"]], geometry=geometry)"
   ]
  },
  {
   "cell_type": "code",
   "execution_count": 12,
   "id": "d85c8e03-5eb1-4075-9c55-cdc109df5964",
   "metadata": {
    "tags": []
   },
   "outputs": [
    {
     "data": {
      "text/html": [
       "<div>\n",
       "<style scoped>\n",
       "    .dataframe tbody tr th:only-of-type {\n",
       "        vertical-align: middle;\n",
       "    }\n",
       "\n",
       "    .dataframe tbody tr th {\n",
       "        vertical-align: top;\n",
       "    }\n",
       "\n",
       "    .dataframe thead th {\n",
       "        text-align: right;\n",
       "    }\n",
       "</style>\n",
       "<table border=\"1\" class=\"dataframe\">\n",
       "  <thead>\n",
       "    <tr style=\"text-align: right;\">\n",
       "      <th></th>\n",
       "      <th>h_ph</th>\n",
       "      <th>geometry</th>\n",
       "    </tr>\n",
       "  </thead>\n",
       "  <tbody>\n",
       "    <tr>\n",
       "      <th>0</th>\n",
       "      <td>331.053101</td>\n",
       "      <td>POINT (-59.90285 -79.00011)</td>\n",
       "    </tr>\n",
       "    <tr>\n",
       "      <th>1</th>\n",
       "      <td>262.945648</td>\n",
       "      <td>POINT (-59.90285 -79.00010)</td>\n",
       "    </tr>\n",
       "    <tr>\n",
       "      <th>2</th>\n",
       "      <td>271.216248</td>\n",
       "      <td>POINT (-59.90285 -79.00010)</td>\n",
       "    </tr>\n",
       "    <tr>\n",
       "      <th>3</th>\n",
       "      <td>252.607193</td>\n",
       "      <td>POINT (-59.90285 -79.00010)</td>\n",
       "    </tr>\n",
       "    <tr>\n",
       "      <th>4</th>\n",
       "      <td>322.731079</td>\n",
       "      <td>POINT (-59.90286 -79.00010)</td>\n",
       "    </tr>\n",
       "    <tr>\n",
       "      <th>...</th>\n",
       "      <td>...</td>\n",
       "      <td>...</td>\n",
       "    </tr>\n",
       "    <tr>\n",
       "      <th>68550685</th>\n",
       "      <td>371.084259</td>\n",
       "      <td>POINT (-69.87862 -50.00811)</td>\n",
       "    </tr>\n",
       "    <tr>\n",
       "      <th>68550686</th>\n",
       "      <td>332.404785</td>\n",
       "      <td>POINT (-69.87863 -50.00811)</td>\n",
       "    </tr>\n",
       "    <tr>\n",
       "      <th>68550687</th>\n",
       "      <td>451.218292</td>\n",
       "      <td>POINT (-69.87859 -50.00810)</td>\n",
       "    </tr>\n",
       "    <tr>\n",
       "      <th>68550688</th>\n",
       "      <td>466.256348</td>\n",
       "      <td>POINT (-69.87859 -50.00810)</td>\n",
       "    </tr>\n",
       "    <tr>\n",
       "      <th>68550689</th>\n",
       "      <td>347.798798</td>\n",
       "      <td>POINT (-69.87863 -50.00810)</td>\n",
       "    </tr>\n",
       "  </tbody>\n",
       "</table>\n",
       "<p>68550690 rows × 2 columns</p>\n",
       "</div>"
      ],
      "text/plain": [
       "                h_ph                     geometry\n",
       "0         331.053101  POINT (-59.90285 -79.00011)\n",
       "1         262.945648  POINT (-59.90285 -79.00010)\n",
       "2         271.216248  POINT (-59.90285 -79.00010)\n",
       "3         252.607193  POINT (-59.90285 -79.00010)\n",
       "4         322.731079  POINT (-59.90286 -79.00010)\n",
       "...              ...                          ...\n",
       "68550685  371.084259  POINT (-69.87862 -50.00811)\n",
       "68550686  332.404785  POINT (-69.87863 -50.00811)\n",
       "68550687  451.218292  POINT (-69.87859 -50.00810)\n",
       "68550688  466.256348  POINT (-69.87859 -50.00810)\n",
       "68550689  347.798798  POINT (-69.87863 -50.00810)\n",
       "\n",
       "[68550690 rows x 2 columns]"
      ]
     },
     "execution_count": 12,
     "metadata": {},
     "output_type": "execute_result"
    }
   ],
   "source": [
    "gdf"
   ]
  },
  {
   "cell_type": "markdown",
   "id": "3ee22f0b-7912-4b6b-8d0c-fb5a629618b5",
   "metadata": {
    "user_expressions": []
   },
   "source": [
    "## Store as FlatGeobuf"
   ]
  },
  {
   "cell_type": "code",
   "execution_count": 13,
   "id": "1f71df6c-0a83-4ef9-b636-7f1ae2fcdec8",
   "metadata": {
    "tags": []
   },
   "outputs": [
    {
     "data": {
      "text/plain": [
       "'ATL03_20230211164520_08111812_006_01_gt2l_heights_h_ph.fgb'"
      ]
     },
     "execution_count": 13,
     "metadata": {},
     "output_type": "execute_result"
    }
   ],
   "source": [
    "granule_name:str = os.path.basename(os.path.splitext(s3url)[0])\n",
    "filename:str = f\"{granule_name}_gt2l_heights_h_ph.fgb\"\n",
    "filename"
   ]
  },
  {
   "cell_type": "code",
   "execution_count": null,
   "id": "29bff8b8-a263-40aa-ac32-225b237cfd31",
   "metadata": {
    "tags": []
   },
   "outputs": [],
   "source": [
    "%%time\n",
    "gdf.to_file(filename=filename, driver=\"FlatGeobuf\")"
   ]
  },
  {
   "cell_type": "markdown",
   "id": "0e00c90f-4ba8-4c06-a2d5-9739430ae37e",
   "metadata": {},
   "source": [
    "### Check that FlatGeobuf can be loaded back into `geopandas.GeoDataFrame`"
   ]
  },
  {
   "cell_type": "code",
   "execution_count": null,
   "id": "0747e693-4952-47c7-940d-3e0b315e2cd8",
   "metadata": {},
   "outputs": [],
   "source": [
    "gpd.read_file"
   ]
  },
  {
   "cell_type": "code",
   "execution_count": null,
   "id": "f2ac2ef6-54e1-44c8-81ce-6bbf62e581bb",
   "metadata": {},
   "outputs": [],
   "source": []
  }
 ],
 "metadata": {
  "kernelspec": {
   "display_name": "Python 3 (ipykernel)",
   "language": "python",
   "name": "python3"
  },
  "language_info": {
   "codemirror_mode": {
    "name": "ipython",
    "version": 3
   },
   "file_extension": ".py",
   "mimetype": "text/x-python",
   "name": "python",
   "nbconvert_exporter": "python",
   "pygments_lexer": "ipython3",
   "version": "3.10.12"
  }
 },
 "nbformat": 4,
 "nbformat_minor": 5
}
