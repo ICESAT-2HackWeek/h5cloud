{
 "cells": [
  {
   "cell_type": "markdown",
   "id": "6c2bd4a5-464a-48fb-a72b-600602d5fdb2",
   "metadata": {
    "tags": [],
    "user_expressions": []
   },
   "source": [
    "# Example of how to use the S3List Utility"
   ]
  },
  {
   "cell_type": "code",
   "execution_count": 1,
   "id": "a1c42585-068d-4a12-8613-e8f4bf8d5405",
   "metadata": {
    "tags": []
   },
   "outputs": [],
   "source": [
    "import sys\n",
    "import os\n",
    "\n",
    "current = os.path.abspath('..')\n",
    "sys.path.append(current)\n",
    "\n",
    "from helpers.dataset_lists import BEAM_GROUP\n",
    "from helpers.links import S3Links"
   ]
  },
  {
   "cell_type": "code",
   "execution_count": 2,
   "id": "33dab034-fd99-4c68-ae88-0eb4dea65c9a",
   "metadata": {
    "tags": []
   },
   "outputs": [],
   "source": [
    "s3links = S3Links()"
   ]
  },
  {
   "cell_type": "code",
   "execution_count": 3,
   "id": "cd86995e-db4b-4a70-85b1-4f3186366fe4",
   "metadata": {
    "tags": []
   },
   "outputs": [
    {
     "data": {
      "text/plain": [
       "['h5repack', 'original']"
      ]
     },
     "execution_count": 3,
     "metadata": {},
     "output_type": "execute_result"
    }
   ],
   "source": [
    "s3links.formats"
   ]
  },
  {
   "cell_type": "code",
   "execution_count": 4,
   "id": "5aec5cba-723a-46bd-be1a-38c81c380296",
   "metadata": {
    "tags": []
   },
   "outputs": [
    {
     "data": {
      "text/plain": [
       "['h5cloud/h5repack/ATL03_20181120182818_08110112_006_02_repacked.h5',\n",
       " 'h5cloud/h5repack/ATL03_20190219140808_08110212_006_02_repacked.h5',\n",
       " 'h5cloud/h5repack/ATL03_20200217204710_08110612_006_01_repacked.h5',\n",
       " 'h5cloud/h5repack/ATL03_20211114142614_08111312_006_01_repacked.h5',\n",
       " 'h5cloud/h5repack/ATL03_20230211164520_08111812_006_01_repacked.h5']"
      ]
     },
     "execution_count": 4,
     "metadata": {},
     "output_type": "execute_result"
    }
   ],
   "source": [
    "s3links.get_links_by_format('h5repack')"
   ]
  },
  {
   "cell_type": "code",
   "execution_count": 5,
   "id": "5a8541dc-00e7-47de-bdf0-a73c3e1db4c4",
   "metadata": {
    "tags": []
   },
   "outputs": [
    {
     "data": {
      "text/plain": [
       "'h5cloud/h5repack/ATL03_20181120182818_08110112_006_02_repacked.h5'"
      ]
     },
     "execution_count": 5,
     "metadata": {},
     "output_type": "execute_result"
    }
   ],
   "source": [
    "s3links.get_link_by_name('ATL03_20181120182818_08110112_006_02_repacked.h5')"
   ]
  },
  {
   "cell_type": "code",
   "execution_count": 6,
   "id": "fd622ec6-c33f-4e64-8d6e-46504e565336",
   "metadata": {
    "tags": []
   },
   "outputs": [
    {
     "data": {
      "text/plain": [
       "'h5cloud/original/ATL03_20181120182818_08110112_006_02.h5'"
      ]
     },
     "execution_count": 6,
     "metadata": {},
     "output_type": "execute_result"
    }
   ],
   "source": [
    "s3links.get_link_by_fileid('original', 0)"
   ]
  },
  {
   "cell_type": "code",
   "execution_count": null,
   "id": "f4daf48b-20c0-41f7-aac6-a2752ce7ee95",
   "metadata": {},
   "outputs": [],
   "source": []
  }
 ],
 "metadata": {
  "kernelspec": {
   "display_name": "Python 3 (ipykernel)",
   "language": "python",
   "name": "python3"
  },
  "language_info": {
   "codemirror_mode": {
    "name": "ipython",
    "version": 3
   },
   "file_extension": ".py",
   "mimetype": "text/x-python",
   "name": "python",
   "nbconvert_exporter": "python",
   "pygments_lexer": "ipython3",
   "version": "3.10.12"
  }
 },
 "nbformat": 4,
 "nbformat_minor": 5
}
