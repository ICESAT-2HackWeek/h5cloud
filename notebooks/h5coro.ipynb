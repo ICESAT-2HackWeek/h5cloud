{
 "cells": [
  {
   "cell_type": "markdown",
   "id": "9d31a8ce-361a-4a8a-bcfa-edc5ad506cac",
   "metadata": {
    "user_expressions": []
   },
   "source": [
    "**List in the bucket contents**"
   ]
  },
  {
   "cell_type": "code",
   "execution_count": 2,
   "id": "1653c297-ec92-4b6b-8a27-f7fa35186dd3",
   "metadata": {
    "tags": []
   },
   "outputs": [],
   "source": [
    "import boto3"
   ]
  },
  {
   "cell_type": "code",
   "execution_count": 4,
   "id": "d4019d58-51ab-4665-9109-436809758a18",
   "metadata": {
    "tags": []
   },
   "outputs": [],
   "source": [
    "s3 = boto3.resource('s3')\n",
    "\n",
    "bucket_name = \"nasa-cryo-scratch\"\n",
    "bucket = s3.Bucket(bucket_name)"
   ]
  },
  {
   "cell_type": "code",
   "execution_count": 5,
   "id": "94d6526d-6025-482f-93f0-2d961638c656",
   "metadata": {
    "tags": []
   },
   "outputs": [
    {
     "name": "stdout",
     "output_type": "stream",
     "text": [
      "s3.ObjectSummary(bucket_name='nasa-cryo-scratch', key='h5cloud/original/ATL03_20181120182818_08110112_006_02.h5')\n",
      "s3.ObjectSummary(bucket_name='nasa-cryo-scratch', key='h5cloud/original/ATL03_20190219140808_08110212_006_02.h5')\n",
      "s3.ObjectSummary(bucket_name='nasa-cryo-scratch', key='h5cloud/original/ATL03_20200217204710_08110612_006_01.h5')\n",
      "s3.ObjectSummary(bucket_name='nasa-cryo-scratch', key='h5cloud/original/ATL03_20211114142614_08111312_006_01.h5')\n",
      "s3.ObjectSummary(bucket_name='nasa-cryo-scratch', key='h5cloud/original/ATL03_20230211164520_08111812_006_01.h5')\n",
      "s3.ObjectSummary(bucket_name='nasa-cryo-scratch', key='sliderule-example/grandmesa.parquet')\n"
     ]
    }
   ],
   "source": [
    "for my_bucket_object in bucket.objects.all():\n",
    "    print(my_bucket_object)"
   ]
  },
  {
   "cell_type": "code",
   "execution_count": 7,
   "id": "4560318d-c789-4773-b230-b38f0be84843",
   "metadata": {
    "tags": []
   },
   "outputs": [
    {
     "name": "stdout",
     "output_type": "stream",
     "text": [
      "\n",
      "Looking for: ['h5coro']\n",
      "\n",
      "conda-forge/linux-64                                        Using cache\n",
      "conda-forge/noarch                                          Using cache\n",
      "\u001b[?25l\u001b[2K\u001b[0G[+] 0.0s\n",
      "\u001b[2K\u001b[1A\u001b[2K\u001b[0Gpkgs/main/noarch                                              No change\n",
      "pkgs/r/linux-64                                               No change\n",
      "pkgs/main/linux-64                                            No change\n",
      "pkgs/r/noarch                                                 No change\n",
      "\u001b[?25h\n",
      "Pinned packages:\n",
      "  - python 3.10.*\n",
      "\n",
      "\n",
      "Transaction\n",
      "\n",
      "  Prefix: /srv/conda/envs/notebook\n",
      "\n",
      "  All requested packages already installed\n",
      "\n",
      "\u001b[?25l\u001b[2K\u001b[0G\u001b[?25h"
     ]
    }
   ],
   "source": [
    "try:\n",
    "    import h5coro\n",
    "except:\n",
    "    !mamba install -c conda-forge h5coro --yes\n",
    "    import h5coro"
   ]
  },
  {
   "cell_type": "markdown",
   "id": "cfe9c6d3-e8aa-44bc-99f1-0e7dc06d8c6f",
   "metadata": {
    "user_expressions": []
   },
   "source": [
    "**Use access some data with h5coro**\n",
    "\n",
    "Code taken from : [https://github.com/ICESat2-SlideRule/h5coro/](https://github.com/ICESat2-SlideRule/h5coro/)"
   ]
  },
  {
   "cell_type": "code",
   "execution_count": 8,
   "id": "40cfd938-be87-4fb7-8b5c-8dd937aa948a",
   "metadata": {
    "tags": []
   },
   "outputs": [],
   "source": [
    "# (1) import\n",
    "from h5coro import h5coro, s3driver, filedriver\n",
    "\n",
    "# (2) configure\n",
    "h5coro.config(errorChecking=True, verbose=False, enableAttributes=False)\n",
    "\n",
    "bucket_name = \"nasa-cryo-scratch\"\n",
    "key = 'h5cloud/original/ATL03_20181120182818_08110112_006_02.h5'\n",
    "\n",
    "# (3) create\n",
    "h5obj = h5coro.H5Coro(f'{bucket_name}/{key}', s3driver.S3Driver)"
   ]
  },
  {
   "cell_type": "code",
   "execution_count": null,
   "id": "73f3354a-43ae-423c-bec5-755eba9fd93f",
   "metadata": {},
   "outputs": [],
   "source": [
    "# # (4) read\n",
    "# datasets = [{'dataset': '/path/to/dataset1', 'startrow': 0, 'numrows': h5coro.ALL_ROWS},\n",
    "#             {'dataset': '/path/to/dataset2', 'startrow': 324, 'numrows': 50}]\n",
    "# h5obj.readDatasets(datasets=datasets, block=True)\n",
    "\n",
    "# # (5) display\n",
    "# for dataset in h5obj:\n",
    "#     print(dataset)"
   ]
  },
  {
   "cell_type": "code",
   "execution_count": null,
   "id": "e75ea6f9-82a6-4316-857d-4ce602f407a2",
   "metadata": {},
   "outputs": [],
   "source": []
  }
 ],
 "metadata": {
  "kernelspec": {
   "display_name": "Python 3 (ipykernel)",
   "language": "python",
   "name": "python3"
  },
  "language_info": {
   "codemirror_mode": {
    "name": "ipython",
    "version": 3
   },
   "file_extension": ".py",
   "mimetype": "text/x-python",
   "name": "python",
   "nbconvert_exporter": "python",
   "pygments_lexer": "ipython3",
   "version": "3.10.12"
  }
 },
 "nbformat": 4,
 "nbformat_minor": 5
}
