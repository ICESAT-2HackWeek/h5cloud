{
 "cells": [
  {
   "cell_type": "code",
   "execution_count": 1,
   "id": "8a7ac7b4-40fe-4396-8531-76ecd67a040b",
   "metadata": {},
   "outputs": [],
   "source": [
    "import cProfile\n",
    "import earthaccess\n",
    "import numpy as np\n",
    "import xarray as xr\n",
    "\n",
    "try:\n",
    "    import h5coro\n",
    "except:\n",
    "    !mamba install -c conda-forge h5coro --yes\n",
    "    import h5coro\n",
    "\n",
    "from h5coro import h5coro, s3driver, filedriver\n",
    "h5coro.config(errorChecking=True, verbose=False, enableAttributes=False)"
   ]
  },
  {
   "cell_type": "markdown",
   "id": "d1070a60-c4a4-400c-9a8a-9b5c26eeb9c7",
   "metadata": {
    "tags": [],
    "user_expressions": []
   },
   "source": [
    "# Benchmarks\n",
    "\n",
    "These initial benchmarks compare different methods for access"
   ]
  },
  {
   "cell_type": "markdown",
   "id": "8f701c4d-9cbd-46bb-9047-98fcb1c67042",
   "metadata": {
    "tags": [],
    "user_expressions": []
   },
   "source": [
    "# Setup credentials"
   ]
  },
  {
   "cell_type": "code",
   "execution_count": 2,
   "id": "ef607f86-b21f-46fd-95a2-36203d82ccef",
   "metadata": {},
   "outputs": [
    {
     "name": "stdout",
     "output_type": "stream",
     "text": [
      "EARTHDATA_USERNAME and EARTHDATA_PASSWORD are not set in the current environment, try setting them or use a different strategy (netrc, interactive)\n",
      "No .netrc found in /home/jovyan\n"
     ]
    },
    {
     "name": "stdin",
     "output_type": "stream",
     "text": [
      "Enter your Earthdata Login username:  aimeeb\n",
      "Enter your Earthdata password:  ········\n"
     ]
    },
    {
     "name": "stdout",
     "output_type": "stream",
     "text": [
      "You're now authenticated with NASA Earthdata Login\n",
      "Using token with expiration date: 08/25/2023\n",
      "Using user provided credentials for EDL\n"
     ]
    }
   ],
   "source": [
    "auth = earthaccess.login()"
   ]
  },
  {
   "cell_type": "code",
   "execution_count": 3,
   "id": "a20570f6-4475-49ce-8587-bc38d719a767",
   "metadata": {
    "tags": []
   },
   "outputs": [],
   "source": [
    "s3access = earthaccess.get_s3fs_session(daac=\"NSIDC\", provider=auth)\n",
    "s3_creds = auth.get_s3_credentials(daac='NSIDC')"
   ]
  },
  {
   "cell_type": "markdown",
   "id": "88f5934d-f85d-4185-a191-a066f804df72",
   "metadata": {
    "tags": [],
    "user_expressions": []
   },
   "source": [
    "# Search for data"
   ]
  },
  {
   "cell_type": "code",
   "execution_count": 4,
   "id": "410d0981-a727-436b-8eee-f456644db386",
   "metadata": {},
   "outputs": [
    {
     "name": "stdout",
     "output_type": "stream",
     "text": [
      "Granules found: 231\n"
     ]
    }
   ],
   "source": [
    "results = earthaccess.search_data(\n",
    "    short_name='ATL03',\n",
    "    cloud_hosted=True,\n",
    "    bounding_box=(-10, 20, 10, 50),\n",
    "    temporal=(\"2020-01\", \"2020-02\"),\n",
    "    count=10\n",
    ")"
   ]
  },
  {
   "cell_type": "code",
   "execution_count": 5,
   "id": "2b4824c6-b16c-4eeb-adc8-8ed78e8a8018",
   "metadata": {
    "tags": []
   },
   "outputs": [
    {
     "data": {
      "text/plain": [
       "'s3://nsidc-cumulus-prod-protected/ATLAS/ATL03/005/2020/01/01/ATL03_20200101053635_00840606_005_01.h5'"
      ]
     },
     "execution_count": 5,
     "metadata": {},
     "output_type": "execute_result"
    }
   ],
   "source": [
    "file_parts = results[0].data_links()[0].split('/')\n",
    "bucket = file_parts[3]\n",
    "path_to_hdf5_file = '/'.join(file_parts[4:])\n",
    "s3url = f\"s3://{bucket}/{path_to_hdf5_file}\"\n",
    "s3url"
   ]
  },
  {
   "cell_type": "markdown",
   "id": "1c3f9739-d07f-45b3-8fd1-d134f6f509a1",
   "metadata": {
    "tags": [],
    "user_expressions": []
   },
   "source": [
    "# Benchmark time to get the photon height as a numpy array from one granule using different libraries.\n",
    "\n",
    "We return the mean just to check the data is the same."
   ]
  },
  {
   "cell_type": "markdown",
   "id": "6f74714b-5192-49c7-9a65-7f738de90c68",
   "metadata": {
    "tags": [],
    "user_expressions": []
   },
   "source": [
    "## Xarray"
   ]
  },
  {
   "cell_type": "code",
   "execution_count": 9,
   "id": "c74c35c2-b921-457a-846a-fb692a1c954d",
   "metadata": {
    "tags": []
   },
   "outputs": [
    {
     "name": "stdout",
     "output_type": "stream",
     "text": [
      "CPU times: user 18.9 s, sys: 4.86 s, total: 23.7 s\n",
      "Wall time: 1min 4s\n"
     ]
    },
    {
     "data": {
      "text/plain": [
       "681.68933"
      ]
     },
     "execution_count": 9,
     "metadata": {},
     "output_type": "execute_result"
    }
   ],
   "source": [
    "%%time\n",
    "#cProfile.run(\"xr.open_dataset(s3access.open(s3url, 'rb'), group='/gt2l/heights')\")\n",
    "ds = xr.open_dataset(s3access.open(s3url, 'rb'), group='/gt2l/heights')\n",
    "ds['h_ph'].values.mean()"
   ]
  },
  {
   "cell_type": "markdown",
   "id": "2e05d15a-1e58-4c13-baea-27702074ddce",
   "metadata": {
    "tags": [],
    "user_expressions": []
   },
   "source": [
    "## h5coro"
   ]
  },
  {
   "cell_type": "code",
   "execution_count": 7,
   "id": "2a666580-c03d-42f3-9610-c3db1b82f5a2",
   "metadata": {
    "tags": []
   },
   "outputs": [
    {
     "name": "stdout",
     "output_type": "stream",
     "text": [
      "CPU times: user 136 ms, sys: 57 ms, total: 193 ms\n",
      "Wall time: 811 ms\n"
     ]
    },
    {
     "data": {
      "text/plain": [
       "681.68933"
      ]
     },
     "execution_count": 7,
     "metadata": {},
     "output_type": "execute_result"
    }
   ],
   "source": [
    "%%time\n",
    "h5obj = h5coro.H5Coro(f'{bucket}/{path_to_hdf5_file}', \n",
    "                      s3driver.S3Driver,\n",
    "                      credentials={\"aws_access_key_id\": s3_creds[\"accessKeyId\"],\n",
    "                                 \"aws_secret_access_key\": s3_creds[\"secretAccessKey\"],\n",
    "                                 \"aws_session_token\": s3_creds[\"sessionToken\"], })\n",
    "\n",
    "dataset = '/gt2l/heights/h_ph'\n",
    "output = h5obj.readDatasets(datasets=[dataset], block=True)\n",
    "h5obj[dataset].values.mean()"
   ]
  },
  {
   "cell_type": "markdown",
   "id": "2c883bef-75db-449d-9342-01a38b467b22",
   "metadata": {
    "tags": [],
    "user_expressions": []
   },
   "source": [
    "# Future\n",
    "\n",
    "* Add in benchmarks from https://github.com/nsidc/cloud-optimized-icesat2/issues/2\n",
    "* Subsetting to bounding box\n",
    "* Merge data from different beams\n",
    "* Creation of different python data objects (xarray dataset, dataframe)"
   ]
  },
  {
   "cell_type": "code",
   "execution_count": 8,
   "id": "180cae83-e3f2-4840-912e-9b2cc56b45f8",
   "metadata": {
    "tags": []
   },
   "outputs": [],
   "source": [
    "# A few different variables we may want.\n",
    "beams = [f\"gt{beam}\" for beam in ['1l', '1r', '2l', '2r', '3l', '3r']]\n",
    "beam = beams[0]\n",
    "delta_time = f'{beam}/heights/delta_time'\n",
    "photo_along_track = f'{beam}/heights/ds_ph_along'\n",
    "lat = f'{beam}/heights/lat_ph'\n",
    "lon = f'{beam}/heights/lon_ph'\n",
    "height = f'{beam}/heights/h_ph'"
   ]
  }
 ],
 "metadata": {
  "kernelspec": {
   "display_name": "Python 3 (ipykernel)",
   "language": "python",
   "name": "python3"
  },
  "language_info": {
   "codemirror_mode": {
    "name": "ipython",
    "version": 3
   },
   "file_extension": ".py",
   "mimetype": "text/x-python",
   "name": "python",
   "nbconvert_exporter": "python",
   "pygments_lexer": "ipython3",
   "version": "3.10.12"
  }
 },
 "nbformat": 4,
 "nbformat_minor": 5
}
