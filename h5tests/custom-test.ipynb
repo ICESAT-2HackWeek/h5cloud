{
 "cells": [
  {
   "cell_type": "code",
   "execution_count": null,
   "id": "48daa283-8e1e-46e3-b4ce-1a0271b86d37",
   "metadata": {},
   "outputs": [],
   "source": [
    "%load_ext autoreload\n",
    "%autoreload \n",
    "\n",
    "import sys\n",
    "import os\n",
    "current = os.path.abspath('..')\n",
    "sys.path.append(current)\n",
    "from h5tests.xarray_arr_len import XarrayArrLen\n",
    "from helpers.links import S3Links"
   ]
  },
  {
   "cell_type": "code",
   "execution_count": null,
   "id": "830f4c16-16af-4152-8e35-90b05c8fc019",
   "metadata": {},
   "outputs": [],
   "source": [
    "data_format = 'kerchunk-repacked'\n",
    "files = S3Links().get_links_by_format(data_format)\n",
    "files[0]"
   ]
  },
  {
   "cell_type": "code",
   "execution_count": null,
   "id": "d6ce77fd-f9cd-48b1-94cd-1fe57f52e11f",
   "metadata": {},
   "outputs": [],
   "source": [
    "test = XarrayArrLen(data_format, [])"
   ]
  }
 ],
 "metadata": {
  "kernelspec": {
   "display_name": "Python 3 (ipykernel)",
   "language": "python",
   "name": "python3"
  },
  "language_info": {
   "codemirror_mode": {
    "name": "ipython",
    "version": 3
   },
   "file_extension": ".py",
   "mimetype": "text/x-python",
   "name": "python",
   "nbconvert_exporter": "python",
   "pygments_lexer": "ipython3",
   "version": "3.10.12"
  }
 },
 "nbformat": 4,
 "nbformat_minor": 5
}
