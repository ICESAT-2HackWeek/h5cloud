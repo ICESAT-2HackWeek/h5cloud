{
 "cells": [
  {
   "cell_type": "code",
   "execution_count": null,
   "id": "48daa283-8e1e-46e3-b4ce-1a0271b86d37",
   "metadata": {
    "tags": []
   },
   "outputs": [],
   "source": [
    "%load_ext autoreload\n",
    "%autoreload \n",
    "\n",
    "import sys\n",
    "import os\n",
    "current = os.path.abspath('..')\n",
    "sys.path.append(current)\n",
    "from xarray_arr_mean import XarrayArrMean\n",
    "from helpers.links import S3Links"
   ]
  },
  {
   "cell_type": "code",
   "execution_count": null,
   "id": "d6ce77fd-f9cd-48b1-94cd-1fe57f52e11f",
   "metadata": {
    "tags": []
   },
   "outputs": [],
   "source": [
    "test = XarrayArrMean('atl03-midsize-original', store_results=False)"
   ]
  },
  {
   "cell_type": "code",
   "execution_count": null,
   "id": "60eeeb1b-9531-4fec-a847-3ca5304c4685",
   "metadata": {
    "tags": []
   },
   "outputs": [],
   "source": [
    "test.run()"
   ]
  },
  {
   "cell_type": "code",
   "execution_count": null,
   "id": "64c4584f-c527-44bb-8c05-68a96820d1ff",
   "metadata": {},
   "outputs": [],
   "source": []
  }
 ],
 "metadata": {
  "kernelspec": {
   "display_name": "Python 3 (ipykernel)",
   "language": "python",
   "name": "python3"
  },
  "language_info": {
   "codemirror_mode": {
    "name": "ipython",
    "version": 3
   },
   "file_extension": ".py",
   "mimetype": "text/x-python",
   "name": "python",
   "nbconvert_exporter": "python",
   "pygments_lexer": "ipython3",
   "version": "3.9.18"
  }
 },
 "nbformat": 4,
 "nbformat_minor": 5
}
