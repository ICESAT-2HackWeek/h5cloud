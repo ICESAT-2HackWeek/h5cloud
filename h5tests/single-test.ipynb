{
 "cells": [
  {
   "cell_type": "code",
   "execution_count": 1,
   "id": "48daa283-8e1e-46e3-b4ce-1a0271b86d37",
   "metadata": {
    "tags": []
   },
   "outputs": [],
   "source": [
    "%load_ext autoreload\n",
    "%autoreload \n",
    "\n",
    "import sys\n",
    "import os\n",
    "current = os.path.abspath('..')\n",
    "sys.path.append(current)\n",
    "from xarray_arr_mean import XarrayArrMean"
   ]
  },
  {
   "cell_type": "code",
   "execution_count": 2,
   "id": "d6ce77fd-f9cd-48b1-94cd-1fe57f52e11f",
   "metadata": {
    "tags": []
   },
   "outputs": [],
   "source": [
    "files = [\n",
    "    \"s3://its-live-data/cloud-experiments/h5cloud/atl03/big/original/ATL03_20181120182818_08110112_006_02.h5\",\n",
    "    \"s3://its-live-data/cloud-experiments/h5cloud/atl03/big/original/ATL03_20190219140808_08110212_006_02.h5\",\n",
    "]\n",
    "test_original = XarrayArrMean('atl03-bigsize-original', files=files, store_results=False, anon_access=True)"
   ]
  },
  {
   "cell_type": "code",
   "execution_count": null,
   "id": "60eeeb1b-9531-4fec-a847-3ca5304c4685",
   "metadata": {
    "tags": []
   },
   "outputs": [],
   "source": [
    "# don't even try this out of region.... more than 30 minutes \n",
    "io_params ={\n",
    "    \"fsspec_params\": {},\n",
    "    \"h5py_params\" : {}\n",
    "}\n",
    "test_original.run(io_params)"
   ]
  },
  {
   "cell_type": "code",
   "execution_count": null,
   "id": "64c4584f-c527-44bb-8c05-68a96820d1ff",
   "metadata": {},
   "outputs": [],
   "source": [
    "files = [\n",
    "    \"s3://its-live-data/cloud-experiments/h5cloud/atl03/big/repacked/ATL03_20181120182818_08110112_006_02_repacked.h5\",\n",
    "    \"s3://its-live-data/cloud-experiments/h5cloud/atl03/big/repacked/ATL03_20190219140808_08110212_006_02_repacked.h5\",\n",
    "]\n",
    "test_cloud = XarrayArrMean('atl03-bigsize-repacked', files=files, store_results=False, anon_access=True)"
   ]
  },
  {
   "cell_type": "code",
   "execution_count": null,
   "id": "dfd4e404-0412-4d2f-8eba-ca39a670e369",
   "metadata": {},
   "outputs": [],
   "source": [
    "io_params ={\n",
    "    \"fsspec_params\": {\n",
    "        # \"skip_instance_cache\": True\n",
    "        \"cache_type\": \"blockcache\",\n",
    "        \"block_size\": 8*1024*1024\n",
    "    },\n",
    "    \"h5py_params\" : {\n",
    "        \"driver_kwds\": {\n",
    "            \"page_buf_size\": 32*1024*1024,\n",
    "            \"rdcc_nbytes\": 8*1024*1024\n",
    "        }\n",
    "\n",
    "    }\n",
    "}\n",
    "test_cloud.run(io_params)"
   ]
  }
 ],
 "metadata": {
  "kernelspec": {
   "display_name": "Python 3 (ipykernel)",
   "language": "python",
   "name": "python3"
  },
  "language_info": {
   "codemirror_mode": {
    "name": "ipython",
    "version": 3
   },
   "file_extension": ".py",
   "mimetype": "text/x-python",
   "name": "python",
   "nbconvert_exporter": "python",
   "pygments_lexer": "ipython3",
   "version": "3.12.1"
  }
 },
 "nbformat": 4,
 "nbformat_minor": 5
}
